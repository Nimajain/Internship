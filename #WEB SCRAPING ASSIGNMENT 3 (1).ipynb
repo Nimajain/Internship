{
 "cells": [
  {
   "cell_type": "raw",
   "id": "e41a74ab",
   "metadata": {},
   "source": [
    "                                       WEB SCRAPING ASSIGNMENT 3"
   ]
  },
  {
   "cell_type": "code",
   "execution_count": 168,
   "id": "3dd12f13",
   "metadata": {},
   "outputs": [],
   "source": [
    "import pandas as pd\n",
    "import selenium\n",
    "from selenium import webdriver\n",
    "import time\n",
    "from selenium.common.exceptions import StaleElementReferenceException, NoSuchElementException\n",
    "import re"
   ]
  },
  {
   "cell_type": "code",
   "execution_count": 148,
   "id": "f6eaf14a",
   "metadata": {},
   "outputs": [],
   "source": [
    "driver = webdriver.Chrome()"
   ]
  },
  {
   "cell_type": "code",
   "execution_count": 149,
   "id": "b5ae11b8",
   "metadata": {},
   "outputs": [],
   "source": [
    "url= \"https://www.amazon.in/\"\n",
    "driver.get(url)"
   ]
  },
  {
   "cell_type": "code",
   "execution_count": 150,
   "id": "787eeb54",
   "metadata": {},
   "outputs": [
    {
     "name": "stdout",
     "output_type": "stream",
     "text": [
      "please enter product here--->headphones\n"
     ]
    }
   ],
   "source": [
    "inputU = input('please enter product here--->')"
   ]
  },
  {
   "cell_type": "code",
   "execution_count": 151,
   "id": "e24de909",
   "metadata": {},
   "outputs": [],
   "source": [
    "search_bar = driver.find_element(By.XPATH,'//*[@id=\"twotabsearchtextbox\"]')    \n",
    "search_bar.send_keys(inputU)       \n",
    "search_button = driver.find_element(By.XPATH,'//*[@id=\"nav-search-submit-button\"]')    \n",
    "search_button.click()       "
   ]
  },
  {
   "cell_type": "code",
   "execution_count": 152,
   "id": "56300280",
   "metadata": {},
   "outputs": [],
   "source": [
    "productName=[]"
   ]
  },
  {
   "cell_type": "code",
   "execution_count": 154,
   "id": "c4fbd1af",
   "metadata": {},
   "outputs": [
    {
     "name": "stdout",
     "output_type": "stream",
     "text": [
      "23 ['Sony PS5 Pulse 3D Gaming Wireless Over Ear Headset with Dual Noise-Cancellation Mic, 3.5mm Jack, Tempest 3D audio, USB Type-C charging, 12H Battery (Black)', 'HAMMER Bash Max Over The Ear Wireless Bluetooth Headphones with Mic, Touch Control, Deep Bass, Upto 18 Hours Playtime, Bluetooth 5.3, Workout/Travel (Cool Grey)', 'Sony WH-CH520, Wireless On-Ear Bluetooth Headphones with Mic, Upto 50 Hours Playtime, DSEE Upscale, Multipoint Connectivity/Dual Pairing,Voice Assistant App Support for Mobile Phones (Blue)', 'boAt BassHeads 100 in-Ear Wired Headphones with Mic (Black)', 'ZEBRONICS Thunder Bluetooth 5.3 Wireless Headphones with 60H Backup, Gaming Mode, Dual Pairing, ENC, AUX, Micro SD, Voice Assistant, Comfortable Earcups, Call Function(Sea Green)', 'JBL C100SI Wired In Ear Headphones with Mic, JBL Pure Bass Sound, One Button Multi-function Remote, Angled Buds for Comfort fit (Black)', 'Logitech H111 Wired On Ear Headphones With Mic Black', 'Sony WH-CH520, Wireless On-Ear Bluetooth Headphones with Mic, Upto 50 Hours Playtime, DSEE Upscale, Multipoint Connectivity/Dual Pairing,Voice Assistant App Support for Mobile Phones (Black)', 'HAMMER Bash Max Over The Ear Wireless Bluetooth Headphones with Mic, Touch Control, Deep Bass, Upto 18 Hours Playtime, Bluetooth 5.3, Workout/Travel (Cool Grey)', 'Zebronics Zeb-Storm Wired On Ear Headphone with 3.5mm Jack, Built-in Microphone for Calling, 1.5 Meter Cable, Soft Ear Cushion, Adjustable Headband, Foldable Ear Cups and Lightweight Design (Black)', 'Sennheiser ACCENTUM Plus Wireless Bluetooth Headphones Audio with Quick-Charge Feature, 50-Hour Battery Playtime, Adaptive Hybrid ANC, Sound Personalization and 2 Yr Warranty- Black', 'HP 500 Bluetooth Wireless Over Ear Headphones with Bluetooth 5.0,2X Speed, 4X Connectivity, with Mic,Water-Resistant Design and Up to 20 Hours Battery Life. 1-Year Warranty (2J875Aa)', 'Noise Two Wireless On-Ear Headphones with 50 Hours Playtime, Low Latency(up to 40ms), 4 Play Modes, Dual Pairing, BT v5.3 (Calm White)', 'ZEBRONICS Zeb-Dynamic Wireless Headphones with 34 hrs. of Playback time.(Yellow)', 'HP 500 Bluetooth Wireless Over Ear Headphones with Bluetooth 5.0,2X Speed, 4X Connectivity, with Mic,Water-Resistant Design and Up to 20 Hours Battery Life. 1-Year Warranty (2J875Aa)', 'Sennheiser HD 350BT Wireless Bluetooth Over The Ear Headphone with Mic for Music & Calls, Desgined in Germany, 30h Battery, 2 Yr Warranty (Black)', 'Sony MDR-ZX110A Wired On Ear Headphone without Mic (White)', 'Sony WH-XB910N Extra BASS Noise Cancellation Headphones Wireless Bluetooth Over The Ear Headset with Mic, Alexa Voice Control, Google Fast Pair, AUX & Swift Pair, 30Hrs Battery Life (2022 Model)-Black', 'ZEBRONICS Zeb-Bro in Ear Wired Earphones with Mic, 3.5mm Audio Jack, 10mm Drivers, Phone/Tablet Compatible(Blue)', 'Sony WH-CH520, Wireless On-Ear Bluetooth Headphones with Mic, Upto 50 Hours Playtime, DSEE Upscale, Multipoint Connectivity/Dual Pairing,Voice Assistant App Support for Mobile Phones (White)', 'AKG K72 Closed Back Studio Headphones, Black, Pack of 1', 'Jabra Evolve2 75 PC Wireless On Ear Headset with 8-Microphone Technology - Dual Foam Stereo Headphones with Advanced Active Noise Cancelling, USB-A Bluetooth Adapter and MS Teams-Compatibility - Black', 'Boult Audio Z40 True Wireless in Ear Earbuds with 60H Playtime, Zen™ ENC Mic, Low Latency Gaming, Type-C Fast Charging, Made in India, 10mm Rich Bass Drivers, IPX5, Bluetooth 5.3 Ear Buds TWS (Blue)']\n"
     ]
    }
   ],
   "source": [
    "PName=driver.find_elements(By.XPATH,\"//span[@class='a-size-medium a-color-base a-text-normal']\")\n",
    "for i in PName:\n",
    "    if i.text is None :\n",
    "        productName.append(\"--\") \n",
    "    else:\n",
    "        productName.append(i.text)\n",
    "print(len(productName),productName)"
   ]
  },
  {
   "cell_type": "markdown",
   "id": "88d3d20c",
   "metadata": {},
   "source": [
    "Q: 2. In the above question, now scrape the following details of each product listed in first 3 pages of your search\n",
    "results and save it in a data frame and csv. In case if any product has less than 3 pages in search results then\n",
    "scrape all the products available under that product name. Details to be scraped are: \"Brand\n",
    "Name\", \"Name of the Product\", \"Price\", \"Return/Exchange\", \"Expected Delivery\", \"Availability\" and\n",
    "“Product URL”. In case, if any of the details are missing for any of the product then replace it by “-“. \n"
   ]
  },
  {
   "cell_type": "code",
   "execution_count": 155,
   "id": "bfb24bd9",
   "metadata": {},
   "outputs": [
    {
     "name": "stdout",
     "output_type": "stream",
     "text": [
      "Product urls of page 1 has been scraped.\n"
     ]
    },
    {
     "ename": "NoSuchElementException",
     "evalue": "Message: no such element: Unable to locate element: {\"method\":\"xpath\",\"selector\":\"//li[@class=\"a-last\"]/a\"}\n  (Session info: chrome=121.0.6167.161); For documentation on this error, please visit: https://www.selenium.dev/documentation/webdriver/troubleshooting/errors#no-such-element-exception\nStacktrace:\n\tGetHandleVerifier [0x00891673+52979]\n\t(No symbol) [0x00817961]\n\t(No symbol) [0x006FDD3D]\n\t(No symbol) [0x00735FBB]\n\t(No symbol) [0x007360FB]\n\t(No symbol) [0x0076CF92]\n\t(No symbol) [0x00754534]\n\t(No symbol) [0x0076B3FE]\n\t(No symbol) [0x00754286]\n\t(No symbol) [0x0072C063]\n\t(No symbol) [0x0072CECD]\n\tGetHandleVerifier [0x00BA8D83+3294723]\n\tGetHandleVerifier [0x00BE6CC2+3548482]\n\tGetHandleVerifier [0x00BE1C9C+3527964]\n\tGetHandleVerifier [0x0092870E+671630]\n\t(No symbol) [0x00821EB4]\n\t(No symbol) [0x0081D808]\n\t(No symbol) [0x0081D92D]\n\t(No symbol) [0x0080F7E0]\n\tBaseThreadInitThunk [0x766800F9+25]\n\tRtlGetAppContainerNamedObjectPath [0x77767BBE+286]\n\tRtlGetAppContainerNamedObjectPath [0x77767B8E+238]\n",
     "output_type": "error",
     "traceback": [
      "\u001b[1;31m---------------------------------------------------------------------------\u001b[0m",
      "\u001b[1;31mNoSuchElementException\u001b[0m                    Traceback (most recent call last)",
      "\u001b[1;32m~\\AppData\\Local\\Temp\\ipykernel_10788\\270254146.py\u001b[0m in \u001b[0;36m<module>\u001b[1;34m\u001b[0m\n\u001b[0;32m     14\u001b[0m \u001b[1;33m\u001b[0m\u001b[0m\n\u001b[0;32m     15\u001b[0m         \u001b[1;31m# Moving to next page\u001b[0m\u001b[1;33m\u001b[0m\u001b[1;33m\u001b[0m\u001b[0m\n\u001b[1;32m---> 16\u001b[1;33m         \u001b[0mnxt_button\u001b[0m \u001b[1;33m=\u001b[0m \u001b[0mdriver\u001b[0m\u001b[1;33m.\u001b[0m\u001b[0mfind_element\u001b[0m\u001b[1;33m(\u001b[0m\u001b[0mBy\u001b[0m\u001b[1;33m.\u001b[0m\u001b[0mXPATH\u001b[0m\u001b[1;33m,\u001b[0m\u001b[1;34m'//li[@class=\"a-last\"]/a'\u001b[0m\u001b[1;33m)\u001b[0m\u001b[1;33m\u001b[0m\u001b[1;33m\u001b[0m\u001b[0m\n\u001b[0m\u001b[0;32m     17\u001b[0m         \u001b[1;32mif\u001b[0m \u001b[0mnxt_button\u001b[0m\u001b[1;33m.\u001b[0m\u001b[0mtext\u001b[0m \u001b[1;33m==\u001b[0m \u001b[1;34m'Next→'\u001b[0m\u001b[1;33m:\u001b[0m\u001b[1;33m\u001b[0m\u001b[1;33m\u001b[0m\u001b[0m\n\u001b[0;32m     18\u001b[0m             \u001b[0mnxt_button\u001b[0m\u001b[1;33m.\u001b[0m\u001b[0mclick\u001b[0m\u001b[1;33m(\u001b[0m\u001b[1;33m)\u001b[0m\u001b[1;33m\u001b[0m\u001b[1;33m\u001b[0m\u001b[0m\n",
      "\u001b[1;32m~\\Downloads\\New folder\\lib\\site-packages\\selenium\\webdriver\\remote\\webdriver.py\u001b[0m in \u001b[0;36mfind_element\u001b[1;34m(self, by, value)\u001b[0m\n\u001b[0;32m    738\u001b[0m             \u001b[0mvalue\u001b[0m \u001b[1;33m=\u001b[0m \u001b[1;34mf'[name=\"{value}\"]'\u001b[0m\u001b[1;33m\u001b[0m\u001b[1;33m\u001b[0m\u001b[0m\n\u001b[0;32m    739\u001b[0m \u001b[1;33m\u001b[0m\u001b[0m\n\u001b[1;32m--> 740\u001b[1;33m         \u001b[1;32mreturn\u001b[0m \u001b[0mself\u001b[0m\u001b[1;33m.\u001b[0m\u001b[0mexecute\u001b[0m\u001b[1;33m(\u001b[0m\u001b[0mCommand\u001b[0m\u001b[1;33m.\u001b[0m\u001b[0mFIND_ELEMENT\u001b[0m\u001b[1;33m,\u001b[0m \u001b[1;33m{\u001b[0m\u001b[1;34m\"using\"\u001b[0m\u001b[1;33m:\u001b[0m \u001b[0mby\u001b[0m\u001b[1;33m,\u001b[0m \u001b[1;34m\"value\"\u001b[0m\u001b[1;33m:\u001b[0m \u001b[0mvalue\u001b[0m\u001b[1;33m}\u001b[0m\u001b[1;33m)\u001b[0m\u001b[1;33m[\u001b[0m\u001b[1;34m\"value\"\u001b[0m\u001b[1;33m]\u001b[0m\u001b[1;33m\u001b[0m\u001b[1;33m\u001b[0m\u001b[0m\n\u001b[0m\u001b[0;32m    741\u001b[0m \u001b[1;33m\u001b[0m\u001b[0m\n\u001b[0;32m    742\u001b[0m     \u001b[1;32mdef\u001b[0m \u001b[0mfind_elements\u001b[0m\u001b[1;33m(\u001b[0m\u001b[0mself\u001b[0m\u001b[1;33m,\u001b[0m \u001b[0mby\u001b[0m\u001b[1;33m=\u001b[0m\u001b[0mBy\u001b[0m\u001b[1;33m.\u001b[0m\u001b[0mID\u001b[0m\u001b[1;33m,\u001b[0m \u001b[0mvalue\u001b[0m\u001b[1;33m:\u001b[0m \u001b[0mOptional\u001b[0m\u001b[1;33m[\u001b[0m\u001b[0mstr\u001b[0m\u001b[1;33m]\u001b[0m \u001b[1;33m=\u001b[0m \u001b[1;32mNone\u001b[0m\u001b[1;33m)\u001b[0m \u001b[1;33m->\u001b[0m \u001b[0mList\u001b[0m\u001b[1;33m[\u001b[0m\u001b[0mWebElement\u001b[0m\u001b[1;33m]\u001b[0m\u001b[1;33m:\u001b[0m\u001b[1;33m\u001b[0m\u001b[1;33m\u001b[0m\u001b[0m\n",
      "\u001b[1;32m~\\Downloads\\New folder\\lib\\site-packages\\selenium\\webdriver\\remote\\webdriver.py\u001b[0m in \u001b[0;36mexecute\u001b[1;34m(self, driver_command, params)\u001b[0m\n\u001b[0;32m    344\u001b[0m         \u001b[0mresponse\u001b[0m \u001b[1;33m=\u001b[0m \u001b[0mself\u001b[0m\u001b[1;33m.\u001b[0m\u001b[0mcommand_executor\u001b[0m\u001b[1;33m.\u001b[0m\u001b[0mexecute\u001b[0m\u001b[1;33m(\u001b[0m\u001b[0mdriver_command\u001b[0m\u001b[1;33m,\u001b[0m \u001b[0mparams\u001b[0m\u001b[1;33m)\u001b[0m\u001b[1;33m\u001b[0m\u001b[1;33m\u001b[0m\u001b[0m\n\u001b[0;32m    345\u001b[0m         \u001b[1;32mif\u001b[0m \u001b[0mresponse\u001b[0m\u001b[1;33m:\u001b[0m\u001b[1;33m\u001b[0m\u001b[1;33m\u001b[0m\u001b[0m\n\u001b[1;32m--> 346\u001b[1;33m             \u001b[0mself\u001b[0m\u001b[1;33m.\u001b[0m\u001b[0merror_handler\u001b[0m\u001b[1;33m.\u001b[0m\u001b[0mcheck_response\u001b[0m\u001b[1;33m(\u001b[0m\u001b[0mresponse\u001b[0m\u001b[1;33m)\u001b[0m\u001b[1;33m\u001b[0m\u001b[1;33m\u001b[0m\u001b[0m\n\u001b[0m\u001b[0;32m    347\u001b[0m             \u001b[0mresponse\u001b[0m\u001b[1;33m[\u001b[0m\u001b[1;34m\"value\"\u001b[0m\u001b[1;33m]\u001b[0m \u001b[1;33m=\u001b[0m \u001b[0mself\u001b[0m\u001b[1;33m.\u001b[0m\u001b[0m_unwrap_value\u001b[0m\u001b[1;33m(\u001b[0m\u001b[0mresponse\u001b[0m\u001b[1;33m.\u001b[0m\u001b[0mget\u001b[0m\u001b[1;33m(\u001b[0m\u001b[1;34m\"value\"\u001b[0m\u001b[1;33m,\u001b[0m \u001b[1;32mNone\u001b[0m\u001b[1;33m)\u001b[0m\u001b[1;33m)\u001b[0m\u001b[1;33m\u001b[0m\u001b[1;33m\u001b[0m\u001b[0m\n\u001b[0;32m    348\u001b[0m             \u001b[1;32mreturn\u001b[0m \u001b[0mresponse\u001b[0m\u001b[1;33m\u001b[0m\u001b[1;33m\u001b[0m\u001b[0m\n",
      "\u001b[1;32m~\\Downloads\\New folder\\lib\\site-packages\\selenium\\webdriver\\remote\\errorhandler.py\u001b[0m in \u001b[0;36mcheck_response\u001b[1;34m(self, response)\u001b[0m\n\u001b[0;32m    243\u001b[0m                 \u001b[0malert_text\u001b[0m \u001b[1;33m=\u001b[0m \u001b[0mvalue\u001b[0m\u001b[1;33m[\u001b[0m\u001b[1;34m\"alert\"\u001b[0m\u001b[1;33m]\u001b[0m\u001b[1;33m.\u001b[0m\u001b[0mget\u001b[0m\u001b[1;33m(\u001b[0m\u001b[1;34m\"text\"\u001b[0m\u001b[1;33m)\u001b[0m\u001b[1;33m\u001b[0m\u001b[1;33m\u001b[0m\u001b[0m\n\u001b[0;32m    244\u001b[0m             \u001b[1;32mraise\u001b[0m \u001b[0mexception_class\u001b[0m\u001b[1;33m(\u001b[0m\u001b[0mmessage\u001b[0m\u001b[1;33m,\u001b[0m \u001b[0mscreen\u001b[0m\u001b[1;33m,\u001b[0m \u001b[0mstacktrace\u001b[0m\u001b[1;33m,\u001b[0m \u001b[0malert_text\u001b[0m\u001b[1;33m)\u001b[0m  \u001b[1;31m# type: ignore[call-arg]  # mypy is not smart enough here\u001b[0m\u001b[1;33m\u001b[0m\u001b[1;33m\u001b[0m\u001b[0m\n\u001b[1;32m--> 245\u001b[1;33m         \u001b[1;32mraise\u001b[0m \u001b[0mexception_class\u001b[0m\u001b[1;33m(\u001b[0m\u001b[0mmessage\u001b[0m\u001b[1;33m,\u001b[0m \u001b[0mscreen\u001b[0m\u001b[1;33m,\u001b[0m \u001b[0mstacktrace\u001b[0m\u001b[1;33m)\u001b[0m\u001b[1;33m\u001b[0m\u001b[1;33m\u001b[0m\u001b[0m\n\u001b[0m",
      "\u001b[1;31mNoSuchElementException\u001b[0m: Message: no such element: Unable to locate element: {\"method\":\"xpath\",\"selector\":\"//li[@class=\"a-last\"]/a\"}\n  (Session info: chrome=121.0.6167.161); For documentation on this error, please visit: https://www.selenium.dev/documentation/webdriver/troubleshooting/errors#no-such-element-exception\nStacktrace:\n\tGetHandleVerifier [0x00891673+52979]\n\t(No symbol) [0x00817961]\n\t(No symbol) [0x006FDD3D]\n\t(No symbol) [0x00735FBB]\n\t(No symbol) [0x007360FB]\n\t(No symbol) [0x0076CF92]\n\t(No symbol) [0x00754534]\n\t(No symbol) [0x0076B3FE]\n\t(No symbol) [0x00754286]\n\t(No symbol) [0x0072C063]\n\t(No symbol) [0x0072CECD]\n\tGetHandleVerifier [0x00BA8D83+3294723]\n\tGetHandleVerifier [0x00BE6CC2+3548482]\n\tGetHandleVerifier [0x00BE1C9C+3527964]\n\tGetHandleVerifier [0x0092870E+671630]\n\t(No symbol) [0x00821EB4]\n\t(No symbol) [0x0081D808]\n\t(No symbol) [0x0081D92D]\n\t(No symbol) [0x0080F7E0]\n\tBaseThreadInitThunk [0x766800F9+25]\n\tRtlGetAppContainerNamedObjectPath [0x77767BBE+286]\n\tRtlGetAppContainerNamedObjectPath [0x77767B8E+238]\n"
     ]
    }
   ],
   "source": [
    "start_page = 0\n",
    "end_page = 3\n",
    "urls = []\n",
    "for page in range(start_page,end_page+1):\n",
    "    try:\n",
    "        page_urls = driver.find_elements(By.XPATH,'//a[@class=\"a-link-normal s-no-outline\"]')\n",
    "        \n",
    "       \n",
    "        for url in page_urls:\n",
    "            url = url.get_attribute('href')    \n",
    "            if url[0:4]=='http':               \n",
    "                urls.append(url)               \n",
    "        print(\"Product urls of page {} has been scraped.\".format(page+1))\n",
    "        \n",
    "        \n",
    "        nxt_button = driver.find_element(By.XPATH,'//li[@class=\"a-last\"]/a')      \n",
    "        if nxt_button.text == 'Next→':                                            \n",
    "            nxt_button.click()                                                    \n",
    "            time.sleep(5)                                                            \n",
    "        elif driver.find_element(By.XPATH,'//li[@class=\"a-disabled a-last\"]/a').text == 'Next→':    \n",
    "            print(\"No new pages exist. Breaking the loop\")  \n",
    "            break\n",
    "            \n",
    "    except StaleElementReferenceException as e:               \n",
    "        print(\"Stale Exception\")\n",
    "        next_page = nxt_button.get_attribute('href')      \n",
    "        driver.get(next_page)                               "
   ]
  },
  {
   "cell_type": "code",
   "execution_count": 156,
   "id": "8a41824a",
   "metadata": {},
   "outputs": [],
   "source": [
    "prod_dict = {}\n",
    "prod_dict['Brand']=[]\n",
    "prod_dict['Name']=[]\n",
    "prod_dict['Rating']=[]\n",
    "prod_dict['No. of ratings']=[]\n",
    "prod_dict['Price']=[]\n",
    "prod_dict['Return/Exchange']=[]\n",
    "prod_dict['Expected Delivery']=[] \n",
    "prod_dict['Availability']=[]\n",
    "prod_dict['Other Details']=[]\n",
    "prod_dict['URL']=[]"
   ]
  },
  {
   "cell_type": "code",
   "execution_count": 157,
   "id": "a3bff358",
   "metadata": {},
   "outputs": [
    {
     "name": "stdout",
     "output_type": "stream",
     "text": [
      "Scraping URL =  https://www.amazon.in/sspa/click?ie=UTF8&spc=MTo2NTI1MjkwMzc5NTE0MDQ2OjE3MDgwNzMxOTY6c3BfYXRmOjMwMDEyMDMwNjY1OTYzMjo6MDo6&url=%2FPlayStation-Wireless-PlayStation%25C2%25AE5-Noise-Cancellation-Charging%2Fdp%2FB09KRYLYDH%2Fref%3Dsr_1_1_sspa%3Fcrid%3D3J9YZGBE5UEXE%26dib%3DeyJ2IjoiMSJ9.zUOpKvfYGGUxDakT-Y5tsDN_Wp6eStGpGw2kXy-6a63DigUUm2qlMhaBDYCk21Io6_UO7g7zJ8t8hAoSkn6XIWA7HPDpO48aC_QNYdJn6nUD3V8VbOpJk8aE8KfajeQ2xRe24LUGoLo4ZNv7hPSoF4dIWOazxzppGbfYIgeidZ3OJP_hFrpdCx1xsyMYKK7dG4nrIpLfw9d2fVGqpVYJ_fa-9na7LCO3p0E7jxJoqRg.kmXlqPE5zVYWGvaquN0s3kmMTX_KpYG4oDQsvykaGqI%26dib_tag%3Dse%26keywords%3Dheadphones%26qid%3D1708073196%26sprefix%3Dheadphones%252Caps%252C312%26sr%3D8-1-spons%26sp_csd%3Dd2lkZ2V0TmFtZT1zcF9hdGY%26psc%3D1\n",
      "Scraping URL =  https://www.amazon.in/sspa/click?ie=UTF8&spc=MTo2NTI1MjkwMzc5NTE0MDQ2OjE3MDgwNzMxOTY6c3BfYXRmOjMwMDA3NjIxMTkzMzgzMjo6MDo6&url=%2FHAMMER-Bash-Max-Bluetooth-Headphones%2Fdp%2FB0CBG1YG5F%2Fref%3Dsr_1_2_sspa%3Fcrid%3D3J9YZGBE5UEXE%26dib%3DeyJ2IjoiMSJ9.zUOpKvfYGGUxDakT-Y5tsDN_Wp6eStGpGw2kXy-6a63DigUUm2qlMhaBDYCk21Io6_UO7g7zJ8t8hAoSkn6XIWA7HPDpO48aC_QNYdJn6nUD3V8VbOpJk8aE8KfajeQ2xRe24LUGoLo4ZNv7hPSoF4dIWOazxzppGbfYIgeidZ3OJP_hFrpdCx1xsyMYKK7dG4nrIpLfw9d2fVGqpVYJ_fa-9na7LCO3p0E7jxJoqRg.kmXlqPE5zVYWGvaquN0s3kmMTX_KpYG4oDQsvykaGqI%26dib_tag%3Dse%26keywords%3Dheadphones%26qid%3D1708073196%26sprefix%3Dheadphones%252Caps%252C312%26sr%3D8-2-spons%26sp_csd%3Dd2lkZ2V0TmFtZT1zcF9hdGY%26psc%3D1\n"
     ]
    },
    {
     "ename": "KeyboardInterrupt",
     "evalue": "",
     "output_type": "error",
     "traceback": [
      "\u001b[1;31m---------------------------------------------------------------------------\u001b[0m",
      "\u001b[1;31mKeyboardInterrupt\u001b[0m                         Traceback (most recent call last)",
      "\u001b[1;32m~\\AppData\\Local\\Temp\\ipykernel_10788\\2571167836.py\u001b[0m in \u001b[0;36m<module>\u001b[1;34m\u001b[0m\n\u001b[0;32m      5\u001b[0m \u001b[1;33m\u001b[0m\u001b[0m\n\u001b[0;32m      6\u001b[0m     \u001b[1;32mtry\u001b[0m\u001b[1;33m:\u001b[0m\u001b[1;33m\u001b[0m\u001b[1;33m\u001b[0m\u001b[0m\n\u001b[1;32m----> 7\u001b[1;33m         \u001b[0mbrand\u001b[0m \u001b[1;33m=\u001b[0m \u001b[0mdriver\u001b[0m\u001b[1;33m.\u001b[0m\u001b[0mfind_element\u001b[0m\u001b[1;33m(\u001b[0m\u001b[0mBy\u001b[0m\u001b[1;33m.\u001b[0m\u001b[0mXPATH\u001b[0m\u001b[1;33m,\u001b[0m\u001b[1;34m'//a[@id=\"bylineInfo\"]'\u001b[0m\u001b[1;33m)\u001b[0m\u001b[1;33m\u001b[0m\u001b[1;33m\u001b[0m\u001b[0m\n\u001b[0m\u001b[0;32m      8\u001b[0m         \u001b[0mprod_dict\u001b[0m\u001b[1;33m[\u001b[0m\u001b[1;34m'Brand'\u001b[0m\u001b[1;33m]\u001b[0m\u001b[1;33m.\u001b[0m\u001b[0mappend\u001b[0m\u001b[1;33m(\u001b[0m\u001b[0mbrand\u001b[0m\u001b[1;33m.\u001b[0m\u001b[0mtext\u001b[0m\u001b[1;33m)\u001b[0m\u001b[1;33m\u001b[0m\u001b[1;33m\u001b[0m\u001b[0m\n\u001b[0;32m      9\u001b[0m     \u001b[1;32mexcept\u001b[0m \u001b[0mNoSuchElementException\u001b[0m\u001b[1;33m:\u001b[0m\u001b[1;33m\u001b[0m\u001b[1;33m\u001b[0m\u001b[0m\n",
      "\u001b[1;32m~\\Downloads\\New folder\\lib\\site-packages\\selenium\\webdriver\\remote\\webdriver.py\u001b[0m in \u001b[0;36mfind_element\u001b[1;34m(self, by, value)\u001b[0m\n\u001b[0;32m    738\u001b[0m             \u001b[0mvalue\u001b[0m \u001b[1;33m=\u001b[0m \u001b[1;34mf'[name=\"{value}\"]'\u001b[0m\u001b[1;33m\u001b[0m\u001b[1;33m\u001b[0m\u001b[0m\n\u001b[0;32m    739\u001b[0m \u001b[1;33m\u001b[0m\u001b[0m\n\u001b[1;32m--> 740\u001b[1;33m         \u001b[1;32mreturn\u001b[0m \u001b[0mself\u001b[0m\u001b[1;33m.\u001b[0m\u001b[0mexecute\u001b[0m\u001b[1;33m(\u001b[0m\u001b[0mCommand\u001b[0m\u001b[1;33m.\u001b[0m\u001b[0mFIND_ELEMENT\u001b[0m\u001b[1;33m,\u001b[0m \u001b[1;33m{\u001b[0m\u001b[1;34m\"using\"\u001b[0m\u001b[1;33m:\u001b[0m \u001b[0mby\u001b[0m\u001b[1;33m,\u001b[0m \u001b[1;34m\"value\"\u001b[0m\u001b[1;33m:\u001b[0m \u001b[0mvalue\u001b[0m\u001b[1;33m}\u001b[0m\u001b[1;33m)\u001b[0m\u001b[1;33m[\u001b[0m\u001b[1;34m\"value\"\u001b[0m\u001b[1;33m]\u001b[0m\u001b[1;33m\u001b[0m\u001b[1;33m\u001b[0m\u001b[0m\n\u001b[0m\u001b[0;32m    741\u001b[0m \u001b[1;33m\u001b[0m\u001b[0m\n\u001b[0;32m    742\u001b[0m     \u001b[1;32mdef\u001b[0m \u001b[0mfind_elements\u001b[0m\u001b[1;33m(\u001b[0m\u001b[0mself\u001b[0m\u001b[1;33m,\u001b[0m \u001b[0mby\u001b[0m\u001b[1;33m=\u001b[0m\u001b[0mBy\u001b[0m\u001b[1;33m.\u001b[0m\u001b[0mID\u001b[0m\u001b[1;33m,\u001b[0m \u001b[0mvalue\u001b[0m\u001b[1;33m:\u001b[0m \u001b[0mOptional\u001b[0m\u001b[1;33m[\u001b[0m\u001b[0mstr\u001b[0m\u001b[1;33m]\u001b[0m \u001b[1;33m=\u001b[0m \u001b[1;32mNone\u001b[0m\u001b[1;33m)\u001b[0m \u001b[1;33m->\u001b[0m \u001b[0mList\u001b[0m\u001b[1;33m[\u001b[0m\u001b[0mWebElement\u001b[0m\u001b[1;33m]\u001b[0m\u001b[1;33m:\u001b[0m\u001b[1;33m\u001b[0m\u001b[1;33m\u001b[0m\u001b[0m\n",
      "\u001b[1;32m~\\Downloads\\New folder\\lib\\site-packages\\selenium\\webdriver\\remote\\webdriver.py\u001b[0m in \u001b[0;36mexecute\u001b[1;34m(self, driver_command, params)\u001b[0m\n\u001b[0;32m    342\u001b[0m                 \u001b[0mparams\u001b[0m\u001b[1;33m[\u001b[0m\u001b[1;34m\"sessionId\"\u001b[0m\u001b[1;33m]\u001b[0m \u001b[1;33m=\u001b[0m \u001b[0mself\u001b[0m\u001b[1;33m.\u001b[0m\u001b[0msession_id\u001b[0m\u001b[1;33m\u001b[0m\u001b[1;33m\u001b[0m\u001b[0m\n\u001b[0;32m    343\u001b[0m \u001b[1;33m\u001b[0m\u001b[0m\n\u001b[1;32m--> 344\u001b[1;33m         \u001b[0mresponse\u001b[0m \u001b[1;33m=\u001b[0m \u001b[0mself\u001b[0m\u001b[1;33m.\u001b[0m\u001b[0mcommand_executor\u001b[0m\u001b[1;33m.\u001b[0m\u001b[0mexecute\u001b[0m\u001b[1;33m(\u001b[0m\u001b[0mdriver_command\u001b[0m\u001b[1;33m,\u001b[0m \u001b[0mparams\u001b[0m\u001b[1;33m)\u001b[0m\u001b[1;33m\u001b[0m\u001b[1;33m\u001b[0m\u001b[0m\n\u001b[0m\u001b[0;32m    345\u001b[0m         \u001b[1;32mif\u001b[0m \u001b[0mresponse\u001b[0m\u001b[1;33m:\u001b[0m\u001b[1;33m\u001b[0m\u001b[1;33m\u001b[0m\u001b[0m\n\u001b[0;32m    346\u001b[0m             \u001b[0mself\u001b[0m\u001b[1;33m.\u001b[0m\u001b[0merror_handler\u001b[0m\u001b[1;33m.\u001b[0m\u001b[0mcheck_response\u001b[0m\u001b[1;33m(\u001b[0m\u001b[0mresponse\u001b[0m\u001b[1;33m)\u001b[0m\u001b[1;33m\u001b[0m\u001b[1;33m\u001b[0m\u001b[0m\n",
      "\u001b[1;32m~\\Downloads\\New folder\\lib\\site-packages\\selenium\\webdriver\\remote\\remote_connection.py\u001b[0m in \u001b[0;36mexecute\u001b[1;34m(self, command, params)\u001b[0m\n\u001b[0;32m    288\u001b[0m         \u001b[0mdata\u001b[0m \u001b[1;33m=\u001b[0m \u001b[0mutils\u001b[0m\u001b[1;33m.\u001b[0m\u001b[0mdump_json\u001b[0m\u001b[1;33m(\u001b[0m\u001b[0mparams\u001b[0m\u001b[1;33m)\u001b[0m\u001b[1;33m\u001b[0m\u001b[1;33m\u001b[0m\u001b[0m\n\u001b[0;32m    289\u001b[0m         \u001b[0murl\u001b[0m \u001b[1;33m=\u001b[0m \u001b[1;34mf\"{self._url}{path}\"\u001b[0m\u001b[1;33m\u001b[0m\u001b[1;33m\u001b[0m\u001b[0m\n\u001b[1;32m--> 290\u001b[1;33m         \u001b[1;32mreturn\u001b[0m \u001b[0mself\u001b[0m\u001b[1;33m.\u001b[0m\u001b[0m_request\u001b[0m\u001b[1;33m(\u001b[0m\u001b[0mcommand_info\u001b[0m\u001b[1;33m[\u001b[0m\u001b[1;36m0\u001b[0m\u001b[1;33m]\u001b[0m\u001b[1;33m,\u001b[0m \u001b[0murl\u001b[0m\u001b[1;33m,\u001b[0m \u001b[0mbody\u001b[0m\u001b[1;33m=\u001b[0m\u001b[0mdata\u001b[0m\u001b[1;33m)\u001b[0m\u001b[1;33m\u001b[0m\u001b[1;33m\u001b[0m\u001b[0m\n\u001b[0m\u001b[0;32m    291\u001b[0m \u001b[1;33m\u001b[0m\u001b[0m\n\u001b[0;32m    292\u001b[0m     \u001b[1;32mdef\u001b[0m \u001b[0m_request\u001b[0m\u001b[1;33m(\u001b[0m\u001b[0mself\u001b[0m\u001b[1;33m,\u001b[0m \u001b[0mmethod\u001b[0m\u001b[1;33m,\u001b[0m \u001b[0murl\u001b[0m\u001b[1;33m,\u001b[0m \u001b[0mbody\u001b[0m\u001b[1;33m=\u001b[0m\u001b[1;32mNone\u001b[0m\u001b[1;33m)\u001b[0m\u001b[1;33m:\u001b[0m\u001b[1;33m\u001b[0m\u001b[1;33m\u001b[0m\u001b[0m\n",
      "\u001b[1;32m~\\Downloads\\New folder\\lib\\site-packages\\selenium\\webdriver\\remote\\remote_connection.py\u001b[0m in \u001b[0;36m_request\u001b[1;34m(self, method, url, body)\u001b[0m\n\u001b[0;32m    309\u001b[0m \u001b[1;33m\u001b[0m\u001b[0m\n\u001b[0;32m    310\u001b[0m         \u001b[1;32mif\u001b[0m \u001b[0mself\u001b[0m\u001b[1;33m.\u001b[0m\u001b[0mkeep_alive\u001b[0m\u001b[1;33m:\u001b[0m\u001b[1;33m\u001b[0m\u001b[1;33m\u001b[0m\u001b[0m\n\u001b[1;32m--> 311\u001b[1;33m             \u001b[0mresponse\u001b[0m \u001b[1;33m=\u001b[0m \u001b[0mself\u001b[0m\u001b[1;33m.\u001b[0m\u001b[0m_conn\u001b[0m\u001b[1;33m.\u001b[0m\u001b[0mrequest\u001b[0m\u001b[1;33m(\u001b[0m\u001b[0mmethod\u001b[0m\u001b[1;33m,\u001b[0m \u001b[0murl\u001b[0m\u001b[1;33m,\u001b[0m \u001b[0mbody\u001b[0m\u001b[1;33m=\u001b[0m\u001b[0mbody\u001b[0m\u001b[1;33m,\u001b[0m \u001b[0mheaders\u001b[0m\u001b[1;33m=\u001b[0m\u001b[0mheaders\u001b[0m\u001b[1;33m)\u001b[0m\u001b[1;33m\u001b[0m\u001b[1;33m\u001b[0m\u001b[0m\n\u001b[0m\u001b[0;32m    312\u001b[0m             \u001b[0mstatuscode\u001b[0m \u001b[1;33m=\u001b[0m \u001b[0mresponse\u001b[0m\u001b[1;33m.\u001b[0m\u001b[0mstatus\u001b[0m\u001b[1;33m\u001b[0m\u001b[1;33m\u001b[0m\u001b[0m\n\u001b[0;32m    313\u001b[0m         \u001b[1;32melse\u001b[0m\u001b[1;33m:\u001b[0m\u001b[1;33m\u001b[0m\u001b[1;33m\u001b[0m\u001b[0m\n",
      "\u001b[1;32m~\\Downloads\\New folder\\lib\\site-packages\\urllib3\\request.py\u001b[0m in \u001b[0;36mrequest\u001b[1;34m(self, method, url, fields, headers, **urlopen_kw)\u001b[0m\n\u001b[0;32m     76\u001b[0m             )\n\u001b[0;32m     77\u001b[0m         \u001b[1;32melse\u001b[0m\u001b[1;33m:\u001b[0m\u001b[1;33m\u001b[0m\u001b[1;33m\u001b[0m\u001b[0m\n\u001b[1;32m---> 78\u001b[1;33m             return self.request_encode_body(\n\u001b[0m\u001b[0;32m     79\u001b[0m                 \u001b[0mmethod\u001b[0m\u001b[1;33m,\u001b[0m \u001b[0murl\u001b[0m\u001b[1;33m,\u001b[0m \u001b[0mfields\u001b[0m\u001b[1;33m=\u001b[0m\u001b[0mfields\u001b[0m\u001b[1;33m,\u001b[0m \u001b[0mheaders\u001b[0m\u001b[1;33m=\u001b[0m\u001b[0mheaders\u001b[0m\u001b[1;33m,\u001b[0m \u001b[1;33m**\u001b[0m\u001b[0murlopen_kw\u001b[0m\u001b[1;33m\u001b[0m\u001b[1;33m\u001b[0m\u001b[0m\n\u001b[0;32m     80\u001b[0m             )\n",
      "\u001b[1;32m~\\Downloads\\New folder\\lib\\site-packages\\urllib3\\request.py\u001b[0m in \u001b[0;36mrequest_encode_body\u001b[1;34m(self, method, url, fields, headers, encode_multipart, multipart_boundary, **urlopen_kw)\u001b[0m\n\u001b[0;32m    168\u001b[0m         \u001b[0mextra_kw\u001b[0m\u001b[1;33m.\u001b[0m\u001b[0mupdate\u001b[0m\u001b[1;33m(\u001b[0m\u001b[0murlopen_kw\u001b[0m\u001b[1;33m)\u001b[0m\u001b[1;33m\u001b[0m\u001b[1;33m\u001b[0m\u001b[0m\n\u001b[0;32m    169\u001b[0m \u001b[1;33m\u001b[0m\u001b[0m\n\u001b[1;32m--> 170\u001b[1;33m         \u001b[1;32mreturn\u001b[0m \u001b[0mself\u001b[0m\u001b[1;33m.\u001b[0m\u001b[0murlopen\u001b[0m\u001b[1;33m(\u001b[0m\u001b[0mmethod\u001b[0m\u001b[1;33m,\u001b[0m \u001b[0murl\u001b[0m\u001b[1;33m,\u001b[0m \u001b[1;33m**\u001b[0m\u001b[0mextra_kw\u001b[0m\u001b[1;33m)\u001b[0m\u001b[1;33m\u001b[0m\u001b[1;33m\u001b[0m\u001b[0m\n\u001b[0m",
      "\u001b[1;32m~\\Downloads\\New folder\\lib\\site-packages\\urllib3\\poolmanager.py\u001b[0m in \u001b[0;36murlopen\u001b[1;34m(self, method, url, redirect, **kw)\u001b[0m\n\u001b[0;32m    374\u001b[0m             \u001b[0mresponse\u001b[0m \u001b[1;33m=\u001b[0m \u001b[0mconn\u001b[0m\u001b[1;33m.\u001b[0m\u001b[0murlopen\u001b[0m\u001b[1;33m(\u001b[0m\u001b[0mmethod\u001b[0m\u001b[1;33m,\u001b[0m \u001b[0murl\u001b[0m\u001b[1;33m,\u001b[0m \u001b[1;33m**\u001b[0m\u001b[0mkw\u001b[0m\u001b[1;33m)\u001b[0m\u001b[1;33m\u001b[0m\u001b[1;33m\u001b[0m\u001b[0m\n\u001b[0;32m    375\u001b[0m         \u001b[1;32melse\u001b[0m\u001b[1;33m:\u001b[0m\u001b[1;33m\u001b[0m\u001b[1;33m\u001b[0m\u001b[0m\n\u001b[1;32m--> 376\u001b[1;33m             \u001b[0mresponse\u001b[0m \u001b[1;33m=\u001b[0m \u001b[0mconn\u001b[0m\u001b[1;33m.\u001b[0m\u001b[0murlopen\u001b[0m\u001b[1;33m(\u001b[0m\u001b[0mmethod\u001b[0m\u001b[1;33m,\u001b[0m \u001b[0mu\u001b[0m\u001b[1;33m.\u001b[0m\u001b[0mrequest_uri\u001b[0m\u001b[1;33m,\u001b[0m \u001b[1;33m**\u001b[0m\u001b[0mkw\u001b[0m\u001b[1;33m)\u001b[0m\u001b[1;33m\u001b[0m\u001b[1;33m\u001b[0m\u001b[0m\n\u001b[0m\u001b[0;32m    377\u001b[0m \u001b[1;33m\u001b[0m\u001b[0m\n\u001b[0;32m    378\u001b[0m         \u001b[0mredirect_location\u001b[0m \u001b[1;33m=\u001b[0m \u001b[0mredirect\u001b[0m \u001b[1;32mand\u001b[0m \u001b[0mresponse\u001b[0m\u001b[1;33m.\u001b[0m\u001b[0mget_redirect_location\u001b[0m\u001b[1;33m(\u001b[0m\u001b[1;33m)\u001b[0m\u001b[1;33m\u001b[0m\u001b[1;33m\u001b[0m\u001b[0m\n",
      "\u001b[1;32m~\\Downloads\\New folder\\lib\\site-packages\\urllib3\\connectionpool.py\u001b[0m in \u001b[0;36murlopen\u001b[1;34m(self, method, url, body, headers, retries, redirect, assert_same_host, timeout, pool_timeout, release_conn, chunked, body_pos, **response_kw)\u001b[0m\n\u001b[0;32m    701\u001b[0m \u001b[1;33m\u001b[0m\u001b[0m\n\u001b[0;32m    702\u001b[0m             \u001b[1;31m# Make the request on the httplib connection object.\u001b[0m\u001b[1;33m\u001b[0m\u001b[1;33m\u001b[0m\u001b[0m\n\u001b[1;32m--> 703\u001b[1;33m             httplib_response = self._make_request(\n\u001b[0m\u001b[0;32m    704\u001b[0m                 \u001b[0mconn\u001b[0m\u001b[1;33m,\u001b[0m\u001b[1;33m\u001b[0m\u001b[1;33m\u001b[0m\u001b[0m\n\u001b[0;32m    705\u001b[0m                 \u001b[0mmethod\u001b[0m\u001b[1;33m,\u001b[0m\u001b[1;33m\u001b[0m\u001b[1;33m\u001b[0m\u001b[0m\n",
      "\u001b[1;32m~\\Downloads\\New folder\\lib\\site-packages\\urllib3\\connectionpool.py\u001b[0m in \u001b[0;36m_make_request\u001b[1;34m(self, conn, method, url, timeout, chunked, **httplib_request_kw)\u001b[0m\n\u001b[0;32m    447\u001b[0m                     \u001b[1;31m# Python 3 (including for exceptions like SystemExit).\u001b[0m\u001b[1;33m\u001b[0m\u001b[1;33m\u001b[0m\u001b[0m\n\u001b[0;32m    448\u001b[0m                     \u001b[1;31m# Otherwise it looks like a bug in the code.\u001b[0m\u001b[1;33m\u001b[0m\u001b[1;33m\u001b[0m\u001b[0m\n\u001b[1;32m--> 449\u001b[1;33m                     \u001b[0msix\u001b[0m\u001b[1;33m.\u001b[0m\u001b[0mraise_from\u001b[0m\u001b[1;33m(\u001b[0m\u001b[0me\u001b[0m\u001b[1;33m,\u001b[0m \u001b[1;32mNone\u001b[0m\u001b[1;33m)\u001b[0m\u001b[1;33m\u001b[0m\u001b[1;33m\u001b[0m\u001b[0m\n\u001b[0m\u001b[0;32m    450\u001b[0m         \u001b[1;32mexcept\u001b[0m \u001b[1;33m(\u001b[0m\u001b[0mSocketTimeout\u001b[0m\u001b[1;33m,\u001b[0m \u001b[0mBaseSSLError\u001b[0m\u001b[1;33m,\u001b[0m \u001b[0mSocketError\u001b[0m\u001b[1;33m)\u001b[0m \u001b[1;32mas\u001b[0m \u001b[0me\u001b[0m\u001b[1;33m:\u001b[0m\u001b[1;33m\u001b[0m\u001b[1;33m\u001b[0m\u001b[0m\n\u001b[0;32m    451\u001b[0m             \u001b[0mself\u001b[0m\u001b[1;33m.\u001b[0m\u001b[0m_raise_timeout\u001b[0m\u001b[1;33m(\u001b[0m\u001b[0merr\u001b[0m\u001b[1;33m=\u001b[0m\u001b[0me\u001b[0m\u001b[1;33m,\u001b[0m \u001b[0murl\u001b[0m\u001b[1;33m=\u001b[0m\u001b[0murl\u001b[0m\u001b[1;33m,\u001b[0m \u001b[0mtimeout_value\u001b[0m\u001b[1;33m=\u001b[0m\u001b[0mread_timeout\u001b[0m\u001b[1;33m)\u001b[0m\u001b[1;33m\u001b[0m\u001b[1;33m\u001b[0m\u001b[0m\n",
      "\u001b[1;32m~\\Downloads\\New folder\\lib\\site-packages\\urllib3\\packages\\six.py\u001b[0m in \u001b[0;36mraise_from\u001b[1;34m(value, from_value)\u001b[0m\n",
      "\u001b[1;32m~\\Downloads\\New folder\\lib\\site-packages\\urllib3\\connectionpool.py\u001b[0m in \u001b[0;36m_make_request\u001b[1;34m(self, conn, method, url, timeout, chunked, **httplib_request_kw)\u001b[0m\n\u001b[0;32m    442\u001b[0m                 \u001b[1;31m# Python 3\u001b[0m\u001b[1;33m\u001b[0m\u001b[1;33m\u001b[0m\u001b[0m\n\u001b[0;32m    443\u001b[0m                 \u001b[1;32mtry\u001b[0m\u001b[1;33m:\u001b[0m\u001b[1;33m\u001b[0m\u001b[1;33m\u001b[0m\u001b[0m\n\u001b[1;32m--> 444\u001b[1;33m                     \u001b[0mhttplib_response\u001b[0m \u001b[1;33m=\u001b[0m \u001b[0mconn\u001b[0m\u001b[1;33m.\u001b[0m\u001b[0mgetresponse\u001b[0m\u001b[1;33m(\u001b[0m\u001b[1;33m)\u001b[0m\u001b[1;33m\u001b[0m\u001b[1;33m\u001b[0m\u001b[0m\n\u001b[0m\u001b[0;32m    445\u001b[0m                 \u001b[1;32mexcept\u001b[0m \u001b[0mBaseException\u001b[0m \u001b[1;32mas\u001b[0m \u001b[0me\u001b[0m\u001b[1;33m:\u001b[0m\u001b[1;33m\u001b[0m\u001b[1;33m\u001b[0m\u001b[0m\n\u001b[0;32m    446\u001b[0m                     \u001b[1;31m# Remove the TypeError from the exception chain in\u001b[0m\u001b[1;33m\u001b[0m\u001b[1;33m\u001b[0m\u001b[0m\n",
      "\u001b[1;32m~\\Downloads\\New folder\\lib\\http\\client.py\u001b[0m in \u001b[0;36mgetresponse\u001b[1;34m(self)\u001b[0m\n\u001b[0;32m   1375\u001b[0m         \u001b[1;32mtry\u001b[0m\u001b[1;33m:\u001b[0m\u001b[1;33m\u001b[0m\u001b[1;33m\u001b[0m\u001b[0m\n\u001b[0;32m   1376\u001b[0m             \u001b[1;32mtry\u001b[0m\u001b[1;33m:\u001b[0m\u001b[1;33m\u001b[0m\u001b[1;33m\u001b[0m\u001b[0m\n\u001b[1;32m-> 1377\u001b[1;33m                 \u001b[0mresponse\u001b[0m\u001b[1;33m.\u001b[0m\u001b[0mbegin\u001b[0m\u001b[1;33m(\u001b[0m\u001b[1;33m)\u001b[0m\u001b[1;33m\u001b[0m\u001b[1;33m\u001b[0m\u001b[0m\n\u001b[0m\u001b[0;32m   1378\u001b[0m             \u001b[1;32mexcept\u001b[0m \u001b[0mConnectionError\u001b[0m\u001b[1;33m:\u001b[0m\u001b[1;33m\u001b[0m\u001b[1;33m\u001b[0m\u001b[0m\n\u001b[0;32m   1379\u001b[0m                 \u001b[0mself\u001b[0m\u001b[1;33m.\u001b[0m\u001b[0mclose\u001b[0m\u001b[1;33m(\u001b[0m\u001b[1;33m)\u001b[0m\u001b[1;33m\u001b[0m\u001b[1;33m\u001b[0m\u001b[0m\n",
      "\u001b[1;32m~\\Downloads\\New folder\\lib\\http\\client.py\u001b[0m in \u001b[0;36mbegin\u001b[1;34m(self)\u001b[0m\n\u001b[0;32m    318\u001b[0m         \u001b[1;31m# read until we get a non-100 response\u001b[0m\u001b[1;33m\u001b[0m\u001b[1;33m\u001b[0m\u001b[0m\n\u001b[0;32m    319\u001b[0m         \u001b[1;32mwhile\u001b[0m \u001b[1;32mTrue\u001b[0m\u001b[1;33m:\u001b[0m\u001b[1;33m\u001b[0m\u001b[1;33m\u001b[0m\u001b[0m\n\u001b[1;32m--> 320\u001b[1;33m             \u001b[0mversion\u001b[0m\u001b[1;33m,\u001b[0m \u001b[0mstatus\u001b[0m\u001b[1;33m,\u001b[0m \u001b[0mreason\u001b[0m \u001b[1;33m=\u001b[0m \u001b[0mself\u001b[0m\u001b[1;33m.\u001b[0m\u001b[0m_read_status\u001b[0m\u001b[1;33m(\u001b[0m\u001b[1;33m)\u001b[0m\u001b[1;33m\u001b[0m\u001b[1;33m\u001b[0m\u001b[0m\n\u001b[0m\u001b[0;32m    321\u001b[0m             \u001b[1;32mif\u001b[0m \u001b[0mstatus\u001b[0m \u001b[1;33m!=\u001b[0m \u001b[0mCONTINUE\u001b[0m\u001b[1;33m:\u001b[0m\u001b[1;33m\u001b[0m\u001b[1;33m\u001b[0m\u001b[0m\n\u001b[0;32m    322\u001b[0m                 \u001b[1;32mbreak\u001b[0m\u001b[1;33m\u001b[0m\u001b[1;33m\u001b[0m\u001b[0m\n",
      "\u001b[1;32m~\\Downloads\\New folder\\lib\\http\\client.py\u001b[0m in \u001b[0;36m_read_status\u001b[1;34m(self)\u001b[0m\n\u001b[0;32m    279\u001b[0m \u001b[1;33m\u001b[0m\u001b[0m\n\u001b[0;32m    280\u001b[0m     \u001b[1;32mdef\u001b[0m \u001b[0m_read_status\u001b[0m\u001b[1;33m(\u001b[0m\u001b[0mself\u001b[0m\u001b[1;33m)\u001b[0m\u001b[1;33m:\u001b[0m\u001b[1;33m\u001b[0m\u001b[1;33m\u001b[0m\u001b[0m\n\u001b[1;32m--> 281\u001b[1;33m         \u001b[0mline\u001b[0m \u001b[1;33m=\u001b[0m \u001b[0mstr\u001b[0m\u001b[1;33m(\u001b[0m\u001b[0mself\u001b[0m\u001b[1;33m.\u001b[0m\u001b[0mfp\u001b[0m\u001b[1;33m.\u001b[0m\u001b[0mreadline\u001b[0m\u001b[1;33m(\u001b[0m\u001b[0m_MAXLINE\u001b[0m \u001b[1;33m+\u001b[0m \u001b[1;36m1\u001b[0m\u001b[1;33m)\u001b[0m\u001b[1;33m,\u001b[0m \u001b[1;34m\"iso-8859-1\"\u001b[0m\u001b[1;33m)\u001b[0m\u001b[1;33m\u001b[0m\u001b[1;33m\u001b[0m\u001b[0m\n\u001b[0m\u001b[0;32m    282\u001b[0m         \u001b[1;32mif\u001b[0m \u001b[0mlen\u001b[0m\u001b[1;33m(\u001b[0m\u001b[0mline\u001b[0m\u001b[1;33m)\u001b[0m \u001b[1;33m>\u001b[0m \u001b[0m_MAXLINE\u001b[0m\u001b[1;33m:\u001b[0m\u001b[1;33m\u001b[0m\u001b[1;33m\u001b[0m\u001b[0m\n\u001b[0;32m    283\u001b[0m             \u001b[1;32mraise\u001b[0m \u001b[0mLineTooLong\u001b[0m\u001b[1;33m(\u001b[0m\u001b[1;34m\"status line\"\u001b[0m\u001b[1;33m)\u001b[0m\u001b[1;33m\u001b[0m\u001b[1;33m\u001b[0m\u001b[0m\n",
      "\u001b[1;32m~\\Downloads\\New folder\\lib\\socket.py\u001b[0m in \u001b[0;36mreadinto\u001b[1;34m(self, b)\u001b[0m\n\u001b[0;32m    702\u001b[0m         \u001b[1;32mwhile\u001b[0m \u001b[1;32mTrue\u001b[0m\u001b[1;33m:\u001b[0m\u001b[1;33m\u001b[0m\u001b[1;33m\u001b[0m\u001b[0m\n\u001b[0;32m    703\u001b[0m             \u001b[1;32mtry\u001b[0m\u001b[1;33m:\u001b[0m\u001b[1;33m\u001b[0m\u001b[1;33m\u001b[0m\u001b[0m\n\u001b[1;32m--> 704\u001b[1;33m                 \u001b[1;32mreturn\u001b[0m \u001b[0mself\u001b[0m\u001b[1;33m.\u001b[0m\u001b[0m_sock\u001b[0m\u001b[1;33m.\u001b[0m\u001b[0mrecv_into\u001b[0m\u001b[1;33m(\u001b[0m\u001b[0mb\u001b[0m\u001b[1;33m)\u001b[0m\u001b[1;33m\u001b[0m\u001b[1;33m\u001b[0m\u001b[0m\n\u001b[0m\u001b[0;32m    705\u001b[0m             \u001b[1;32mexcept\u001b[0m \u001b[0mtimeout\u001b[0m\u001b[1;33m:\u001b[0m\u001b[1;33m\u001b[0m\u001b[1;33m\u001b[0m\u001b[0m\n\u001b[0;32m    706\u001b[0m                 \u001b[0mself\u001b[0m\u001b[1;33m.\u001b[0m\u001b[0m_timeout_occurred\u001b[0m \u001b[1;33m=\u001b[0m \u001b[1;32mTrue\u001b[0m\u001b[1;33m\u001b[0m\u001b[1;33m\u001b[0m\u001b[0m\n",
      "\u001b[1;31mKeyboardInterrupt\u001b[0m: "
     ]
    }
   ],
   "source": [
    "for url in urls[:4]:\n",
    "    driver.get(url)                                                        # Loading the webpage by url\n",
    "    print(\"Scraping URL = \", url)\n",
    "    #time.sleep(2)\n",
    "    \n",
    "    try:\n",
    "        brand = driver.find_element(By.XPATH,'//a[@id=\"bylineInfo\"]')      \n",
    "        prod_dict['Brand'].append(brand.text)\n",
    "    except NoSuchElementException:\n",
    "        prod_dict['Brand'].append('-')\n",
    "    \n",
    "    try:\n",
    "        name = driver.find_element(By.XPATH,'//h1[@id=\"title\"]/span')      \n",
    "        prod_dict['Name'].append(name.text)\n",
    "    except NoSuchElementException:\n",
    "        prod_dict['Name'].append('-')\n",
    "    \n",
    "    try:\n",
    "        rating = driver.find_element(By.XPATH,'//span[@id=\"acrPopover\"]')  \n",
    "        prod_dict['Rating'].append(rating.get_attribute(\"title\"))\n",
    "    except NoSuchElementException:\n",
    "        prod_dict['Rating'].append('-')\n",
    "    \n",
    "    try:\n",
    "        n_rating = driver.find_element(By.XPATH,'//a[@id=\"acrCustomerReviewLink\"]/span')     \n",
    "        prod_dict['No. of ratings'].append(n_rating.text)\n",
    "    except NoSuchElementException:\n",
    "        prod_dict['No. of ratings'].append('-')\n",
    "    \n",
    "    try:\n",
    "        price = driver.find_element(By.XPATH,'//span[@id=\"priceblock_ourprice\"]')           \n",
    "        prod_dict['Price'].append(price.text)\n",
    "    except NoSuchElementException:\n",
    "        prod_dict['Price'].append('-')\n",
    "    try:                                                                                     \n",
    "        ret = driver.find_element(By.XPATH,'//div[@data-name=\"RETURNS_POLICY\"]/span/div[2]/a')\n",
    "        prod_dict['Return/Exchange'].append(ret.text)\n",
    "    except NoSuchElementException:\n",
    "        prod_dict['Return/Exchange'].append('-')\n",
    "    try:\n",
    "        delivry = driver.find_element(By.XPATH,'//div[@id=\"ddmDeliveryMessage\"]/b')         \n",
    "        prod_dict['Expected Delivery'].append(delivry.text)\n",
    "    except NoSuchElementException:\n",
    "        prod_dict['Expected Delivery'].append('-')\n",
    "    try:\n",
    "        avl = driver.find_element(By.XPATH,'//div[@id=\"availability\"]/span')                \n",
    "        prod_dict['Availability'].append(avl.text)\n",
    "    except NoSuchElementException:\n",
    "        prod_dict['Availability'].append('-')\n",
    "    \n",
    "    try:                                                                                   \n",
    "        dtls = driver.find_element(By.XPATH,'//ul[@class=\"a-unordered-list a-vertical a-spacing-mini\"]')\n",
    "        prod_dict['Other Details'].append('  ||  '.join(dtls.text.split('\\n')))\n",
    "    except NoSuchElementException:\n",
    "        prod_dict['Other Details'].append('-')\n",
    "    \n",
    "    prod_dict['URL'].append(url)                                                            \n",
    "    time.sleep(2)"
   ]
  },
  {
   "cell_type": "code",
   "execution_count": 158,
   "id": "da72b2a8",
   "metadata": {},
   "outputs": [
    {
     "data": {
      "text/html": [
       "<div>\n",
       "<style scoped>\n",
       "    .dataframe tbody tr th:only-of-type {\n",
       "        vertical-align: middle;\n",
       "    }\n",
       "\n",
       "    .dataframe tbody tr th {\n",
       "        vertical-align: top;\n",
       "    }\n",
       "\n",
       "    .dataframe thead th {\n",
       "        text-align: right;\n",
       "    }\n",
       "</style>\n",
       "<table border=\"1\" class=\"dataframe\">\n",
       "  <thead>\n",
       "    <tr style=\"text-align: right;\">\n",
       "      <th></th>\n",
       "      <th>Brand</th>\n",
       "      <th>Name</th>\n",
       "      <th>Rating</th>\n",
       "      <th>No. of ratings</th>\n",
       "      <th>Price</th>\n",
       "      <th>Return/Exchange</th>\n",
       "      <th>Expected Delivery</th>\n",
       "      <th>Availability</th>\n",
       "      <th>Other Details</th>\n",
       "      <th>URL</th>\n",
       "    </tr>\n",
       "  </thead>\n",
       "  <tbody>\n",
       "    <tr>\n",
       "      <th>0</th>\n",
       "      <td>Visit the Sony Store</td>\n",
       "      <td>Sony PS5 Pulse 3D Gaming Wireless Over Ear Hea...</td>\n",
       "      <td>4.3 out of 5 stars</td>\n",
       "      <td>201 ratings</td>\n",
       "      <td>-</td>\n",
       "      <td>-</td>\n",
       "      <td>-</td>\n",
       "      <td>In stock</td>\n",
       "      <td>Compatibility: PS5, PS4, PS VR, PC, Windows, M...</td>\n",
       "      <td>https://www.amazon.in/sspa/click?ie=UTF8&amp;spc=M...</td>\n",
       "    </tr>\n",
       "  </tbody>\n",
       "</table>\n",
       "</div>"
      ],
      "text/plain": [
       "                  Brand                                               Name  \\\n",
       "0  Visit the Sony Store  Sony PS5 Pulse 3D Gaming Wireless Over Ear Hea...   \n",
       "\n",
       "               Rating No. of ratings Price Return/Exchange Expected Delivery  \\\n",
       "0  4.3 out of 5 stars    201 ratings     -               -                 -   \n",
       "\n",
       "  Availability                                      Other Details  \\\n",
       "0     In stock  Compatibility: PS5, PS4, PS VR, PC, Windows, M...   \n",
       "\n",
       "                                                 URL  \n",
       "0  https://www.amazon.in/sspa/click?ie=UTF8&spc=M...  "
      ]
     },
     "execution_count": 158,
     "metadata": {},
     "output_type": "execute_result"
    }
   ],
   "source": [
    "prod_df = pd.DataFrame.from_dict(prod_dict)\n",
    "prod_df"
   ]
  },
  {
   "cell_type": "code",
   "execution_count": null,
   "id": "eabba4cb",
   "metadata": {},
   "outputs": [],
   "source": []
  },
  {
   "cell_type": "code",
   "execution_count": null,
   "id": "98022e85",
   "metadata": {},
   "outputs": [],
   "source": []
  },
  {
   "cell_type": "markdown",
   "id": "1d65f320",
   "metadata": {},
   "source": [
    "3. Write a python program to access the search bar and search button on images.google.com and scrape 10\n",
    "images each for keywords ‘fruits’, ‘cars’ and ‘Machine Learning’, ‘Guitar’, ‘Cakes’"
   ]
  },
  {
   "cell_type": "code",
   "execution_count": 79,
   "id": "3dfe9c7e",
   "metadata": {},
   "outputs": [],
   "source": [
    "from selenium import webdriver\n",
    "from selenium.webdriver.common.by import By\n",
    "from selenium.webdriver.common.keys import Keys\n",
    "from selenium.common.exceptions import StaleElementReferenceException \n",
    "from selenium.common.exceptions import TimeoutException\n",
    "from selenium.webdriver.support.ui import WebDriverWait\n",
    "from selenium.webdriver.support import expected_conditions as EC"
   ]
  },
  {
   "cell_type": "code",
   "execution_count": 80,
   "id": "85ffbf87",
   "metadata": {},
   "outputs": [],
   "source": [
    "driver = webdriver.Chrome()"
   ]
  },
  {
   "cell_type": "code",
   "execution_count": 81,
   "id": "d867a1d6",
   "metadata": {},
   "outputs": [],
   "source": [
    "url = \"https://images.google.com/\""
   ]
  },
  {
   "cell_type": "code",
   "execution_count": 82,
   "id": "b26f89c2",
   "metadata": {},
   "outputs": [],
   "source": [
    "driver.get(\"https://images.google.com/\")"
   ]
  },
  {
   "cell_type": "code",
   "execution_count": 83,
   "id": "3d40cca7",
   "metadata": {},
   "outputs": [],
   "source": [
    "search_bar= driver.find_element(By.NAME,\"q\")"
   ]
  },
  {
   "cell_type": "code",
   "execution_count": 84,
   "id": "470cf020",
   "metadata": {},
   "outputs": [],
   "source": [
    "keywords = ['fruits','cars','Machine Learning','Guitar','Cakes']"
   ]
  },
  {
   "cell_type": "code",
   "execution_count": 85,
   "id": "43073507",
   "metadata": {},
   "outputs": [],
   "source": [
    "for keyword in keywords:\n",
    "    search_bar.clear()\n",
    "    search_bar.send_keys(keyword)\n",
    "    "
   ]
  },
  {
   "cell_type": "code",
   "execution_count": 86,
   "id": "91db4441",
   "metadata": {},
   "outputs": [],
   "source": [
    "search_bar.send_keys(Keys.RETURN)"
   ]
  },
  {
   "cell_type": "code",
   "execution_count": 87,
   "id": "95552f72",
   "metadata": {},
   "outputs": [
    {
     "data": {
      "text/plain": [
       "<selenium.webdriver.remote.webelement.WebElement (session=\"bd59d278283b6f9655e9905958d5fb0c\", element=\"8B22B03E218F8831283FC1AAF66505D6_element_41\")>"
      ]
     },
     "execution_count": 87,
     "metadata": {},
     "output_type": "execute_result"
    }
   ],
   "source": [
    "WebDriverWait(driver, 2).until(EC.presence_of_element_located((By.CLASS_NAME, 'rg_i')))"
   ]
  },
  {
   "cell_type": "code",
   "execution_count": 90,
   "id": "8a79201d",
   "metadata": {},
   "outputs": [],
   "source": [
    " image_elements = driver.find_elements(By.CLASS_NAME, 'rg_i')\n",
    "image_urls = [element.get_attribute('src') for element in image_elements]"
   ]
  },
  {
   "cell_type": "code",
   "execution_count": 93,
   "id": "6c76b598",
   "metadata": {},
   "outputs": [
    {
     "name": "stdout",
     "output_type": "stream",
     "text": [
      "Top 10 images for 'Cakes':\n",
      "data:image/jpeg;base64,/9j/4AAQSkZJRgABAQAAAQABAAD/2wCEAAoHCBUVFRgVFhUYGBgYGBgYGBgZGBoYGhgYGBgZGRoYGBkcIS4lHB4rHxgYJjgmKy8xNTU1GiQ7QDszPy40NTEBDAwMEA8QGhISHDcrISs0NTQ0NDQ0NjQ0NDY0MTYxNDE0NDQ1NDQ0NDY0NDQ0NDU0NzE0NDE0NDQ0NDQ0NDQ0NP/AABEIAOEA4QMBIgACEQEDEQH/xAAcAAABBQEBAQAAAAAAAAAAAAAEAAECAwUGBwj/xABEEAACAQIEAwUGAgcGBAcAAAABAgADEQQSITEFQVEGEyJhcTJSgZGhsULRFCMkcpKywQcVYoLw8RaiwuEzQ1NVY3N0/8QAGQEAAwEBAQAAAAAAAAAAAAAAAAECAwQF/8QAJxEAAgICAQMFAAIDAAAAAAAAAAECEQMhMRJBUQQiYXGBE7FCkaH/2gAMAwEAAhEDEQA/APXKtRVF2Nh1g/8AeFL3x9fylXGz+qb1EwKwIqAFSqfpKJ4qaIHRlcZKeUkuMwUksAbDoZz5cuRScY1pJ7NIxTVs6T+8KXvj6/lF/eFL3x9fynJUw+Z7iq3gOX9RRp2JY3ZKR0bKAPaOz9RJjMDW8SkrYW7pbKWFJhYMCQwVxdb5QSdJk/UZVy1z8+PspY0/J1X94UvfH1/KMcfS98fX8pzK0ny5VOZhlGZgrELrmYJbKSLINrDNe2kVZ8pZT4WWkrMRTVirNVCL+rayhmW2mgGa9tbTPH6vJNJqv+8cFPFGLrZ1NLEo5srAm17eUstMDs3e7Zs1yGPiCqfa08K+FdNbDa837zu9PkeXH1Py/wCzLJHpdCtGtHjToIFaK0aODABWj2kHcCOrwAeK0YtEGgIlaPaRzRs0ALIrSIaMzxAStFaD0MajkhXViu4DAkeohGaCYxrRsslFGIjaPcx7xxFYEc0kI4EeAyNopKKFgZ/GB+rPqPvPN17QYa+YU3Ohsci7He130uJ6LxWsDTtY7jlaeL0DSQBr5z+BCCoAt7VTr+4psbam2jYQ9PDPmkp3pKq+bOjG6j+s7NcdQHdHK3664Q5dRlK+0b3HtDa8I4jUp4emCyXTOLKqgnOSWzakXNwTeYVVyxwLMSSS5J03PdbAaAdANANJqdrwe5Xr3iW+TTzcnp6zYoNum2n+Okbxqm67Ilh+M0qrd2wdH3VaiZCbX1XXQ7/WB0+OYbKP1bqmcNnNMZc4N8xIJu1x5nSUYxKqV6D1srg3RAlkIL2XNbn7XM/9wsJh67YJijoKYVmIK+KysWPiPmDOmPo8XT1X7W1+O38EuTv5PRuAsHJYMGVkBBGxBIsRN0LOZ7F1Q9NWVcgyWC3vYBrb89t51E19HFwxdPhv+znzO5X9DWitHvGnWZCtGIjxQAhliCSyOIAV5YsssjQEQyxssskWe2p2GpPQRjI2tOY7QdpQpNGgcznRn5J5DqftMztJ2rZ81KibLcgsN2HkeQgvZvhuZg7C55+s48ub/GJvDFXukdF2Y4KqWrsP1hQpmufZYhiCNtwJ0kqoplUDpLROjHHpikZTdybJCPI3j3lkEorSOaTWIYgI9oooASikYogBcdhy6ZQQDcbznqPY2ktM0gEKHcEEkkbEte9xyO45WnVRvhMp4Yybbvtw644LU5RVI5HEdiqboiM+lMELqdiFvfXX2RKP+A6NiM51sd25X8/OdnFpHHEkqt+eWP8AkkcjhOxVKm2dSC1rAm5sDva509d4OvYLDj8Vx0zNr8iJ28qeUsa8v/bF/JIyMPwcKuUPlFgBk8Fsuw05baeUup4HKb9/UO+ha4+UOF4zFuVo4Y1BVEUpOTtmeRWUNlcubHKGC2B5agC4hGGq1bLnyA/ity9JYjv7o+cnduksRb3g6xd4vUSAB5yD1ABqbQAuzjrHzQNcUmwcGW3PLWFhRfmjZpXmlGIxaoLsbDl5+Qg2lyFWFO4AudhuZxXa7tIChpU9mNmfr5DykOL8deoSi+FNbAcz5znlUuxRvJvSxt9bziy571Hg6ceKnchcIwJdxpcXnoHBsKFO2g6DnMThOFCDznY4NAq257n1k4I9UrHmlSotAkgJK8U7zkGtEfSPHAisREekkD5SVo9orGMG8orx7R4AQvFJxQAhaNaSitGBG0RjxmWACvIEiOUlbUxGBOKRAivGBKNGBjwAaMRJxiIAQWmo5D5SYAimPxjjIpgqlmfbqF9epkTkoq2VGLbpBnEeIJSW51Y7KNz/ANpwvE+KtVckna9hyHkIJj8czsWLEnzMDS7a/OcOTK5/R1Qgo/YThgXJ11micIAaTbNnyeqkEtf0Av8ACT4Vhb6/P1m1j6AFIG2odCp6Euqn6Ej4zJR1ZXVugvheHBYdALn+gm0VgvC6WVM3NtfhyhpM9DDHpj9nJklcioA9T8osxEnmisJsQMjE7yzNGVJMLJYDB5LNEBHtEAwMlGyxxABRR4ogIZoxaUC9+VvWWyqAfPFnjWjQoCV5EmKKMCEYrLIxjAqyGMwblb4y2NACgu45LGNZgLsAANSb6ADmYQZwHbTi7mslGgudqZDnW6Z7jKH6qLEkRPRUVbp6Au1n9oRU91hiLnwk5SWJvbwnbXTSxPpOQTtgdRUzXUncANptoNz1Gkq4xQyKcYuJp98tUugpoVLnOFzqG23zAWIsu5vMjjrU2SlVDo1Z7tWAuWDEAlmO173089NJhNxlWiopxvZvvx+iLHMRex9km1/MaTo+FZHUOjAg2163nk5peDPceYvqNbfl85v9n+0z0PAVzoALD2SpG1jb7zKWFVotTa5PZ+HYYKBeHYqiWCoPxunyVg5PyUzH4FxulXQMh5aqdCp6EflOpwqaZvLSTDHboblWwlRYSDxM3nIBfOd5ziLre19ZJakrq0Q24BkUpgbQGGI8sBgmWOXYbRNCC7xxA1qP5fOTSo3MSaAKig3eGTRzzhQF0Uq7yKFAVqAI5aUlG6iMyPbRlB9D+csCw1PKUtVPpIpTqAm7qR0yn73kmRvKACfFBdN5BMcC1srettJJUMkNIUBYj3ks0rvHEBE7xZpXfpBVxfiKMQrXIW+zAH8J5ny3gMo7StbDVWzFSq5gQLkFSDp56Ty5carhiUVi1EMqKbEZVYMzPvn8Q+Np3/bjEOmDfIucOMrFRfIhBJc+WgHxnjfD65pkuCA6K7Lc6F9xccxflMZ47l8tUaxmlH9K+MNWTI9bKUYqMgsGyruNtLgHX0gOMFKrnqU0ZFFsqA5gLAXJJProPKS41i2xNVqtrF7sF2Cr0F+Q2mWzEXFzY2uL7+sOnu9itaSWgzh3DTUbKzrSBUsrPcK5BXwqetiT8IbikXDrUosqF0cAVRc5wTcW6eE3t5dZnYdnquiFr+IBQxAAvYak/czWqYum1Nwy+NzZgLZAEsEKW2tYf6MKTdsG0uDouCcNJqYe5KCqudShyMUFw9umYDT0ntdCmFVVuSAALnUmw3Nuc+eex9d1xWHW5I7xAAel7W+pnv8AXHdozvVIRFLMSFACgX6TRVzRLLMRRzcyPQ2lTU294/T8pTwTEmvh6VbMfGisRpo1vF9bw80fMx8i4B1Q+8T8R+UjkI5wgUbbH7SXdeZhQWCOWto5Xztm+kz8dxJVWzM5B0YilUY+ug0m4tO3MyxV84BZy2ExdEDQ1SR1p1B/0ydTj76BKb66ZmouR8t51IWPaTwFnE1eO45Tph1dfeC1E+am5kX7Q49Rphcx6BG+87cpFlh+hfwcH/xLxP8A9v8AqYp3eT1+cUP0LXgjHld495ZJK0a0bNGzQAciQKyGJw+cZblTe6sDYgiCr36aMVYDnax+NoykrDVp3mf2lc08O+Q2ZvDfnY72gbdplpuVdDtoV/qDBeL8cp1aIfVVILAOMpyi12t7oHOKm3RUYtPYf2axor0EYe0qqrjmGA5+sJ4qyIpquFJQFkW1wG5Mepj9ncItLDqFFibs3M57nMCfI6TH7QuXBS+8SDuzn6fH2pUU74h6NW61Ad1FVjnI62LHSeY8ZpPRqPh2HiRm8Q1DrYFXU81KgMPIw/tMStfuGqBVAB8V8q5ienz+M0e02DV8Fh2QjvcMmU1AykPRXVNtdOXlpzkvY+ODn+GqK7olSoEVFNmta4FiVZuQIvrMziaUw9qRZltqT71ze1xqLWkcHisgPhBupGv4b8xBtfWRTu7/AAbdx+TV4dglZWzgqw945AL8yLE2HpD6FChhsQ6Vz3qLTOUpqC7orJqbWtm+YmdxPGGo6v3r1GygFnABGU3A213J9estxJWtXB1prUK2ZwxsAApbwgk7bC8TVrwOkl8nQf2bYEVMYlVyFp4cGq7HQXAIQfPxeiGavH+01bHuaaEpRzeFBoWAOhfqfLYSrAYXucFiGpkmyDMbasWujtbkoVm62t6zmeGYzI4PSacJC6aPfeySZcMie6LCa5nL9kuLK6DQ6rcabjbTrrNStxcCu1MDNkTMxHJrjQdTY/SUl4IktmnFaQVwRfrJAxkEhHtIiSvEBIGK8jeK8KGSvETGvGJioCV4pC8UdADipH7wQcGJrGOwL2qgbmLvB1gdWncWvaVdwDv94rCjTSoLiW4xgFJPSZYUjnIcSqO1JlXVrED+kBrk8/49iUeq2Z8nhcqxUtnK/hW251+hmRi+KVK7mmciipTFDOTZEPeB85OtgbC8so4PEYyrWo1AU/RqFWpTTw37y4VA5GhvlbUcybQajwYrSpVWRTUa7qhLGmKQUMGe51dibWFgLbE6xQctmrp8HSdluNYil+krnFZbplspKKUQUy6sD4VYKDvvc9bp+ItVdM9YL32ZaQpC7I+ZUGcNfMASTt9NZznHMMiUVdHcU6xOVlc5FKqG7mqgPtBs1jrfytOc4S+d7NXSmVAKlw5BN9syg5T5nSKTknrRFKtnXcW7KimjmrWp1KzurK/dvnLFbqgYvlCkKx15X6CZr4TDM/cPUrUMiFLZUdS4N2sPduTYAnTnpMCvisQ9TulYu+iKFOYELoAD0Aj4/H16YSk6CmUtsuVmtcanZhr8bSG5UUlF7ZKrwdQrtRqGoAEVV7tg7lsrNlABByg6+hPLXqez3DMAuHQYhXqVDmzo11RGdQLixv8AEHfWw0nHYbj1Wm/eI+R8pW6gDQ6H420v5RcO4oiVjUrI9UMHuoqPTJdvxFl10u2nnKTr5H7L3ZpYbsliCVOdERw9nuzAZTYKwAuM3LyBmZSwrmoA+dXRgpL38AAJAI9oC3w184UnHKtRO7LOQgQoFYgjIrqvrYPb0EHqcW7xszqXc2GbOyk2UKC1jqbKo5bSNrsKovud9wOhQxFN0r13tmbxNUKJVdy7Mtl1yBm1I539Jkcc7HjDujAOlEgKXR+8BdibZSd1sOnXymDiMJXw6ZnosFv4agb2b8rA6X11IG8nwtK1XwK6KlyWao4CLfdjf05RxTT4HJxaq+x3PZqtQoNZHFN2TKGcubPYsWylbHQAaHQnaS4Px5WrOHzoLO66eJnyMPG433aw2uYLU7EN3HeNiwlSxKLlyq+nhQ3NwSLctL7G0xqNCi9SjSo1az1KrICSQgpHNZlZQCSy2JOttJrHqi3fchaSR65hMQ5yEG5ZELLyFwL6coccao+EenTVRZRaBuNZchSoLTiKnr8pYMYsACyQkiDWxqgXJlScXpNs49JRlB3kDhUP4RDYGiMUscYlesBXDqNrj4mP3A6mAg39IXrFAe68zHgMGTEsTYiX55RnEcOIhFoePnlZqSGYwAIDxme3SUXi1gAB2XwYNfG1za71hSA6JTQE/Nnactxh0IGlkQOqEg3Co6IwBO1rvqNso+Pddn0yiv8A/odvmlMyjs8iPhtQrg1K/IEa1XJGvrY+YlxdFKXJ41Upl8NimObuw6OpVSV7wB1BHug5gL8gRG7V8JGGdKiDKlemHC+44Azr6eJT/mPSe20sBTpKURFVSSbAC2s4j+0/Ch8NTIIBFZFzHQKHBUljyF7E+kJQ02ClZzP9nPDc7PXYAAXUMdADuTf5QrtzRD0tFVnSxchwchNrhLe0NQDC8VhmoU6dFHOYpSzOqBXXIumRSQQGshseY85zHFMS4vSLaELfwlSQvJlvbcZgfPQ2No2ko0U9I5G8tekQATzkzQ8dvP8ArNDiFOyA+cwSILOz9EnO3lb5/wC0lwTBZsXkOysWI9NR9bQzs9ZadzzJP2hXZkq2LqvzsLDyOhv/AAr85pGK0B2WJwoqU3RhcMpE8z4ZTKVxTfTK/ivqPAbm45+z9Z6xRnHYng4fiTKNBUBYevdEH/mUzTLHhhFMt4NxjE1ic7Bw5I8QAZtNcjD2cos3T5zsOF8DorxIV0WwNKq7C9x3rMgLL0utRttPrMngfZTEIwQ5AgYEObk2zBiLDrlXptNPslXf9PxNJ2BNGmiAgWvYozN8Sw+UGtKyux3UEYQoTOesb7H6RMTLrRwJUHks8kksAjgQc1j0+scVj0iAJEe8oFSPngBdeKD96IowoqBk7wX9JUdflHTGITlvrJsAoSQaU5pHPHYBN494KztytEtRvKKwol2YxKVUxDKQynEOAQbgju6Yh3DeGUsPTFKkuRFLEC5OrsWOpN9yYN2ewVOijrTQIrVC+VdszKtyByuRNVjKRzybUmDVUnF/2j4PNgK3+HI/8Lrf6XnbOZzHblScDiP/AKyfkQZbftYRm+pHJ8N4U9fCUKgZS7IWcOtw5YqDmPKwRbeYmJX7L1g3iIIG2uw6Tt+x7fsOH/c/6jCMed7RUmkU8sk2jyNOH/tLU9iL/wAoP9YRxrBFaLHpb7iE48ZMcXCvqupI8JJuDlPTKF+N4TxqoGw7/uyElTLc3aKezOEDUVJG5P3nV4LBqnsqBfewtMDsw37OnofuZ0mGeaQWkZyk02aVGjpOc4PigeKOhRjooRgCQCmfNfopV2N+qjrOpwx0h+BQKxIAGa1yBz85co3RKytGvSScf2Xwrji/EHNsgCjzvUFNk+Fka/wnYUTMTs2v7bxFv/koL8qIP9ZM+UVGbpnTkTFKm58XzE222MxHqC8hmsJWOc3K0jd/KSFSSUyCxFbyQWK8eACtIOpPOPeLNGBR3J94xS/NFADEwXeEeNAp8je/nDDQJ12jAmSLmQMLXbWOAIAHe4sdOd4YrQsRYI8oqs2U5BduV9oEpxJO1MdDYmPq3Q0jU4cageoXtlLju7G/gyLe/Q5s00++gGCe4NyLjp6c5c06FHWyJwT5LHeYHa4/sWJHWk/8pmqxmN2sZRhK2dsqlGDHewOm3xja9rOZxcZIyuyFX9hw/wC4R8nYf0hONbSZHYetmwFH/DnU+Vnf+lpp4vaKK9qIk/c/sxcTY8ph8apDuX/cP2m3WGsxuPm1B/3SPnIktMuPKI9l/wDwKfx+5nS4czmOy5/UJ/m/mM2qmORBqbk7AaknoBKhwhyXuZutjEpIXdgqjX/aa3BsUlZFqJcBr2DCzac7fETgeO0K4ZHZUNMZDdiMozmw0uCWBvoL7S7hnFSiMmdSmYvcqtgO8KBwByzBdL3tsbyurZccNrZ6jQmP2aH7TxBuuIS3nloov3BmJwztHVqMCtst7kA6Achm3PX4zp+HtRVnqKoR6hBexOV2GmYrewbXUga2F9pEmm0OOFpM1aj6H0mF3g6iaVZ7g/GYacOf8TL8LycmqNIx6UFq46yzMIKOHHm33g7cNq8nHyMysujTD+cY1oAmHdRZ2ueo0B+ckF8zCwoKauJW2LUbmUtTbrKjh2POOwoL/S16xQP9EaKK2FF4UyaiQDyQqQETAkheQDw3A0c2vIQAJwtDS5lWKdQct/W32vCqxIU+hmEWlx5HZfwioGaplQKAV256Wueh0mixgfBRfOSdSQLegOvxv9JoOk3s0qzH4zj+6pO4IzAeG+1zoCRuQL3nF8b4wuJod1cuGyI5tlLEG5sjAZSGCkHo07HjXDu+TKGykXsbX0IIsfLY+oE4Wp2YrK9iRksLldtiDofUj0tFJvgXQvBLsZjERHoAey7MCeYJ+828VibwLDcFSibrf4xYkRxbSpmUsCbsHrVrTA7QVL0n9JpYgzE4tqjDqJnJ6ZKxUV8FxRWgoHn9zLsM7tVXKpd7nKBvex1HUje3lM/ANZFA6TreB4inSAqWGbRiQCzZQQpLEmygtcBRr4QdYo7SKUN2Dpxl6x7lMztWJRUJJF3LrmZTppZGI2sxtYgW7zs12Po4ZCjqtRmGViy3uL3yi/K5M80wmJNLEpiVF2R855FgSQwPqM3pPSj21w2mVgbi9mazDyy733hKXk0ogvZQ0qjpR0pscygn2drgeWuk1MFw0Ur3uX5sfsByEqw3aim7AjQbakf65CaI4vQqaZ1VgeZAuIotJlW+5XXByMfIzMpYpl31H1mziKihDqDcbAgzEKS5bIkzZphWAI1vzk1pwHhVT2l1tcW0NvPX5TVAmNCA8Zh/De20zbidEq30mBjKeRyvy9IMCOYR+8EoLiMGEACe8EUouIoWAKCOsnBUZeo+cvRxteSIKw1EuwUfH0nUUaCqoAG0yuHVKdNbswDHzAt5ayZ7QYa9u9UfBvvbWNNDph9QTIxWAIN01Hu9PSXHtDhf/WT6/lKT2gw3Kspv52h1JdxpAtCrlb3W6HT/AHmmmM6j5QCvxfCto9RPjA3r4U+xicnkGuNdtDLWXyUm0bbup2MBroJkvjwPZxFFwN7kqefTTlM6v2iye0oP7jg/SUssfJakamJSZOKpwV+1dHmHHqB+cqqceoNs/wBDK64vuPqiDYlJl4ineGVuJ0T+P6GCPjaZ/FJbXkluIH+j9BDcLQexUbG30Nx/rzla4mn730htHidEfiP8Jgq8hcR3wwUEkakk/OYlSqEqK52B19DpNmvj6TjdvoPvB14XTqHdR+/VRfuZEpRE34Ok4Ph++AZGDA8wZt0uB019rxHnbaY3AOGJR1Srhk6tnDH6fnOnp9yfbxaN5KyqPmDeJOPcVsqpUUpiyqFv03P9TDcNgmcgkZV0NzoT5AcvjCcMcOoBV0ueZYX+ZN4clZOTr/EJTlZDFSw6qoUDSXBJQMUnvrp/iEkcbTH/AJifxL+cVoC9RaZXHsPdM9tV39DCW4xQUgGqgvoPGNbfHzhIr03Q2IYEEGK0wOFFRvdMkHbmLQivTysVPKVmSMrzGPJaRQAwsHwBEYHM58idJq1cOqIzILFVJBvsQNDJUsSjeywPoYsc36t/3G+xkNaFZwNUkkkk6yKOQja7MtvrJVJTUPgf1X7zNGhbQ4hl3NxDUxanmJzjNrLqLnrLJOiWsp5xwwmXTJ8pepPlEMJqWgdUSYJ8pVUW8THZSyA7yp8KsIySDIYgBDQAkWFoUaZ6SLUT0ldQqBvP5yGbXaFJTI3GkGdLcpVk0EU2EtLwOlTJ5y8IRJZSLBUlve6QUiSW8kZYWjFj1PzkDcSHeGAF2Y+8fmZButz84g0ZjLRI+GqMlypKm66gkHmdxC14piBtXq/xv+cDoi4PqP6y0LEM7XstiXekxd2chyAWJJtlU2ufWbJac32Xe1Nx/jP8qzYaoZonohhd4oD3xihYzC4R7Y9Jt4n2G/cb7R4pPYDiW2lVX2W/y/eKKZotmW+8tpRRSyTRp7QmlFFEAjIxRRDGaM0eKAERJRRRDINBa20UUYmRw3OWNFFGIi20SRRSWUO8obeKKAFqxm2iilkj4XY+o+xhAiiiGdD2d9hv3z/Ks2G2jxS0SyEUUUAP/9k=\n",
      "data:image/jpeg;base64,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\n",
      "data:image/jpeg;base64,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\n",
      "data:image/jpeg;base64,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\n",
      "data:image/jpeg;base64,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\n",
      "data:image/jpeg;base64,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\n",
      "data:image/jpeg;base64,/9j/4AAQSkZJRgABAQAAAQABAAD/2wCEAAoHCBQUFBgUFBUYGBgYGhoYGRgYGRoZGBgaGBkZGxoYGxobIC0kGx0pIhgaJTclKS4wNDQ0GiM5PzkxPi0yNDABCwsLEA8QHRISHjUpIykyMjI0MjUyMjIyMjIyMjIyMjI0MjIyMjIyMjI1MjYyMjIyMjIyMjIwMjIyMjIyMjIyMv/AABEIAOEA4QMBIgACEQEDEQH/xAAcAAAABwEBAAAAAAAAAAAAAAAAAQIDBAUGBwj/xAA8EAACAQIEBAMGBAYCAgIDAAABAgADEQQSITEFQVFhBnGBEyIykaHwB7HB0RRCUnLh8SNiM5IVw4Kisv/EABsBAAEFAQEAAAAAAAAAAAAAAAQAAQIDBQYH/8QAMxEAAgIBAwMCBAYBAwUAAAAAAAECAxEEITEFEkETUTJhcZEigaHB0fCxUuHxBhQjM0L/2gAMAwEAAhEDEQA/AOoUafaw6fvJIEIQ4xIEBEF4zicStNSzfTU/IRhFJ4n4fUr5ESoUQG7lScxH9IUaH1mZxD4JKl2IzKbBVvYFeZA0zX6x7imNxjYjKtMujH3VUVFOUa6t7uUyk4jgzRUCuuQuWchbF1NiFW7G7DW51lUpfIdRfgmlxy2hCodBIHDql6a63tp8v9yWpnKXV9s2vmdRVLugn7olLUjweP0OGe1p56DZmXRkawIP/U7EHleQrFTZgQRoQdCJXZRKKTa2fDIxsjNtLlEkNHEkamZOq4crTWpe6tcf2kEi30lCrlJPHjcaUksJ+RKtFgxlWjglDQmOd4BEwxIjAMMCEIY/KIQISwzAvK+nW0SGBWcohfKrHMqKrOELszAWU82tc27RDmt/EjKhOHYNTVCAKvtFGbOSdhe6+WsjYjh9V6qV2w6PTokmmVYhmW+pck+6ymx0FpNegazKK2cOSXJze4yNoMuX0nZaPQUQqipRTcvPj6GfZZJyz4+vH5CcNiQ2RKj0krFSHpq1srrqwAJ6WMk1AqDMzqAAC2uq31UEcye0h4OmlIVfdJSk5c1mX3Rn1dAzasQFFz3Ag4coSz4hglWteozv8DDXKitspVLe5od94NZ0yl3SaTwsbe7fsO7morDLkDkLHQHTvHkUi+o00NiCVO9jbY9pVLxpVWqUpvnpororZQKuc2Rl10F9TfbnCw3EKGGHsmzFwab1XBAFR8QTmZCTd7W102E0I6eSj+wLKW5dgRSyvw3GaNSr7JS93VnpuR7lQIbNkO+knknpIyg48iF3+7QRNoJERY3gvIdXiFNbjNcqQCo1IJUsBbuBIr8bS5FiPepgFtFcVApBU8yM407GaGGC4La8rON8KXEoqM7ooYMchsWA5XkL/wCSqsAMpDZHPuAlWam6+6DyJAdSpl1UqqqlmICgXJOgAG5PSNJeGPjAVOiEvbnr8gAPoJzzxjTzYjMwLKQALm4FtxblGfEXjxqhNPDXVNQXO79CvQTGpjKi2AdrDW1zz6CUzaawgmhuEu5o09CmEFgLX26f71EdzSl4Ti2ZwjcwbHXkCbW2ubby2UzB10MWZ90bmnsU4tpYLXg/EDQqZxqp0Zeo6juP3muxeAp4qmHS2Yi6t17N96TE4WgzGyjMe36zZeHqT07qxBDagDkefz/SQ02phn0bOHx9QTWRUX6kHhr9TNNTKkgixGhHQiXPASHR6DC6n3h+tu+xljj8OoqFsoubG9ozROVgRAI6hafUuEltnD+hGy71a9lvz+ZT1sBUpuVtcciNiIPYt/SZratMOtvUGVbpY2O4i6lp5US7orMXwxqtU5LDW5TGmw3U/KJLeY8wZckCJKCZiu90Xer7oqQYoye+FU7gRpsCORI+o+Rk1ZFjq2LIZgF46+HYcs3l+0aU/wCZNYfBYmnwM8b9oFpV1LFKZKNRRSSxP8y208wZDTGU6aO+LpVqdRj/AMNNSWbIdBkZdCSfiXkZaZzsCbdI6lRgLA9/I9R37zoNL1lwjGDjnCx/ADPS5fdlfTH7lfwpHdVqYinZluKaFyyInImntnPMm8vaCKwKvYg/ysoZT6GRkTpr+Um0V/3DfWnOXc/9kVzSSwPqi2ylVZbBcuUZSBsljylTg8I61KdWpTX21R3ao1lcogU5KYciwRbqLLvrLi8ME+h+UKhbJA8o5RVYPHi6ItEZh7qqPcIZiczstvcptya+uokupxMkqBTAZnVffJAKFiruMo90giwB3k41Te99Tz52G0S1U8zv8z0ljsj5RV2S9x32R6GFG/aGCV5iWdrK7D8MysGzMxSoWGlsyZAqo5O9rb/vJlLAIFyZRayize98BJXtcX37CSGeIFSFubZVge9mP16DXymX/EPHGng2RR8ZCE9Ad/yt6zUZpkfxBoF8Ppb4hoefl3G/pIy4FFbnKWeGz2IMk8U4HXpUlr+zY0mA99gFIJNvhzE5drNzvKujQq1TZEZulhKnFLeTwXZb2SyTaWN9m6uDcqbi/adA4Nw5qtnbRDqDza+tl7d5U+E/A7EiriwMo1Sne5Y9X/69ufPTfoYUDTYDQDpOc6tr68qFTy1y/H5BenlKCfzE4ekqDKqgD8/OWWBS5zch+ciUKZY2Hr2lvTQKLCD9J0MrrFdPhP7sr1FmFjyyFxEag9vv85CMn8Q2HnK9jBurQ7dVLHnDJ0fCixwr3UdtIjGppm6b+UawT6kSTiPgbymzXKOo0GJeE/uuCiS7bNisDRQMYvHFM5RoNcR20FoSmKEgQE5Y1UoBtx685ItCIklJodSaK98IVF117c/8xNNNPP5yxiXpg6jf84do9RGFic+PclKbawMotompUAGvqNZIVbecRXpZrzqo4aygXO+5ASk+UlKj21IBI2voNo0nEK6m2YN2YfqLSbw82ujaEXt3G8FfDg72vMa222ubw2tyxSWcNZDwnGEYhKgyOdg2zf2tz8pYzN43Doy5WJN9hzv2/eWmAqHIoa5IABvz/wAzT0mpdsfxLjz4IWQS3RNuIIm46Q4ZkrFZ9Y1iMZSp61KiL2LAH5bzE1HxFQ+/Va3QHKPpAnD0G+/feD2dVivhWQqPT/8AU/saPE+LKI0ph3P/AFFh82lLxfFVMYns3pqi3uGuS6kc1OljF06CjYfONcR4hToUy7mwGwG5PIAczApdRvsfbDz7F601MFlr7hVKlTMKlSl/FVswSidxSGSxY07W3GrDQ31tpHl4dUWpTGKqYekrEsaaEK7EEZFA2tqb21Nu5mX4PxDF4nGIaTmn7r2AF1RLG7OP5jt62k/ilHDMpWj7bFYgNd64zEooILa/COw6rvNX0nbV2WP8WPtnyZzn2zbhwdEhJTLGw/1KPhfHKVRKa01q5GIpo7ruVS5uee2/OaTDVABYTnNP0ebucbdkvPuWytSjlckqkgUWHz6x5WjJeZfi/jrC0CVVjUcbhLZQe7HT5XnVQjGEVGCwkBYcnll9xCpcgdP1kAtMDjPxDqMSUpIP7izH6Wkel+IVZWBajTYDce8L+t/0nOajpmpvvc2kk378IOhZGEcHUMDRZiCBYDmdv8ybxHRLdSP3mK4V+KeGcha1J6X/AGHvqPMAZh8jNXicbTqoj0nV0NyGU3B++kMu00dHo5pPLf7lKk52JtEAxaxNotZybD2xwRQMQIYMgyDQ5BEgw7yI2AGJi4kxxBVmOUkDMRra9r9ryPgcdTqrmQ3sSGU6MjDdWHIyQJhfGXtMFiExlA2V7JUX+VmF7Zh3Gl+WXvN/o+qfd6Mnzx/BVZHCybd6atuPlyPYxt6LH+c+oF/nK3gXHqeKp500YfGh3U/qOhlmXm3ZTF/EslSb8CEwSg33PeSlQRCv2jiScIxSwkJtibeXygirw5IYy4T7/TtFBIar0+9Ipm0nKNm1ki47FpSQvUNlUXJ+W05vjMVVx1cKAbnREv8AAoBJJ5XsCSeVpO8ScV9vUKKb06Z25O40LeQ2Er+EcXfDVGZAl3RqZLrcqr6MVNxY9+l50/TtIqYd8lu/0MnU3ucu1cI2/gnAnDim7lS2KzWNyCtOmGOhI1YkbdADJvCOJV6yui+zw6ks+cKLsmY3sNr2N7nzj3DMJVbDoHGSoqFUYqHKqxufdba/S/7RVGphqaijUZHZ7owCggkWzBgNF+Iad9INPX1xscq4tvOH52XkeNP4cN/Qz78cNPEUw+IapQolQ59mtg6AgEZV1DX333vNseJU1X2pa1MrnzG4sO4OoPaZvxHhq1QHCYegiUyoJcD3SoI52FiOai521ExPHOIGnTXBUyclMkudLu5Nze3K/wCk09rYxnF8g6/DmLLHxZ42qYkmnSJSiNLDRn7sRsO0ySvG7y18PcCrY2p7Oiu1i7nREU82PpoNzCEkkQ5IaVe0VmnWuG/hthKaj2pes/MklEv2VTf5kyRjPAuCZSFohehVmB/OQlYl4HSycaJlpwLj1XCPmQ3Qn30PwsP0PeWXHvCD0Q1SkS6Lqyn41HUf1D6zKZpB+ndFp7ryibUos7xwviFPEU1q0zdWHqCNCp7gyYJy/wDDXipSs2HY+7UBZezoL/VQf/UTp6mcV1DS/wDb3OPjlfQNrn3RyOCGIkRazPHYBDggEiMHBDEFow2RNpS+McCKuCqqd1XOD0KHN+kvI3iUDU3U7MrA+oIl9FjrtjJeGhpbrBwvAcRqYaoKlM3I3HJl5o3y3nV+EcWp4ikKlM6HcE6q3NT0InFVcgZdNrGXPhzjBwtXMf8AxuQHH9PR7dvynoVlfcsrkCjPteHwdkpvcSXTaVdCrcXBuDY35ed5Npt9YHEukiVYdDBGrjrBLCJQW++e8zvi3ihp0siH36nur2W3vN8tPWaGpt99pzbj2M9riHN/dW6KegW9z6m8xOmaf1bcy4W5oaqzshty9ijXQaH7Ed4dSapiKNNQWLOug1JGYE/QEnyiah12t1mz/DDg1VsT/ENSb2aU6iio2il2Wwyg7nfUaTpp8N/IyFsdIxOHDLluy3tqpsdCDa/fb1mBwOBT21WoEuDVc03LaizMr2A7nczonKUtDgaUycpNixbXlecTpdX6UJxb54/c1IYym/A3isPmoOpqOigZmKEAkKCSNeR+c4k73Jbqb/Od04vSP8NWC7mlUA88jWnCZvdEscq5ZfD2BtVvJMcpIWIVRcsQAOpJsBO8eDsBTw2HSmg13dubVP5ifyHYCcS4HWWniKTv8KurG29gZ2LhXEfae8uZDYXRgA1jsSOVxCdfqZUuMsfh84/QjVWpRa8mvTWCq6qNTKhK7f1GC19TrMqzraS/DHf5klpt92QcXTzMWtp0nIfFuBWjimVBZWAZR0zXuB2uDO1VFvMdxXwY2Jrmo9RVWwAAUs1hy1sBz6ynp2vUbZStlhNF9q7oqK8GB8MuVxdBhyqL8ibH6EzuFMSi4N4Rw2GYOAzONmY7eSiwE0SCD9V1leomnBcLBCqLjHDFAQxBDmMTBBBDtGGDEOFBEIBiTsfKKiQJOCzJJDHnSuhSo6MCCHYa6HfofnFIDz52nd/GvhGjjUJsFropyVB1tor/ANS/UcpwpcynKwswuCDyI3HzE9MjsjN5Og+AOLe0pewc3al8OurIfh9Qbj5TdUH5dOs4twbG+wxCVf5QwR7f0NYH5b+k7NQe4Fvn98oJbDtln3CK5d0STp93/aCIzeXzglRIyPGsV7Oi731Cm3mfdH1InNS7KPT536/Wa/xjiT7ILyLi4PQC8x7NmF5HpVXbU5e7Ja6eZqPsaj8NuHNWxntCiMlMXfOue5fRQoOzaH3uVj1na6dMDQaDoNB8px/8MuG4pqr16VQU6a2R8yZxUO4ULcbXvmvpfvOyBwBmb1mlNpLcC3ZUJtDyRKHVh3P11/WLnm98e2ySXuahHr0gQQdjofIzjWJ8IYsVXSnSZlVjlcWClb+6cxNtuU7YwiFUCGaHqM9MpdqTz7kZxUluchw/gLGEg5UTuz7f+oM6NwbhT0heo4dyBmIFhp0lyRCktT1O7UR7ZYx8iUIqPAhVirRUEzckwrQ7Q4UQgWhwocQgAxQiRDjMiw4qJipEYIwgYDCjiDJjWLfKnqPzEcXeJazMB6/LaXULNkfqhB+JvEFHB0/aVDctcIg1Z2A2A6dTPPNSoXZnO7MWbX+ZmJa3a5no2vw+nXpslamrqTqrgETkXjnwacGfa0daDGxBPvIx2Unmp5HfkZ6NXLugn7ma44eDKJqpB6W/Oda8JY01cLSc7gZGO5zISv1Av6zkT2I0+72nQfw0rXo1aZPw1AwH96j9VPzkblmOSVW0sG5zr3giPaD7/wBQQMJwco8XPcov9+g6+6P1+7zPF7DL97y58Rv76b2Gb81OnKU9RIRo44pivr/kq1b/APK/yO3fh3hBTwFMhs2ce1PYv/L6WA9JqMR/4/lMX+FWGqpgs1R7o7MaSW1VbkNc9CwJA/fTZ4n4PWS1X/plj2ZTX8SKbPle/LnJbDmNjsZErJHMJV/kbY7dpw9lak8efBpvjKHLwQ6iWMReByi4vDEt+BRhQoJEkHBChxCBBBBEIEOFDiECGIUAiEGIcKCRIBwoccChdT6CSjFsZvAnLbeM0zqW8zBUYkxWTQwqppNdq4/UdrbcssNUDLoLf6nO/wARfE+GfDthabh3ZgGAv7mRgSW6G4tb9p0OglknNPxR8PDTG0wBchKoA3J0V/PYH0nfadt1xzzgzJ/E8HOcMtzqeU2H4dtlqV15ZaZH/wC0x1M5Se3Qb+U1n4fN79duq0xr5sdfpJWrEGPW8yOh5+5+/WCM3Xr+UEACzlfHkuoPQ28s1x89BKZn929vsm/6zU4/C5qbgctduY22FuW35WmYGotzH+/1+kJ0c04Y9iGshiefc7h+HDKeHUcpuLNmub5WzNmXtY8pqHXMhHScR/DXiuJpYxMPTs1Osxzo3wrZSS6nkwC+R+s7km8IsipRcX52BE8PJR1lkRhLTHpZvPaV7rOF1MeyyUHyma1UsrItMTybUfeseAvquo7SA0QrlTdTaDv8XP3LOz2LGCM08cD8Q9RH1dW2I8ucqlU1xuQeVygQQ7RMqHDghQRCDhwocQgocFoarEtxshRQWK90bm/YfvEtU9I7jjkhnPA5cL5xpjeFeACPltYXA6WAKsfRrEecbEcwyZn8tP3h2ii3dGK5yiFj2bZIxNdadMvUZURRdmY5VA5kkznfjzxbhqmFNGhUWo1Sw93UIqsCS3Q6WA317TfcW4fTr03o1BdHXKeo6EdCCAfSeeOJYR6FV6VT4kcoe9jow7EWPrO9jHCwZrYqoPc1vtt35TZfh7QtTqVDazPlHkigX+ZMxD1hkAv/ANj6f5tOm+FsIaWFpodyuc3Gt3Jc/wD9W9JVe8RwWUrMslzde31hRXs/L5/5ggQWZOvRGx8uZDcybntpz9LzD8RoGnVI5cj2OoP5+k6FX+dvlbmdfvvpM34hwedRUANxv1t668vp3g+gu7Zdr4f+S/WV90c+wjwNf+PoZXCHMx110yNmUA73Fx9Z3lHnmlaxRhUpuVZCCpXQoRsROsfht4yfGs1CuqCoiBlZTY1Bexuh5jQkg89hNwxzdY6lnUEbiVdakRoRYy9WRMfRzLmG4185h9U6arM3R5S3XvgKou7cRfBQVEkd5PYXF5GdJziimacZEfNExTLEkRu3BYh+niXXncdDrJAx/VZXwgZBwT5GdcWWgxqn+UxS4lTKxWis0g6kR9NFl/Er3h+37SArxavIOtDdhLNSH7Q7XkUPFBo2McC7SQGgBjQjiyOCLHUixGlEeURJ4K5Bg/PlLGgoUaC3fr3jOBw1/fb0HQSRWblOt6NoXXH1Z8vheyAr7E3hFZieJ0kZlNRAyi7KWAKg7Ei84r4wxtPE4ypUp2KEKMw/nKqASO3ftJ/4rUCMcrtYh6aZdB7uUsCPnr6zMCqAO5+7zewDZD4Lw/22ISmBozAsP+iG7fO1p1/DAaAD58h2mR8E8MyIarixewXmVQdPM/lNlQTXXbr9YHdLulj2C6o4iPey7n5CCK9mIJSWGUrefrz+fn5fWV2IW4Knn6ctDr001NuWuktFpdvzFhvvv6fSRq9EcuXLncX5epO456azIqmkzTnHJguLYM02uBodxt39Ov05GW3gSvQpY1HxOUJZgrPoqPoUY/Ii/wD2k7H4TOCLXIuOnPY8lPQn9TM1iUyDKw0OzW9LHp+hnRae5WR+Zh31dkvkekqQ0zK1we9wZI1t+c8tU8VVTRKtRQNgrsoHkAdJ3/wL4gbFYNKjowZP+N20s5QAFxY6X6G2t9xrCGUIvsRgVfUe6x1+nSU1VLMVOhH2D5S8GKQ8/np+cbxWGSoL8+TDft5iZGu6bGxd1eE/0YVTe47S4KBqcYdJePwtwujBm5jbTt3ldWQgkEWI5GYN2nsq+OLX+PuHV3KXDK8rE2ktqcaNOD4CFMaENYspE5ZBofIqLWIAjqLK2JsMRaCEqx9ElcmQbDVY6qQKsWj3NlFzIJSm8RWWVNhgWj9DDFzrtJeHwthdgCe+w8hHw4UWnRaDojyp3fYCs1GNkJqHKNDtM3xPxRhqLmnUqBXsCVY2IvtLuvXAF7zz54wxoq4/EPe4z5AeyKEt81M6hRSQI2Wnj7jSYqshpkMtNWBYbEswNhfe1t+8rfD/AAk16mvwjU9gOX6eflIeAoNVYKoOp+/v16To/CuHrRQKttgWO1zbYdByldtnasLknVDueWWFGnlAVeQAAHIcpaYZNP8AX1kXCpf057/WWdJbbdzAkFtjmRfswQ7eXzMEfJEyzJp3Pzte3e4+fLa8jV0BGmx6c9LcvTry00k903vz+9vn185ErUr/AL77677H6+l5zkJGyynrofPkNdBfQ2I0H3ppKfiGDDgkL0uDoTcWv0Dadr7HYW01elpqN9PIch0+9tZBr4fmO9j3Njuf8cus0aL3F5QPbUpLDME+GyNbW23+LHbymv8ACXjN+HKaT0/aUmOcBWCtTYjXLcWYGw0NvPlI+O4eG2+I6+Y5AjfyOltJnMTQddBfrlOvqp5+nym5TfGxfMyLqJQfyOiYj8WlLBVwZy/1NVAbzyhCPrOjeHeLJiKK1EIym4BF7acrkDUbek80gXnVvAnjzDUcOmGxRNM0/dRwrMjJyvlBKsLkG4tpe+9iAc6m1RL/ABC/mLxjF0FqCzakagjQjyMxvE/xE4YgOV3qnpTRufPM4A+sm+EPFtDE3po92GoUqwYL5Ea+krsrjOLjJZTJRk4vKLr/AOMBW+Yg8gdvWV2Lwz0z7w0OzDUH9ponxNMfEwHnF2BGmxmdd0imcfw7P3X8BENVOL33RmK1BkVWYWDai/3oYyEvNZUp5hYgMp5EXHyjX8MirlFNco1sPveA2dCbeYS2x59y6OtWN1uZj2doaiTuLYZQAUYKWNgjH4uuXncfpJWA4aq6ucx6WsB6c4Cuj6hz7Xj6+C56qHb3Fcq95JoYdmF1HqdBLtUHID0AgB6gdrdIdX/0+lLM5ZXskDS1eVsiDT4dzZvTlJOHVRsB5iPM4A7StPFaKizutOxNs7BQQOYvNejQ0U/BHAPK2UuWWTVJlvHPGP4bCvUUAuSEQNtme+tudgC1u0ZxPjnBBsi4hDY2JDCxPY8x3nOPGviY4yqKdMH2NNjlI2epa2fyAJA8yekLKyRW8fYl6fsxTRHIt7QMT6hCuh9T6zLYfhxquFXUkm56nc68+55X9JL4fwh6jXtpsT/KPM8/Ia+U2WA4ctIWXfYsedrEDTYdtpVZao7LkshW5cjHBuHJQXTVuZHc7A9Pzmgw6nmNe0YpUibH89j27yzo0rfqYFJtvLCkklhEjCJpe3z/AEB2k2mv+h+0QiW8/wAwY8CO/wCfzjjNi8q/1GFDy9m+n7Qo4xmMtv21I+X7fpEMvn53v5g8/wA/oI5mv/jTfqLfmIRN9vn9/vOXWTbI9Snz+u23+L/XTQSK9H/Wx012Hr059pYZenTlp6dv8do26bCw9NNug9OX6SyM8DNFNWw/QX+ncbev17SuxfDw4sRfe3W51B/T/c0j0uuh76bf478u0jVsP1/b6H1684VXe1wVTrT5MHi+GsvvL7wFv7h+h/OQKilu5HLZvlN/XwoNwRr378vLfYDZpR8Q4au5W55cjfrf75zXo12dpGfdpFzHYyhA/wBy+8JeImwGIFUUw6MMjrpmKk3ujH4WB9Dz5EJbgdQre4PZhf6yBieG1U+Km1hzXUTRjZF+QBwkjrmI/E7hpp5v+Ytb4PZ2a/S5OXTzlt4a4/UxtH21NQiFmUBjnf3Tb3rAAHtrpaefqnn8xaWXCOO4rC3/AIasyBrZgpUqbcyrXF+9ryZA9Eo1S3vVLeij9IMTXSmL1KgC9WYAG3faedeLcexmJFq9ao6/03sv/qoAPrItJiVAcsVUWVWzEKCbkKDtr0iEdYpcVw1biNJqdZc5V0co2Zai2UooOwYEcuSnpN5RoW1zG3S+k81o2UhlzCxuGAIII1BB5G8veJ+MOIVUyPXbIRY5FCFh0ZlF/rGHyd0fiSk2pkEDdhr8pjvGfi44Ej2bZ6z2ORvgCAkFm+VgB+k5NhMfUprlSs6D+lXNvkDBicQ9VgXZ3bYFrk21sBv1+sQjpXCPxLSplFdXRjuQt0B7ZdfmJkPG/GzjaospWlTuqAjVi1szkcibCw5DzkHA8Jqm1lYDe7e7+5+k0GB8PD4qhJPO1x82PvEesrlbGJONcpGVwPDHc2C3P9IF2+XL1tNfwrw2N6nQe6Drr1Ybf2rb1l7gcAlNcqgDy2J66bmWCYf8/neDzub4Lo1JckGnh1UZVFgNLACwHaSadC+tr8iTJtLD3+l+wklKIv8AoL6ykuI+HoW05SxSlYAW+UNaYG1o6Pv94sEWwIPyjgA+/wDMIjp2HeHb/fOOMC5+7QREEYWDH18RldaSAFmDFQTZbKRcmwOpLDS3XrENjCGWmEuzBmBzHLZSP5ram5GgB72vEYp3JI9mrKLNcgEZQLOoBOj6G1raHtGnapYKaKsLBgMuihS10Iv8drAcrlugmJGEcL+f79jWcnlklccTdQmYq4VgGHNc3usRZtCNDl+sNcaXzFVUhQCczMrbG4K5cwIsBY33HWQWapYZaK82W4sFsWJB1917WGhABZtPdEexVR2Wy0/eZkLDLa6NUAKtvrlvmuNAzdJL0o5S/cbuf9RLw9dmRWKgZlVlAYtuL2JygKbW8zbWRaOLzllyZSqqTdvdBa9lLEWzALfY8usZq4moqqEpKSAbLkKqDsVUgnKbHfY5h0Ihe1Kn2RRcrGowvTLABWXLZVtce8OX9MSqW+39/wCBu9jjO1kutszZSCfhJzakEe8PdB2U79ZHw5SpUNwMqllBY5QzIhYhSdCbKdyNATqBHQKjZE9gtroSMui52AZkYEhSBry9ZZYLA1aZ9p7MO/8Az6BcuaxApKSxNgRtt3vvD9NUvif5Auot/wDlCMKFZCWC07FVs5tfMtx8YXlfzsbEyLj6aIagZfgRnABN2VcuYrdQtgWAPvaaXlzSeoqkU6SWJp6im1IXLhX9wtc2XXNtDZaiZ2FJc+YrcU2ZqgCIdPesLsWAzMF033MNSWQRyZlMTw1Xzq1NcyWNr3UhgSLNlvfQ6W6dZU4rgFMZM1PLnsNz7rNsugIv52m9oYL/AMiVKSsPaXpqKQVAMgIbNqp1DC+4PYgSP/DtZCaS5rhT/wAT3ojK18ovepqAvuaa32klJrgZpMwDeG1zlQGAHMG4vfYiw1gPhbu03CYOpe60UUlKjFvZkFijLkFgQVL3Y2JuMsk4fB1Ga1RLDIjggEe82YMhuTe2Vdf+20f1ZDenE58PCwvu0fp+Fae/vH1H7Toh4eP3t9Ia4BenYxvVkS9KJisP4apjTIL8rmWWH4SF+FQB0sBrNQMKLfekNMKDpIOcmOopFPQwWuxHXnaTaOH+7WH32lkMOByt3HO3a8WlPa/+JEfJHo0Ty0v8o+tO/pH0S31669o4qdu8fAsiETp3/wBX6RaJaLHnp84ZHy6/kLWiGAUA236Qxtc9YZO37QAa7ntEIA3h/PpfSJv0+sV9jtEIF16j6/vBC07/AEgiEZer8S+Q/NY2nwjz/VYIJza4NkC/G3l+0NvhHm35NBBH8jkev/P5P/8AZFD46X9zfmIIJc/79iJZYDc/2j8par+sKCa2n+CJmXfExzmfKDkfX9IIIQUim29P0hUtx5QQReRvA0d//wAT+UUdz6QQRDiE5+v5xJ3HnCgjEhyn+pjdHn984IIhhb7D76RfL1/eCCLyIdo8vL94dPc+Rggj+ww2/wC8kJsPT8oIIy5H8B1P3/SNp8Q++sEEd8iQtN/vtA8EES4F5FQQQRxH/9k=\n",
      "data:image/jpeg;base64,/9j/4AAQSkZJRgABAQAAAQABAAD/2wCEAAkGBxAQEBUSEBIQFRUWFRcVFRUVFRUWFRUVFRUWFhUVFxcYHSggGBslHRcVITEhJikrLi4uFx8zODMtNygtLisBCgoKDg0OGhAQGi8mICUtKzItLS8tLS0tLS8tLS0tLS0tLy0tLS0tLS8tLS0tLS0tLS0tLS0tLS0tLS0tLS0tLf/AABEIAN8A4gMBIgACEQEDEQH/xAAcAAABBQEBAQAAAAAAAAAAAAAAAQIEBQYDBwj/xABEEAABBAAEAwUFBgQDBgcBAAABAAIDEQQSITEFQVEGImFxgRMUMpGhB0JSscHRIzNicuHw8RU0Q5Ky0kRTY4KiwtMk/8QAGgEAAgMBAQAAAAAAAAAAAAAAAAECAwQFBv/EADMRAAEDAgMFBwMEAwEAAAAAAAEAAhEDIQQSMUFRYXHwBROBkaGxwSIy4RRC0fEzYoIj/9oADAMBAAIRAxEAPwD0dFIQhNIlpCEkIASoQpISpKSpQhCSkoCVCEJaQlC5zzMjFyPa0f1GkiU2guMBdKSKsm7Q4VuznO8h+64ntVh+kn0Uc7d61DAYk/sPsrlKFnj21wgflOcUN6HyVlheO4aT/iUejhX12VhBDQ46HRUCk8vdTAlzYzAXIm4mNOtxiwSpGEEWCCOoNhOpRVZEJpCUBCVNJFISIQhORSRKhCEISITTgnJoTkJIQhCEKImpUIQhIhASTSoCEJoSpUiVCEqh8R4pBhwDM8C9m/eN7UFF4hxCVzjFhWZ3j4nWAxnhbjRd4LzntFhpzI5k+cSanvGzrzBGhHiNFRWqlrSW/ha2YGq+k5zYLokNm557hzibCRMrUY3tdJICIR7NvU6O/wAF14fwCSb+JiZHNB1r4pCPG9G/VYuIOa1rbca0srSxdpppHRtDWt7zQ8jXMLANX8IWFuNpn7l2GsrsoN7pgY4j6rgxwm87RN+Gq0Y7M4Mig+cHqS1w9QGj81mu0HCpcK4BwBa74Ht2d4eB8Fc9pJ54hEYXAWXZrAN1VA3y1OymcQd7xgHZqsBsjeeUgi/oXBWVagOdjDDmifTis2HxlZha57pa4xxHp/awmE4NNiBI5otsbS5xLq8bAO7qF0rXs5w33qQtcS0NAzEAEknQCuuhPorvs/gXHBPYwtD5GvNnQGzQvp3QpvZrhZwzcry3MXFziNQOQ86ATovrPFMEy2JO6ToB4JVMRSYatSmGh5MAx9UbTyn8zCzDMY/DyObHIe64tsbGjWy0PDO1INNlFf1N29R+yyGPhySubYdTiMw2dRqx5qR2dED8Q2OYvog0G83dCeWlrPh8dmdlIg+i6uKo0alMuqCYEyPu3228YMr0mN4cA5pBB2I1CcFj8XiHYHEZYn2wgOynmDyPj4rTcO4gyduZuhHxN5j9wuo182Oq89icEabRVYZYdDu5/wAqWhNSqcLEhKkQmhKkSotJCAltNSpoS2lTUJShRkICE0kiEqEkICEqRNNKsx2q7SthBijd33aF22XWiAfxFXvE8aIInSHkNB1cdgvJscwyuLn94uOt62et9dT80i6kAe8JFrLTh8PXe5tSmwOAcAZOzb1pJEg6LYcKxcjeHvkjrO3O7XUaGyT17qsnRM4jhWO7rZAO443odnMJ3y3+hVR2IlGWSF2o+KuocMrh5fD81bcOjgwh9ixz9Tm72urqoXtsAucHsqMBcfpIgzvmy3YgllZ5H3B2YHgdZ4flZyPg7g8tk0ykgga7fopeWKJzB3RbgBfMkgAeJWkxWAie7MHOFm3NFVfOjyWYwuO4RHJI98ntJGSOyukBe5tbCMAVQ2sCzS5jezKpqy9wDQbXknd0fJV4jtEuHQH5V12ohnfHEIIjIc7g45g0MBA7zr5b7KN2m4oMBgT8JecjGNOzjYLtOlAn/VUuN7ePJLcPEAOTpDqfHI3b5rK42R+Kma7EyuNuDS7SmtJF5W7ABeib2fUcXVA25F5OwcNVwq3aLGjIx0nZuHj/AGt9xDtE4cLbjGNpzsltB2zOyuANdfBWHYnizcbBZOpzRuvUg1pfoQsr2qxWHbgo8Fhnh4BaXOBDu6y6sjTMSb06eKyvB+KYnAvLoHCnfE0i2urbTr4hQdhatqpaSIv57vmJTdjgypkJtaYjVen47gby1xdFQbudBX7hL2d4RUMjoywSusNe/ZosChoa0s7brEYr7QsbKA2mNB0IaHEv/p1J38FtezuHlDPbTZ4gRfsydfNw/IbriYbCDD1R3clsEEkgRx0GxdWl2iKzCwO0gxBg8PPYu7eGQYW5sQ/2rhrbtW3yAafiPmqPD8YLZzLG0MBcTkHw5Sfh8lI40Jp5W5Q5zfuMaCa62Bz8f2S4TsniHau9nGP63a/JoKvw2JbUdlotlm++vM9ea7VEtY0vxDxLhoTYDcB72W1wmJbKwPZs4X5dQV2VJwTBzYQ+zkIcxx7jmm2h9WW6gEEgfRXa7DCSLrgYmk2nUhhlpuDw/GnglSIQpLOhCEiEJUqRCEJUIQkhRggpAlKaE1OSJUISoSIKEKr45h4ZAPbuIY038QYMx0BJ+g81j+PcBOGOdpLojoHH4mk/df8AoVcRYgY+PEwk6lzsvg0/yz6EKX2YnnEAbiWOa5vc72udoA1PXpfOlhrNFYZdJ28t67FKpVwgIJ+03aba3kcZ3eNlQ9lcSI3PJGjsozcxV/TX6KR9oeKMETJmDvO/hXyaaLmuPpm+inv4CQ85HMEZcXaXYBN0G+G26x32gcZeXnBAtcyMscX/AHnOyaA8hVm638Nlho0qndvp1x9INvP1B9pHLJ2lim3qsMEhUv8At/HSR+xM7y2qO2Yt6F9ZiPVcoYGsHLxKTDRZR4nf9lCxeIzmh8I28fFepwmGGHYHvu8+nD+T4Cy8o0VMU/LNhtUiXG8mD1P6BRXzPJ1d8qC1fY/sTJjGiaYujhO1DvyV+G9A3x+XVekYDsvgYAAzDxf3PaHuPq6ynUxJm58l1qeEosFm+d+vCF4e3EvGzr/uAcrDhfEowQ6VoBaQWnXc6UBtXmvWeLdjsFiQbhbG4/fiAY4eg0PqF5P2o7My4GXK/vMdZZIBQcBuCOTh0VNUjEUzTcTB1v8APur6LGUagqsaMw0t8K14BxCHD40PEJcKLYxGCTmcRTgHHerHqt42HGyzslmyQwsNiCw98hrQyEChW9C15Fw/FOa5uU95hDmn+02PkrrjPanHStp0uVpBBDQG3Y5nf6qrEYRrKIc0SALzqeJ38fNZBjMlRwq2MyA0AC/lbgvXDxiP2gZmYHHQ5avyJHNU8/CMZLK722IyRWcrYSQXN5ajUaeai9ieEQxYSJwGZzmCQuOtZhmIaOS5cU41MQWANax4IvUuA563Wx6Lk167KYHfHWSAJ9etq7mDZUef/MAGBJMGOXxZduNccDA2GFxdkc1xfd6t0Avn4larh+J9rEyQfeaD5HmPna8wyrd9j5rw2X8L3D6X+pV2Erd40O0n4W7tHCMp4ZuXYdd82Pwr1CELauChIhIkhOQkSpoQhCEIUa0loQhCEoSJQkhOUTispZBK4bhjq+SlAqBx8E4aWvwfTS0O0KsogGo0HePdYHs/MWYptEDMcp6EOO30FeNLU8fwkj42vjc4GN2ZwBItvM6dP3WFkGv+ei1fY7iZNxODnVqKa53dPxNNDT16lcx72lxom0jXz/heix9JwcK7f26jh0YUbjfHp4MMXtrNo0Ei9Sd6urq15tG4vktxJLiXOJ3J3JPqtx2/w74sM3MwtBlFX0yuIF9Vl+AcExOJJdDGS0aZiWtbdjm4i/RQ7JL3vYK5NnbbadeK8h2rLquVmkaDfdcMbJlYep7g9d/pa69keDe+YuOE/B8Ulco26n56N/8AcmdpuHTYZ7I5m5SQXDUEEaAEEaHmtb9jcY9piHncNjaPJxcT/wBI+S9PiKmpG5HZlCGAGxJPpZenxxBoDWgAAAADQADQAJ1J2ZJYXOXX/St3lJSqO1vCBi8JJEQM1F8Z5h7QS2vPUequbShSBgyEfpm7yvmyN2Uh3RWOMNtKh48tEjwNg51eVmlb8K9nIRGWAveCwAOdmeBRvnlOm66OcCm9pEg/IMrlv7P/AFWIY0Pa0wbutpEDmSYGnnANl2E7SYiGRuH7ro3E5c12w0Xd09DW3itPxpvdafE/Uf4Ks4J2IxDJmS5oBVn2XtC54BBFZ8oaTr1Wjn4RJMA0kRgHUvBvatG7leFx1Ku+vTYASI8OPAaDWF1exnGmJqmIPpA8Y8FmDt6rZdjT3H+LmuHq2j9QVn+McIdhw05mva66c2xqNwQdt1oexX8hxP4yB5AD9yup2fTdTaGuEGSuz2i9r8GXNMgx7/haJCRIuovLpyRCEkISpqVNCVCRIlKFHCVOETuiX2LuiaExCf7BycMO5CFyTMZFnjez8TXN+YIUkYdyd7u7wSTBgyvN5uzUoHffEw9CTf0C0fZyCOCIC711I0zO5ny5DyXOeWPFySAV/DcY9QDRbvXzTcNwWVg7s1C7ossfmKWR9GHyBfRd176mJpDO4XgxCtOOlgbQp8bxTmvAc0+YcqdrgGgNDQ0aBrQA0DoANArKSBgaBK5rq/FWvkFY4HGRFpjLGZSKDaFfJOYsVjewUgIEnes/JwLCY5sYxYJDSctOc0jNV6tI6DRM4T2ei4di5GwSOdHLG1zWu1LcpIq/nqVLh4ViGOIEkZZmOWw7MBeg36K1ZhheY0XVWataHLyVlN1T7TormUGMfnN7deSeXlMMrui7BoTHOe06MzCuoBv15IqOLGlwaTwGqsJG5cTinDkouP442KN73aZWuOumoBofNWd2LLcp6b16rlPh2PFOAIPIgEJsOZocRE7Dr4osdi8i7Odjfe4hNLN7Nricoa3M4gEgkkkAag9VseA9mYsI9z2vMjnCg4tDco5ganfr4LSwcOhYMrGNaNdGihqbOg8VFxOEmzj2WTLse8cw8aI6+KvfWe4ETYrOzAMc8OJEibnROY0rq4k6kkrvDh+6M9F3Oi4D5WnHDMO4+ppUwp91B1VZxHhxxMYY17Wua4kB15XWKqxsp3Z3CPhgDJG5XZnEj6cvJOmwDSLjjizciWj8xspmC9o4Frm1W2o1HooC1QCDzi3I7lLEE/piyZEzxHrcXXZIuvuzvBL7s7wWhcZcULt7s7wSe6u8EkLilXb3V3UJPdT1CIQuaF191PVKkhPARSVCkhJSVCUBNJFJaSoQhZCfh7YZJS0m3PLyT1drXkNB6LrBxAbP+a68V/mPvr/oqiZUON126F2DkFZYjh0E+pu+oNLrg+FRxG2mUnlme4j5bKjDyNQSE9nE5G80pbqQr7xErRYkPyO9nlz0cuay2+V0qvhzMf7UGYt9nVkANu6otFbD1K4s428bgJ57QtaLINepTy53CJ5BZq1AEh7nER/tA127911foVPDx+J2ykDi8fipkxYqwNJEhSsVLkY5wBJA0AvU8tlWYLjLpHZfYyaODXaEZeeY5q7v7KV/taPxQeKx+KbXtGolI03Eg3U2kUoQ4qz8JTv9qjk0JZgpZXJOLw4hzB7u4B2bWwDbaOgvbWuS5cDixLGn3pwvZrRlO33s25B8V1djnHmuRlNa+asFaGZAB5CfPVUHCB1UVS4yNgcY8RMHy2BWRnGwUvAGyfJZrg2N9sS4ZgKGjtK/1V/gMS0SCPW3AkaaADqeSz4euK7c7dJPptUsZT7tjgVaIQghaFx0JLSoQhIhCVCEiEqEIXFCRCEJUBNzIzIlCehcs6QyIlCouMn+K70/ILG9p45rY+IuoHv1rsQRTb18fBaLtDG44tj23WWnHkBQ38by15FcHqtr8j5iV1n4fvMO1uYiQDI1BB/F+BhRhZaL3rVVT3ODxqdyKrQ+vJXJC4SNCxVaTnuaQ6IPn18roMeGzbVczsq3iODMuziCOXKlZu2XTBYZshLATnylzdQAeYaBWpI52FqpPcx2ZuoWTFtovpd3W0dbx6E/CgYLD+zFaXzU7CgPeGl1A7kDMQPAc9aS4T2ftSyRtkA91xLe9pvVHayp4wkIkIiZTnCt3Gr15uNDnQ6BRc8udmdtQ5zaDe7YIgW3AcyZ6su8OGh1Zv8A+pu4HkaBrKuE2Cyglr43gb5Xajlq060uuGgY62h0Ze34qbdE3z8wfkuU+HLXNJ03sjWxpfnp+ZVTC8F2ew2b/FZ6dd2bWd8/CiYmb2bC4Ak8gOZT8DLnJOvLfl4WiaK9Hcl2gDWCh/iVF9NzqjXZoA2b+uuHVDhlIiSVKYuwTMJg8RK+hC8Nr43d0X66keStncILGFzntsC6Hh4rSLrLUqMYQC4Tzn2+VBw0YYKarDhnD2mczknMGezA5VZJPmobN1bcLB13qh5Xr/gpgwVmxX+MqekSoVi5SRCEIQhCVCEIQlQhJQy5NL0wuXF70k11MiYZVGkkXB8qUpwpjp1wdiVCdKmOkpJOFV4TFSSGUyGyJntbpVNB0HpsujlB4dxESTYiOxmjmOn9Ja0g/O1Ne5VvuSu1SENaOA9lzcmCIOOrso5mr+Q5lOlPdNb1oq3h+Ie6T2TgToCHVQJ1sWoCJur3MeaTns2KV7sWyua63NABFgtzZhYB8qN10HVdJcNmGc0BoAdttAAAu4a57g03pob+6Ofqpj4C9zWj4Wmz0FfCFCpWNOo2kzU3J3Dr+lyazu/E1NBs2c1Ws4bJPpJnGWiySxnFHVt62PPZWcZ9k45mkkmwRVEE6jX6qZBWUV0Svja494WAAdzWt7jbb81N31Gdqra7K3Kft5m3JNjkzgEB3TkB+6hcccaY1u7ifOgB8t91akBo6AKFxAD2Tnm9gdNwAbH+fHwTbAubqIZ3hyA5ZMSNRNrcbwq/EybuPUkq07J4m2Zw1tuJo1rQJG6zuPkidEaMm3Ufsr/sXEBho9/hGp380mmSuvj2ZKHMge66cV7SyMmMTWWQQCSaFkA6Aeaf74947x33A2U+Xg+FLzI/M5zjfxEAeQCrOK4aSFw9mbY74bqx1BU/q1Kpw5wzoa0Q6NTtO2NVW8Sx7mTxRsOriSRRJIGmmnLc+S2vDh/D9Ss2yMWHOouArNXXevBS+xeIdLFLISDc8jW0SRlYco8jXJXggtAAiPWSs2KpubmcXSCRA2AAfJk7Ng2LQoS2kTWBIhCCkhCVIlQhKhIhCFUuK4yOXZyizKJTC4yPUaR66PF6/JR5ElNMe9cHyJXlR5ChNeccTxsmHx80kZpwkzeBBaDR8FocVxdmNw/8IhsrKeY773iWfj5lZXtzGWYxzxs9rXfTL/8AVUuHl1GU6jWhuFRVpFzTGhXVaaeKo/pny10QCNoOhG+F65wZsjYGCQ24NAJ11rnrzUgRNaSQKs2fNee8P7U4iGg4+0b0dv8ANabh/a7Cy6PJjP8AUNP+YfqoBwW80X07arSQYwtoEAj5fkrKN7C3UgaXrVX1HX81mMRMJGXC9rgfvMcDXjouWFxEgBa4vOgAPJ19APHSlIUcoztAA27z11sjBVosqPDAYOq17i4R3EAXEWAeZIsfVVnDOJSPkDJCAHXegvN0P5LlHj5Y21LHMG8nEOaNepH6qNPNmlLomvcSQ6mgk3uTQutbSDrm3tf1UaWFs4OA4Hd11qtNj3BrbJIHM9P86qu4hjfasyN2PxHrXTwTZOIZwWvjlaaPx23cVoNuai2AgOLrwRzjzsSjD4fL9TxfZuVLjB7PunZ2iuOFdoHRxtY2Md0AWSdaFbV+qpeJzNMgv4W1m9Tr9FusPwzCOiPs4+8W205nHWtKs+SbQZst2LfSaxgrtJn053GwrKwYiY4yN7nuJeSDrpVXVchoFtuIuqEczdj5FUXDeBymRssjHMa3YPFOJPOuX+Ky/wBqHa17X+64aSso/iubvnddtB5UK25kjkpA5QSVlqtbWxTRTIhouRpbl4KTiu0cbI3l78ps90uBcD0FenzWg+ydjm8PzvPeknkl8O8eXgvBH4iviOvPr/qtYz7UcVHh4sNhGxwsjZlzkB8jjuXUe63UnSj5q6k1zjMKPamIoluRusjw6t+V9CgpbXzz2d+1biUeIHt3+8xE05hYxrq6scxoo+dj819BtdYB1HgdwrFxotOzr+QnptpUFCSRKkSpIQhCEIVY8KLOKBKnuao+IjsEeCgpKBGy2NPUA/PVR5YlK4Q7NCBzaSw+bT+1fNd3wpwmqKWIqLI1X8mHUOXCohMFYLtbwr3hltHfbdD8QO48+i82nwrmE6GwdeRaV7ni8DazfGOzrZtSKfyeN/XqFCXNMha2Op1GhlXZoRqPwvMm44nRwv8AqboU5kgGzvnopvGuDSQOp7XVycA6iPA/oq12HNaUVECkeC258YzT6xv29c5Wk7Pdn8XjCX4am5CAXucWgO3oEAklehdiuAYrDOe7FvDyABHTy8C7zHUb7D5rz/sD2m9wkcyYO9hKQXEC/ZvGgfXMVofIdF7PFKHNDmkEEAgjYg6ghHdhuiyVsZVqSHCJ2R/SkNkI/Y7Fc4g1gpjWsF3TRQSApwCaySqjtli5mYTNFE6Ute0kAElrMrsztNa2+a82Pa55GoN+lL1h/EYoybmiaRvb2ivOzovHO3nFMLNjHPwjWluUZ3N0Y+Szmc3Ty15nXzRY532ro4LGU6QyPFtZTJuOzOZlGVp3c7ckqRwTtrjMGMliRgNgPux4NI2HhqsqcU87NaPPvILJX/iPloEhReLuIC11sZQrjK1rnHgD0OcLb8V+1LGyCgY4m88oJefCzt8h5rJ4riTsXMZJMrWuPeN5STsNeWygTcMe1udzXUTlBo1mq6vYla/sF2RGMlkslsMYa19f8RzheW+VD8wrA1pOslYw+pSBJGRkiRqTw9N4j0WckxEUYqNuxokAE/N26dHjwd3N/teP3XteH+zrhzf+CXeDnucPkTSu8F2ZwsX8uCJvkxo/RBw7TqShvbFYGwbl3AED3Xk/YLgEk+LjcIqha4Oe8NptNObLY3sgCh1XvQKjwwAKQApU6eQLJi8W7EuDiIjQBKlQmyOoeeg/z81NZE5qVNanJIQhCEIUctXN8akUkIUU1l3TDCYo59IpufJj+RPQHY+nRX5iXLivDWYiMseN/oVmsDxaTAuGGxtmLaObU5Rya/qPHcfkgYUtVqDB4Jvugo2usbdA6J4LSLGuZpB5grniWe07shc0V8I0Djy7/wCiCSBom2CbmOutw3kKI7Bh4tpDh1CiScOB5KYyGUV3XnLq1tgNaOpcKznwXWHEARGSZwNk5aFEjkAFEVN60PwxH2Gfzp1A4TqqKXhAPJU2P7FQS7xtB6gZT8wttHiIzo45CBZDq28wpDYAdRRHUG1MBrlVNWkdoXj+M+zotNtdIW3q2rNXrVar0ZhjyiiAABQOlDkKOyvRAuoal3YGiKmIfUjOZhZOPi2HMhjEgzDqHBpvk15GVx8iU/i2NdBC+SNhkeBTGDdzzoPQbnwC1RjHMD5Jphb+EfIIyKvNwXzrH2Lx0ry50GriXOc5zRZJsk63uVcQfZtinHvmFvq5x+VfqvbDAOiT2KfdTqT5rUMc9v2taP8AkLy/A/Zm0fzJXD+xrW/U2rsdmOHYJhlmY00PilOezyAadL8gtbjniNhdrdaU0uN8tBuvHO1+D4ti3jOyZzfuj2ZYyj0aT9bJ8Uu7a3QX4qQxdWrPeVCG7haeAgR5+uiou0PGZeI4kZGkxg5Io28gTvQ0zE/kF7P2L4IMJhGREDObfIRzkdvrzoANHg0LLfZ72Edhz7xiazgHKOTBWp865r0GPiEVgNzP65ReXzG/0UhDTmJVb3OrNFOk05Rc8/jhJ2m+xTY2LtkpcsBivaZgcoIcRWoNcrB1UiZ4G/8An0TDgVnewsOVyYAnJaXHE4hkTS+Rwa0bk7KSgux01Kr8NL7Z2cfANGePV/ry8B4qAJ5MafhczD3sdHTdL6M8Oau42BooKKE8JyaEqEJUJEIQmoQgKKaKUTiHD452FkjQQVLQkmsI/h2P4YS7CH20F2YXa11y9D5K34P2zwmI7khMMmxjl0F+Dtj60tIVTcZ7MYXFD+JGL/ENHD1CQtonO9WfsdO46geR7zSPJcmYdrXZjELAoFhsAeDTt6LHN7NcRwRvBYkuZ/5Umo8henrVpze2+Jw+mOwUgrd8eo+Wo+oSJG0QmC4faVqnYWJ0lnK0bhoaIzfV1/EjE4Rscb3NdK5ziNRqbB00aBQVdgO2/D5xQmDTzEgIrzOrfqrjDvgk1jdG7+xwP/SUZAdFcMTUBEmwj0T4IpjlL3NofdAu/wC5xXbEOysc7TQE67Jvsujnj1/dJLh8wyuOYHk5oIUgCFUXhzgSLcAOj4mVDjx77jDmAZjR0kbXiC7Q/NdJcY5okOVvccG/EdQTvt4hOGAbYPdsbd06el0nOwN5rrv1m+LWtvvaKMPV5fhyQcvU89y4txpMgYGMNtJFF92NrDmjTxSSTTtc1pbAM1gG3nUenRSZMJmy2R3PhPeseubVOlgzgZiDRsd3Y9d04dvUe9pAiGW2z6bYPjuXDFyyxZHuyFuzwNO9yIJ5KLOyYkgmUMk1Y5jsxY8bAho+Eq0yH8Tvp+yUR+Lj5lPITtSZXDf2ieiPLxkWhU5wxcwEtkZKDWYOOU0d9TqD5Lvh+Fsy1IA/8JojKN6BtdcTxTDQ/wAyaFp6FwzfLdUWO+0DAsOWMvlfyaxup9Dr8gUZWjVSdiqhENt5+5JIHDiVpY8OBW2gq9zXTMdUssjIwXOLWgbucQB6krHu41xTEj/+fDNgafvynUDqARfoW+qfh+yL5SH47ESTu3y2WxjwAu68LA8FLkFmMnUqViu17XuMeCjdiHjQu2jaf6nH/DwtLg+CSzPEuNf7Rw1bGP5Ufk37x8SrrBcPjhaGxsa1o2DQAB6BSqTjelKaxgGyehIhJKlSJUIQhLSEITEIQopoQhKhNIhCEJITXxg7gHzTkJJqk4j2TwU+skEZPUCj8wqLFfZvhzrFLPGeVOzAeWa1uUqIBRdYFvZLiUP8jiDz0D8/6Or6I927Qx/DNBIPGv1YT9VvqRSWUJklYH3/ALQN3hw7vVp/RqeeN8dA/wBziPy//RbqkUiOJSzcFhP9s8eP/hIR/wAv/el977QP2jwzPEub/wBrlusqWk4RKwh4fx2T4sVDGP6QT/0tagdiMTL/ALzj5n9Q0af/ADLlvKQjKEZishhPs/wTPiEkn973Fv8Ayghv0V/guDwQioo42Do1ob+SsEiYEJJoYAlpOSKUpISJShCE1CEIQlBSpoTkIQhJaEIX/9k=\n",
      "data:image/jpeg;base64,/9j/4AAQSkZJRgABAQAAAQABAAD/2wCEAAkGBxMSEhUSExMVFRUVFhUVFRYXFxUVFRYXFRUWFhUWFRUYHSggGBomHRUVITEhJSkrLi4uFx8zODMtNygtLisBCgoKDg0OGxAQGy0lHyUtLS0tLS0tLS0tLS0tLS0tLS0tLS0tLS0tLS0tLS0tLS0tLS0tLS0tLS0tLS0tLS0tLf/AABEIAOEA4QMBIgACEQEDEQH/xAAbAAABBQEBAAAAAAAAAAAAAAAFAAIDBAYBB//EAEEQAAEDAgMFBQQIBAYCAwAAAAEAAhEDIQQSMQUGQVFhEyJxgZEyQlKhFCNicrHB0fAVFjPhB4KSssLxJKJDU+L/xAAbAQACAwEBAQAAAAAAAAAAAAABAgADBAYFB//EADsRAAEDAQUECAUDAgcBAAAAAAEAAhEDBBIhMUETUZHRBRRhcYGhsfAGIkJSwRUykkPhJDNTYrLC0iP/2gAMAwEAAhEDEQA/APUElwNTmqxIuNC7CdC4Eyi5C6kuOQUSCTimLjioouyoy9dIXMiKi7K4u5U4BRRQOUblK5Nc1QowmhIBOa1dIUCCjKUJxCUIKKJyYVI5MKCijKa8JxTSoooyFG5SOCWVRRQliZ2aswuFMgoIUT1O4KNzVEFDCSfCSkKLWrgCUpIJl0Lq4CkCiouBOcEimlKomEJpCkXCEQVE0BJdXEZUhKFDisQ2m0vcYA8SeQAAuSTYAayrQCz+3cQCTTvnzhtNkCCSyTUJm8ZiAOBbPJRkF0FQyBIHuY9SB3kDuLxxTCFDs2o8hzKkZ2OIMTdvuuI5qfE1xTAJDjJgW1PBoHE6nwaeSUGckzsCkAkV2ZErgRQUblyU54SAQ1UTXKIqRxUDlFEnHmmuKKVcCHUoi8LO4t5DCHWi3iqtq0ZprhOStgyo61QNuVW2OXOeG8IlXds4annpg3HH0SurYAtTMpyfmwXJsquJxGQZi05eYVZmPaCWmYmAjOIy9m1sd0ovrQAQlayTih+GrteJCWJoOc3u/wDaHAinXdDhlcNOStU8YPazd1s2SutDYgIinOajzHkUlH/Emrqm1Q2bltgEnNTio8y0pEl3MmuCaoongpEpJpRhGE9NJXQ5NJQUSlOATU4FRRNxjiKbi0w6IaYmHOIaDHGJmOio4jZwPYsIcRSy3mT3YmTxsEdwNMGXHQf9ymVKzRORvSblZaz4IH58lY0S0j8dmCxeFqOp13wc8OcXO0a5znFzoJ4SSB4BXqmNqM7SsG5XgsyMcc2ZrZzZQCQ0umJHS1jNraGyzUAFqbcwcXRGhkwOJP5oDtPGv7ZpYJpUxlzGLyZn8I8FTfcZvd/Zz9M0z2B7gTpu4fny3I9hs4dU7QwXOD2t4MDmgls8TmzE+KsygtHH5i0iSJ7x1McUaaQQCNCtNF95qWp+5NcVGCnPCYQrVWo3lKk2XAJOTsLUhwJBhK5wAxRAlaFjbBZPfNjskNHiVoztFiD7w4gVKZa3UhY3OEHFaGNM5KHdTDfU9ofaIUe18NcQTmPyTcPi30KFNpE8EK3g2xUJhgAsqi+O9G7JlLYmznmsc7gWjh1WhruBs6AAvPNn4rFNcRmF+KMVMdXAEgOKm0BwRLFX2vTIcSxsA+8bITgqhBc0Om6j3r2tiqzGhrMrQe8Rqgz8BWo0u1a6SbwmHYgJBWpSWX/imJ6JJsdyN8L3twTYTyo5XpLIEoXIUgScFIQhNUZTk1QorgSTgE+EFEwBdCq7R2lToRmzFzvZa0ZnGOio0t4i0z9Gqx1BH5WVD67GSCcdysbTe7ILT1qX1eVjsrjq6ASOcA2nxB8FWpdxoa33RAkyfMnUoSdvVT7OFffqB62Vc7QxGv0dw8Xtj0P5LJtQ7F3ofWFbdcBd5K/iqNSpJJA6uNvQLM7drNDOyaRUdMlwENbzyjnwk8yiGJxGIe4E0HED3O0YGTzI1Pqh+IwGJqEuFNrJ5uaR5QkvtO/geSYNPsjmhWzanuk6cP7LfNkgEiDAkcrLEM3drgyHM4n2h62CL4Q4pjSDUowOeZxgaxEq2z1miRBQfScdyPEKN4WfbtSuSQatARPu1JtybrCh/imLlrZpAuFpa4QTwcJmJWg1xuPBDqlXd6rQvHBW9pkU6EgXAVctMCdePiidfD9pSy8whVGSFmcA8F2Uhed4na7zxF+QTsHiHue2XGJFloDuqwav/BWaGxKLTOa46pZpNwC6l1usgbDBv0VjFYEVGNboLSeQQXb+yAQOwExqTxR3aFTLSJC7hh3G+CpLA52K5UOICxez8IDLT7fDoqO0q7sO4iqbRZy0tWnlxYjiFFvFsxlem5rxNkmyF0p7+KDVwHYWeYlD8YyaAH2UUp0//Fy8gR6KhWH1PkreSTcs7kXVMkhJQgr3ByiUjlDK9EqlTApFNankKKKJyYpCFwsUKi40qVoUYapWBKoqEDtn6SG0/Q5tfmgO9m3XYctptmXCdGkQOJk2H6FH2j6+qfs0v+ayP+INKXUpgySANDreTNwsjRL47T6lev0XSp1LS1rxIj8IZiN5cQT7UNALhJAzQDrlgxY34kQoaG8FXLdziT3nE1HACbeQmfCyHHvBrrG5PGCBEai+pHFOZh5bAIuesX4zzt5StOxbkusFkoNEXQPBTP2viLhzieLhLgYmwaRoIImFHRx72OAa8tFi45i6RctABtaOOtknAB7hJiwi1wNLTbQhcawyMwFjIggASIgefSFBSYMU4p0wMG5+8sj4p1TGu5kkzBIhzYF4AuBMz97kk+uS1o72UgOdcwXOMuhvUiDPHpKbVdMuPBokWtJAFx4T5pACAZAsbkie6QIaRpry4yk6u3SUwY0e/fgqRsWuEAwQD3swBtJM3sQEUwlR7H02Zi9zjTIEwOjZJMX8DeVSNSbAAEyb3d3dLaTpx9FewLwatEvAbDmgEi1nXMA2HBFlECEK7QKZkaH0w7eGK9GqFXNouIw8gwYVZyKtpB1ODpCotbS6mQM4Povn9mcGuaT2LGds8i7j6ruHsQSeK0P0CgDou/QqOsLihZ5PzVWSP90r3za2ZAHgotpt+oPgn4P+m3wCk2kz6lwHJRYH+m3wXZjPwXPHJCtoU/8AyKbvEJ2P9l3gU7an9an4pY72XeBQ0KOoQDDiaB8Ch7B9XHQojgz9Sf8AMh2Hu31S8keaDZElc7A9Ekkprq9cUbgnhq49q9RZl1qeUxqgrYoDS6kwmDSclI4roKp/TCTop2VOaEolhCmlda5RhdYFCgAqrT9fU+5S/wCaE707Gq4nIGloDc1ySCCRAsNUVpD6+r92l/zUe1Nrsw8Zmk5piIGnU8V576gpEvJiCfVbrI+oyq00sXacOSyX8m1wAJp6RALgLySdPH1VmnubV96ownW+Y3t0uICu1d6jNqdobxm7jrI4KV28ziXBrG26m2kZrW1+SrPSlIfV5HkvYNp6RI04BCjubV4upu5CCB0kZYOpXBudV+OnfW5gAacL6xAhEn7zviGMDjpnAhmmpBPhaVXbvBiDIDWScwDYN44zmtf1S/qdE4Xp8Ewr9IHMtHfHv0UDdxXhuXtGe0XGztSI5aaeie/cfNlmsLTbK6Lx9rkpqW8NUZsxYALAwZJ0sAVNS22TTDs/euWiBB1iRMgCyX9WpDXiFDX6RBxcOA18FRq7jOLp7bgYJBNyI52TaO5rqThVdWENIdlDNcpza9VLT3kqucYaIYIsZkk6xoIjio37w1agDHMEuIDRJFx05a/JEdL0r0SeH4z8lH1ekbpBcIjHBuXDctMX2lFDPZWQm8CRB4jWPNFnYgMpB0StVuaHUHNcYkHHcuZpkNMqg2g7kndi7kqjt4XCe4of5gqHgFwpsNhH9V38f7LSbeJyRfHT2To1hVsB/Tb4K97TL8Qq7KWUQF3Td6zkyg21R9bT8U/Fix8FJtWl3mO5FcxIkHwU3o7kAwAGQjhJQ51PLI0vZE8JTLQ4dTCq4wIAKEodkXU5JMlXqZTCE8qLE1g1q2kwgxpcYVLFYqLBUDiPNQbSrxpcnkiWxcCcuZ41VUyV6GzaxklVMzyJCWHxdQuhwhG6mUIVtJ8XaNEYVYeDorT5aJUlGtmCFN2mHtjiEsLiIKMqt1PBEMKZr1R9mkf9/wCiBb3s+spEtzQ15i+oLSJvHqjWzHZq9U/Ypf8AP9VBtzY5rxEZmzqSBBPReTbqbn0nBokz/wBitFjqNp1gXYCPULHZZnNcuE6aSDmk8SnkCJJPC0B14MugxzPqjw3WqAAB1MQZ96fCYThutUgd9lrAd6ANOV14PUbT9h8ua9rrtD7x58lnxGlmtbBHOwBPnAXHgwXEEQLT7WtwJv8A9+ugbuzW0L6Y8C+fXLZNO61TWac+L/xi6HUrR9h8uaPXKH3BAmhpOWbixtpoSBOuo80zsxYADKGnjd15gnhaFoRuxV0zU4nm4+cQn/ys8+1Ub/7RpH4clBYrR9p8lDbaA+seaztImAByk8BxuVJgSQ8HLPebBNhrOvVHTus+YFRpMQbGY1ve5niq38t1WAuLmtayCGiWju3jMNPIWTssdoa8Sw5j1nRI610HNPzDLtR6oFfNPNRiYVQXAPAiQm7Wf/4zoNwOC7CpQFf/AORyOHFclXqbKk55GQJUB2WDo8KOjshs3qBY4Yx7PZc6/iuis/WXfNAfB9lOR/5c1zh+I2Bs3PNenMbDRChqLuB/pjwSqKiIwXUDJU6zAdVTrhX6ioYp0KIodWCFYsIi2vnBtCH4p14RIjAqAyJCoQkn5UkEV6YUO2kDFkRK62mHCIWtwwRoOuuQzZWCPtPHgiL6siAnCkdOCqupvz2Fkq1O+ckkqCoCU6pSDWXU+KcGi+qp7VrgU5NkZVUFZfGOyvzDQqP6dldHNWnQ8WQumAKsu4JFspAZFbPd4yah+5/tVjaO0OyIAAJPyCrbtkHtCNCW/hCdtVn1gvcj+1xyXi9KWh9CzlzMyYndM8lnY1rqpvZLjcdUcZkAcBH66/2UlXFVCRDovwAuqufQ8hAjl+S7Tqgw7r8tLLkH261OlxqO4n8LZs2jQKx9JqEwT1mBHPVKliKkd5/jA4+igpSdf1/f9k9x1Am3X99VWbZaT/Ud/I81Ljdw4Jzar79/1jwJ9JTalV2XKHk/j6jRNblgz5Dj8lyhU6TCgtdoH1u4nmjdG5XcLiC1l7niTI8PKFTxGJz2JMGfw+SReSTOk/JV8Q+I8ZP5KxlofVcxtVxugjwEiTAxJ4lKWASQpMXWcBA0Vb+JPbTIDcxSFfMYJM+CrOwVbvQbFfTbjpMeawvLGtxE9iEjfVgMGlcGDYIlR3zw59pkf5UHdu6JLnNMmVLR3aZYwUbXarLZmF1S8ANRJCaLE5slhHBeg7PrCpTD26HRIzxQPE4t+HYxjW92NeVrKFm8wc10A5m8OayNF9oe3I4juOKxbVl4sCN1EPx1QNElCcdtaoaXaD2hcBCae2KodmqXaQIAhOxl4T5aoF7tps2tM79EXr4lgGY2lAK21abiXXEfNS1ttMe7I4AAiyB4x4aHNsbEgqXPmAhWtaQwucYHvNEP4rS+JdWJ7ZnIpK/YjcffiqNsz72+a9xpbfzcFdobSJ5JtTB0howKrWIboIVeO9WzuRllcnipmMPNZp2OdwVettF/xFSUZK0O0BluSCs7tmq13tOtyCZhnuqVACSfNX8XgGHVspgLytp1C3ErKYjaIpgim0uKbsoGo6XsIWmp4FnwhW6GGA4KXFb1jcptg0yDU7pDRlAnj3ZJHqpsXgXPdmzCLfJXsHShjj4fmgO8O06tNzWU9dbFoJ1+LQLyek6VHZEVpInTOfe9U7cscXhXf4YeLh1Tv4Z9r5aLLu2xXzEmoJBGgBFvab4ymt2piC3MXFpcdPZBEWJyi2n7lc/c6PAxpu/kf/Xlogbe/T0WsGzPt/L+6ednDi8rIUNoPk955IAmTYTN4J5QoXYt3aS95kiXBpdBBiQ0cDwkdER+njKifFxy35lL16pvW2GAZpJ9Vw4GmNZHKTCwNQOzthpAJJgE2abCW9IFiiDqxa0tmc0ucCeGXhy0A8023sbf6DeM+oS9cqbytaaFEe8PNyir4KnbWxBFxrNljsFisuYNa1sXmARJ6efmoadV2driJMtdB4ZW6HppYWTstFlaZ2DRGojsM5ZhAWuodSt5V2PUme6fBM7Co22Syv8A0yo1oJvZTjaHczlq7EygMBCAV3uH/wAZ9E2g8HUFp8Fcqb10QSCNOiiO9GF4/gkJJEGCFNMkExuOL6kQ4sb01KrPYKkvDSw6CyO1N48J8TVAd4MJ8TURAMgI33RE4Y+azOOwTmRBJnohlSi8EEtdbgOK2lTb+F+JqqVt4ML8QTXkASG3R/fjmsfUwsw7snTKqbS2TVqNswg8Fu8LtajVnIQYVPam26VId5EPKQsB9F59/AK/wD5rq1P82UOqSW+d6TYU/tC9HqmyG17puKxpYYgoZiNqjkfQoYK/JPxDoQzFYoBUsdtgmYY70VHZ731Hy9rgOA5oKBbXdql3TUdYu08EYdUHNZlj6kW0T3dqnEBNC0OcKSmeSzTBV5ong+04ppSlaLCnuO/y/mspve+KjCNS38zp1WmwLzkcOoP4/oEM2ls9lR+d5LQ0XcCQCOR/svL6SoOrMLG5yErgS1ZB1J12t7ITD3e17WokiL9FKQHVc5I7g/AGYHORdaluGwjRP1cATJcbDncqDsMIBEMDSHH2j3r3JaDckrxP0S1Rpu+rXuaqDc1cOKzjXO7OH62mCCI5STytJTq9M5Y0nKJvEGDYwZM5dEbH0Hu98EOnnFufw6J/b4GYkExNy8jWJJ0HjxRZ0Ja3YgAcfwI80m0pDN7eIWfYye81svgEkiLDl0sliMNMsLpJBLgDlBLjOunitB/EsCJEt1jRw15Ea6J3bYNnI/63nTzVg6AtocIHkeSgr0ACdo3iFnuxEMuAYEjqBoLj9hMAbYukzq0SI73PgSEedtjB5Zygk3ADSDHWNVw7YwlhkgkgRlHtHhPMKxvw7bM47cQffAqvrdl/1W8QtM540SeQWxwUDiPNIOXTFbtULr7GY4myo1d22nij6RQgKSsnV3Wuq9XdYhbJya5S6FLy8/fu68WIUI3ZJK9AbRAnjKb2YGgUDAhLohY/ZuyHUZIgBQbV2K6rEkLX18Ow66C5HNRVwxwBA00RuNSS7VYb+UyktZnqfsf2SR2XYl2y0by13BRVKTT7o9E93SEzs3HgirlRdhGcvkmfRmg6Io3CnUqVuECkKSFSpMHJT9kOSsih5qy2iEFEPFEfCrVKmOSVXF0mauHlf8FAdr0+AJ+SKrNZgzIV/LDT5fmsRvW6oKoLXOyiCIuQTIPdF+ANhxWww2OD2vER7JA6Tf8AL1WI3peRiJbJMM6C5ifDj5K+wD/EnuXldMVQbIC37h+UIiSG2IZJAsIBNwOQmbaWMpUiJv7r3EixmQT4i54qWjTcL5SSCZMEkH0nipKez67mw6m/2ibZoIOk2ANoMdSvcLmjUcVyuye7JpPgVVbe0aQ4CwEEyzunTSYSyQY4TreB4/p0Vt+EqR2hpOAAgyDMtNrac06hhKpiKbzcT3XcbCTNkdo2MxxU2VUmLpnuPvuVdzYALW5j14c4HA2/FMw5APuC0u5X1HLiiFHZWI17Mkzxt8puuDYlcMgMifujzNvxSban9w4hHqtciLjv4u5IXUdZwbaY8JvNuJzfiujwk6cYNpzdB+PNEm7GrX+rkxGrRzHP92XH7DxEEZNftiY4T1U29EHF44hWdWrkYU3fxPJbeiDAnWBPipLLPjadSBfgNQJ8+qadtVB8J8v7rnywrtBa6Z3rQkqN1RAG7cPFo8jCt4fajDzHiP0SFpCdtem7IopKYUxtadLqDES4EAkHnyQlXDFWHFMJKgY2Ikn9U5z0wKC65qjcoauMDdZuqlbaIGo/fVC8iGkq7mK4h/8AEm/GFxG92JLq18DlfwT4JUjWqQNRTqFtJPDFJC6GqIITtLagp91ol3yCA4jG1H+04+HD0Rna+zHEl7BmBuQPaHlxCENp8OPLj6ILDVvE4qJtMqelTKkAAUlAud7I8+CYBZyyEU2e9oplsd4yZ5AQIKH7Q2rSpPDH+0QIAaSbmyIbNwpBcXH3HWWH3/x3Z1qWX2ohwBIcWnNMQRJslZSD6t3sXsWCltgGHt8t6J4rfWgyMrXOkgSCyxidM06QfNQ/zwyYFJ+ky5zWzaZGsjQea8+eQS/MO8O/GYEwZIHTug+g5hOquyA1XAR01LjLQPzkr0G2OjqF7rLBRAxnityP8QaeUnsalpESLkcWxwk6mJ4JlH/EGYii50iYAjhzJsOqwlIRTh0ktynKNGvmZy6E9TOqd2ecuMZi/KMpa0NJ1Li4cO74XHJHqlLcmFgobvNb879tFjSeXRmgREEE89baCdFFR36L5ijHegS4jpJGW4kO48FhcBTc2TV7pAzOBiDEQGgTHKVK+mDJbILoNrGByBNjHHr4ROp0c7vqoOj6H2+Z5rU1f8Qny0MpNd3ZdLoi1hH5qrU31xeaAymG6k5SLGTHeuTA1gaiyzlagA0ASGmQT/pIMnhY8tOUqDEGBqcrQIGYgQCMtxcC/mmFloj6Va2x0B9IW+OIkAji3N6qB1SVRwOIHZU5N8jJ9Ap6bxOqxHArg304eWjQlWaVMlE8HQAvqq2FZm0KJUmgakDxMJSUzaYVylTlSVWFok6c/wBUyniWD3hzngg21t4GuhrPZBku5kcuirLmkZrXTa9pGBRU1FE7xQWntUc/xVhu0J4SkvBa4VqvSGqpupAzc/knOxgOvd+SslxdFwYEcB681G9iByxQz6N0Hy/RJEuzST4oSFs2p8pjSnhFBdCe1RynMqIpSp2tCq4zCAiSGu+8JPk7VT9sFC/FTYD5pRMqt8EQglfC0zqHt8DmHz/VWqLWAQHx4iFDtHDF3eBIPIIaBVBsC4dRCtABWJ5ezSVPWp4pmZ1MipmNmZmtGQnSTEGAOCze+GwcTiH0qjKJLspDx3e7Me9mvqdJ0RirtAsMOYWRrI08YTWbbp/HHyVjaZa++M0aXTBoOBwmIxWRw+5uLDwXMFwMxdlJEAiIvn9lmsceir0tyMUSc4phsiPrHzlb7I9j9yVuRttugqj1TnbaP/2fNWl9X2FoPxHUOo4NWJfuVWuC+mC/rU4G3u2gcApnblVjkHaMtrqZAPdAsJHAytWdvn4007xH41L9VR3xK6IvR4N9hZcbjVAQWvpjjbNc8CYA5lI7k1YA7Rvo6CJBFvILTneP7SifvIfiTXqqU/E7/uHBvJZp+5FU+/Ni0HvzB6wov5GxE+0LAAHvyI04cJWgrbyn4vmhuJ3jPx/NC9U1Poqj8T1dDPgOSKbL2B2dMMq5HETc3N7+9dVsTs1gMh1OmPvOc7ziw8LrPYrb/wBolCsTthx9lpPjZZH0mTeLj4cslkd0nXqmdmMdTHJbBuOo0b9q556AAf8AshGP2sa5Lab+xPuzLmH70Xb4ifJZrtKjzefJXMNhTHEHny9VRUo0yMse/FX2e12q+JcI1AGCHbXrbTp3fT7RswKlMmowz1aTl81a3frYjtYqNysqNdIzZoewjX4TE24iDyRTDVXNsHOmdbAjpYBFfpIqtPaNbnjuVAMpDhoXED1PIlY3XmwQB78Y4L3WvDwQfzHmAVXLHTIIRPBZyNQhOHcRUcyqQLgMgGCBqQ46yVo8GxoFnBXUyHCQUjwRgVE7CPPEfP8ARWKGFe3n5O/Iqwa8WkeQKhNY5XOJIa0SSb8YGnWFZgFMSOxPh/X1Ykq/0hvxH5/qkjeUu+4WwwbXU3RUruqOdcAta0AA8MoAH4q3ia5a0kCTwBMfNVDla1zWkt9q8kx1E8VntnuqvPZMc91MSC+o10nvQQDIvGhhXFocC0Ogx49+R9Cs7bzBJbInSczJifAyTHcrtbedlKplq1qYJ0baRqRpM6FXW7epmIeLsNQGCO6BJN+QVfC7BoUGuyt7xJdJMuJ1jNqAg1TZ1Qk1K9NraYblyUs+fvOBPfEE8JtwVFFrgQ13qT65+JC0Ou7NzpxGQyGmmOuOXfvWgwe2KVZoeyoH5py6tBI4GRZWsHi3PMmmWt4d5pMixBjqhuA2Rh2y5lO7hEEmSLWubaBQUNpFrR/RZTc4thoJgwbOPDTktDnNAJaJHn6qqlSLwA4gOxPZAGOkngIw+aCQdH2p6R805oaTqeqyWKxT3Wotyvm7QBPdi3TVFtlVK5jPSIE3JeAfECIPqi1pIJOHeRPfnlwO8Kqq3ZvDSCQRMjEeU+8pxgnUwLXEk/vxQvaOyqDYzsnNxykx4wLI4GqJ9CXNdmcMs2B7pn4hxUBE4qt1AOELJ4zcei94qAvaY91xbqI70aqOrum0WD3DzlaytjANIUBxAdqiKhGqStZWVYviYwE6BY+tuqeD3fL9FRfutV+M/JegAjkntpImo7es/wCm0dy84O6lY++fRd/lKpxqO+S9JNIJrqQUvlT9Pp7l5t/J/N7imt3Ob187r0g0hyTexHJC+rBYmRGi8/bum0cE4brt5LdVwxglxDRzJgJlAseMzCHDmDIsp80SoLJSBjCfP1lYo7uwLCVUqbNImQfAAL0TshyQjF4VpdIWer2LbRpMByWQp7Oi0W85Vmns0H9lG6xAMCAOgP48FNhQ2e8PmqrsLXIQUbPjg17fgcJHWJ0VfF0ovRboO/TLjm8Wc/Bah7WaBnzsqdbBtJnIJ53n1VLqcGW4H3xVrXSIKCYXaTSAMxa7i14v6cVZkd68A6i8HrA48U7E4Ad4OaHBwh02ceXe4qoNnPBysqAN+Gpr4Ndx9UdoW4PHBC6D+1PyDm70SS7F3wP/ANP/AOklNtT3qXXLdv4+CfhfZCSS2rKVWb/Uf94f7Qp3JJJqn7j4egSUv28fUplDVU36D75SSSH9qsH7k7C/1HeJ/JGGJJJgq36J6a/RJJFKh7eKiCSSp0Vmqt0VMUklcq05JJJBRRvXEklFFS2v/TPiEzZfspJKw/5fik+oq5UQ2roupKhy0NQd/tpJJKli0v0V2jon0kkk7VS5VsdqhO0tB4pJKp2ZV9PIJqSSSxLQv//Z\n",
      "data:image/jpeg;base64,/9j/4AAQSkZJRgABAQAAAQABAAD/2wCEAAoHCBUVFRgVFRYYGBgaGRgZGBgZGBgYGRgYGBgZGRgYGBgcIS4lHB4rHxgYJjgmKy8xNTU1GiQ7QDs0Py40NTEBDAwMEA8QHxISHjQsJSE0NjQ2NDQ0NDQ0NDQ0NDQ0NDQ0NDQ0NDQxNDQ0NDQ2NDQ0NDQ0NDQ0NDQ0NDQ0NDQ0Mf/AABEIALcBEwMBIgACEQEDEQH/xAAcAAABBQEBAQAAAAAAAAAAAAAAAQIDBAUGBwj/xAA6EAACAQIEBAQEBAYBBAMAAAABAgADEQQSITEFQVFhBiJxgRMykaFCsdHwFFJicsHhoiMzkvEHFYL/xAAZAQEAAwEBAAAAAAAAAAAAAAAAAQIDBAX/xAAqEQACAgEEAQMDBAMAAAAAAAAAAQIRAwQSITFBEzJRImFxgaGx0QUUQv/aAAwDAQACEQMRAD8AuCOEaI4TnMxwjxGCOBgEgjxGCOWASLHARojhAHARY0SWlSZjZVLHoBeKA20UCamF4FVb5gEHexPsBN3CcJpp+HMera/QbCXUWyUjlsPg3f5EJ78vrNPD+HnPzsF9NT+k6cCEsoomjJw3Aqam5u3Y2t9BNGlQVflUL6ACSxZZKiaCEISSQhCEAIQhACEIQAhCEAjqUwwswBHQi8oYjgtFvw5T1U2+2004SKBy+J8MkC6Pfswt9xMTFYJ6Zs6kd7aH0M9DjWUHQ6yrimRR5oRGsJ3mK4LRfdbHqvl+20weKeHmRSyEsBuLeYDrpvKODIo54iMYSVhGGUaJIrQjoSKBEI4RgjgZYqPEeJGDHAwCVY9ZGpj1gEgjxI1MmoUyzBVFyTYCSQWeH4JqrZV9zyAnZ4PBrTUKo9TzJ6mNwGEWkgUWvbzHqeZMuTWKoulQkIsJYkIQhACEIQAhEhAFhGFwNzK1bHooJuNIBbhM/BcUSozIrAlbbTQkJ2BYQiSQLCEIAQhCAEIkIAsSLEgHNeJuFAg1kGo+cDmOvrOTYT09lBFjqDoR2nnnFsEaNQqdt1PVTtM5x8kMoWhCEzBAIojRHCQVHiKI0RRJBIpkimQgx4MAmUzo/CdJSzsd1Cgdr3v+U5kNN/wpVs7a6EC/3tLR7COwtFjFIOsfNi4QiQgBCIZQx3FaVK2d1W+1zaCVFydIviNeoBuQJyPEfHWGS4V8xAvZQTe/Q7TkOOeOndQKXlve5uDcW0HY/pKOaR049Hkm+qR6niuIUkXM7qo7kD85z+N8c4RdFqBri9xdrDqbbTyLE4uq6/EcswJAzNrZr3sDyMfWrIcKH8ucVSDbQ2tdRpyNpX1Gzr/0Ix9zv8HYcU/+Q1uwRCejNoD7bzkOKeLMRVVlzFQx/CdlAsFHPc3JmC9Qtfc3Og9eUT+CqWzZWym/2vc2ldzZqsOOPSOt8CcacYtAagAKhMpB8/MC/I35me5UKmYX/YM+acHSamUc7XvfYg9L/f2ntHgXjvxUKOVzLYaNcnT5mHInWaRa6OPU4bW+J2sIQlzhCEIQAhCEAIQhACEIkAJy/jOnpTbuy/kf1nTtOY8Zv5UXux+1pEuiGcnCJCYAriOEYI4SCo6OEaIogDgY4GNEBAJAZqcBqWqW6qftYzJBmlwNv+qO4b8r/wCJaPaB31NltpJAZkYbFFNDqJdbGpa86CyJq1VVF2YAbXJtqdBOe4/4uo4bRrsxFwFsTvbXpPO/Ffi6pXcKhtTVidNyVJyt++s5nFYt3JZzcnc9ZhLJ8HrYP8faUpv9DreMeP6tVCiAIDzGpE5PFYx3Ys7sx/qJMrkDS8u8P4PXr/8AbQ2vbOdFFu55TK5SPRWPFhVpJFM1Nwen795CTyF76Wtr+zO2Twvh6ahsTVJawuqmyj00uRJVxuFw/wD2aOtvnP53JJMq3FdszepXUU3/AAcxh+GYsoyqrKjlSytYBiDcGx10kicEpJf4ta/9K6cuu5lniXFKtU6tlG1lNhr1mazC3OZyzr/lFHul7uPwWC1BLCkgaxvmP1trrIDjfOGbNaxugIy35aW2+sgfnY2EjemSC1iB1kKcmyrjHyWsMTUYhrKrW0FrAjY+15u+HsYMM4Yqb5sr8rWuTYE+v0mFggFYXNxpckb26zoOInPTWqmmYlKoIGhHyseYuFAuOk1xTttBJe19M9nwtYOoYcxJpyPgXHhqQpX8yCxFydeZF9bTrROxOzxssHCbi/A6EISTMIQhACEIQAjGYDeOJkFaqFF2t2EASpVtqdh95x/iermZCf6v8TaxFdn9Ok57xC3mQdj+crL2kMx7wjbwmJUiEURoMcJAHCKI0RwgDoogICSBRNDgx/6q+/5GU6VNmIVQSTsBqTOl4ZwFkId2sw1CDXl+I/pJindgvNKWJsyODcCxBsbaW3Bl9pBVpqwswB/e03kaY3TPDXOp+gHTfSb3DPCeIqqHYZEO1/ma9tQvIdzOtwNDDUGqEoFdWLEst7Ak5Qp2+kqcU4072yNlS2w0JvzJ/wATjnOGNW3ye56+SX0wVfdlingcFgx5gHf+oB29hyGkpY3xEzeVBlXYj8XsRMl/Mcxvfub9hrESizGyi5nHPUSnxHhBYUvqm7f3B8SzA97AnsPXaZzOOW3PXlznSYbgTFc1Vsg6c7evKQt/D0ycozsOZ1/1IWNpXJ0Q88VxHkwaOCd/kUkHmdB9Zbo8GI1dsoHIW/MyzW4w52AUD3MzcRVZjdie8ndFdcmTnOX2LufDpqFDH0v+coPilZwAoZAdAd7dTIsmbYE/47yCrnAsBqdu1pZOUukZNpds0KNEMWZd11ynmL629Jv8Lq0zTemE+cAE31zakHe29pzeFqMpVulvccwZv4dUQshUHOBlboCdx7ae0RdNP4NYSvhk/hriLYfEhG2LZGNrG9xbTlqZ64puJ5R4jvSZaiC4dCCWsdQRc9mIUHTvPRuB12bD02cFWKAkHcac56cOjn1qTSyfPBqQkfxB1hnlzgJISMvbew95Wq4xRzv6QC5eMeqo3My3x55aSq9QmAaVbHgfLqZn1apbUxpaNkECTnvEbedR/QPuTOjE5TxDUvWI6Ko/z/mRL2kMoZoSLNCZEDhFEYDFzSoJBHCRBo4NJBKJe4Xw967ZU0A+Zjso/XtGcIwD13yroo1duSj9Z3+DwqIgVBZR9Sep6mWjGyUrIuG8NSktlGv4mPzH9B2lxlFiB0MkhNqosYzyF2G19bSw4lKo/my2O1ybadN5E3QguTguLMfiOCzNY6Zjz9JUpUizWVST0A3nRcWwlM18z5rEC4XmeWvpKxxOQZKQyAb2HmbuTPFybVN7me3HN9C2rwVKfDhvUfXXyJq1u52E0Vx6ogSkmXudTfnKT1y2pPb0AjKdJ30RS3fYfWZrJK6xr+zKbb5kxmOxLvcO1xy9d7mZDMARfX9/6mpjvh0lZqtZRbQonma+2Wcxi+PIS4RCg2V9CxPPNzXTpNo6bJLmRzS1OOHCNNcO7agZR1awBmfxTGU6IHm+Ix0yqfL3u2s57FcQd1yF2YAbsSbbH85UUM3kAzcwAL3PpOyGmjHvk5ZaqUuuDUrcffMDTugFjl3B7Ec+f1lXH8S+I2bJYABRck2PWw9NJVXD3zFiVIAsOp79NLyM09Brpe3e57TpWPb4MN7fk6zg2KFRT/MupHY6XHv+c6rCUs1M3+ZNv7W/3+c8+4NW+HVQltDoTfQqf2J6PgKXnBG17W3vccvaedqIbZX4Z36XLa58F9cL8TDOhbzAZ0HNWGpt63m/4e4i1Sgrtvcj2FgJiYYCnUyOTbVW0OoIte49pu4DCClTCDqx9idPtadWlk3Gvjg11TWyvl2jQXGW5AyVuIk9pnRZ1Wzz6LLVSecaTeNUxYAhEWJAQBYsBEggBLGM4PTrooYWa2jr8w9eokAE3kFgB2EEnn1XwniQTlVGHJs1r97cos7/ACCEjaitHjoaKGkQaLeYEE2aSYemzsqKLsxAA7mVgZ1ngfB5nesR8gyr/c259h+cmKtg6fhPDloIEXU7u38zc/bpNECIgizoSouOiCLGwDNrrqZn1g2Y3+W2nrzmpXGplDEta0rNWhF0cTxSuQxLm32t9ZBTF1zEhVH42Nl121O59JS8acRpI+QIzuGBZdlOmq9TOX4jxB6pDtULXFymqohGy5djbrPMWkTk5SZrLW7VUUdXiOP4akSLGsyi4tYIxIvz9pzvF/E1etbKfhINVRCRuPxkWvKvDeE1sQSaaG3N20TvZjv6CbCcHw1LWvXz6/JS+hDML21uOU7cWFpVGJxyy5J+5nOVqjP5BmIt8lsxY82NtTqBBODViLlVpqedRrWH9s6T/wC4SndaFBFFzfMbMVA0Nz1sec5niOMas+diddl1yj2nTHTy8lVS+4rYSggzF/iNa9lFk3sBvc79eUZU4o2XLTRaQsLlBcn/APRlPKdRofbb0lilw9iLuQi7m+/su81WOMeyyd9FF3J3P6+/WRJvrLr1aKXADOQbG5A66gDf/coviFNrLbW51ud9BJtMuos1aaZ0vpdPmH9HW3Ym3vO+8LYhnw6NzQ2Nra2tlJ57Tg8EwRwdCrCx7o2h069p2XhLFtTqnDvbKxIv3yqEsvcC95xarDuX5JxT2TTOsrrdEdjrfLYc8puD9NJ0b/Kp7TCp4csMhXU332uJvVRYAdpz6TpndnlcUvggj40RTO05R6GOkax4ggIRDvHQAEUjSJHnaAOoJcj1E3JlYRPMJrCSBIRbQgHiIaOBkQaKGnMUJgZ6P4PpZcKh/mZ2P1sPsJ5qGnpvhF74VOxYf8jNMfZK7Ny0IQmxYIl4l5HWewv0gEVUTKxNS5sO5+k1n1mZi+0oyDyfH+HMTVxNQmygszZ2bTKdtben0g+GwOHAFjin3vm8g5G9tPaS+KcXWNV0Y+UMPKuYKRbc9entMNV7f+p2YdLGt0jklJJukWMVxh6nlzlV/kTQKOlha47ymq22sB+z+/SbPDPDVWrchMi33e46XsN5oVaOCwi3quKr62RbE3HLKDp6mdLyQjxH9hHHKRy64Ko/yKx6kbf+Up1qVGmD8SpmYE+RLEg31Vm2U3lnjfiSrXGVB8JACMqHQg6eY2nMseffU+vUzDJNvvg6IYVHsuVeJckRVHT5ielzzlB6zM3mJPrylrDcOqPsuUdToP8Ac1cNwNV1c5j02E5pTijVRro55ULaBST21j/gFRdtL39bzrEwirsoHoI18ODuJn6tkmTgGDIV/EvmG+qn5vobfWb9HMypWF708qafzLqu3a49pz2Y0quYjS+oH4kOjD31nWcLQjPRVtHAZCP5186G46i495u474Ovyc2ZVz8noWExAqFKqXCv1GoIJBB6Tcr7zkvA9Y1qbobllqBwWO4Y6+2k6yvvOHFDa210zoU98UxkQGJCbgkWLGCOMECNuI8RrcoqwB0kAjAJOi7QCfDixvNAGUqekso0sCa8Iy8WQDwwNHBpBeODTmKE4ad54Axl0ekd1bOPRt/uJ5+lzoJv8BdqDh/YjtzvLRkossot9HqIMBIqFUOoZTcMARLCidJI3LFZLqR1BEktCVYMbCuwLI34dj22lfGpaW8XZKmbkwlTH1B2tuTKroHEeKMLQLirVq5LD5SRdgOSDmdZz9bxVhqQthqBZiLZ6mlu9jcn7Sp4yD1a5qWzIAAltQBa9j0N95i4bhdZ7EJYa6t0953RcVBW+AscbuixxTxNiqylXq2W3yoMl9dLka/eY9FMxygEnotr3/d51OG8NAfOxbfQaDX7zZw+ARBZVA9BMpamKVRRajj6Ph93+c5F00GrfnYTUw/B0RcoW/c6knrOjGG7Rf4ack80pdkmGKEX4E13wvaRNhzMW2DMNKRPSmoaEjajJsHOcUwYIDcgdf7ecvcJa9NKgPmpsFI7Wup79JcxOGzKQdiLTK4NhsjvTJNz8vIMwHl+s7tLK3TMs0d0TvvBtMU8S7IPI9IOlz8tzqLc9cw9p1znWcr4NyfK6Z3pnKj80DAMdP7r6951L7yk4bJNFMPtGmAgYCUNRwjrxsBAHxREtHKIA9ZOgkKSPHYvIMq/O32HWLILiVbsQDtp785bUzO4fRsJpKJaJI+xhEzQlgeEhpYwuGZ9tBzMdgcEWsz6DkOZm0yhVsNBaefOdcI0x4XLlkGCoBdvrL1ushwyWEsqJjbZ1qKXCNrgHFMhyOfIf+JnXo/PcH7ieZo3mnQ8J4sUsj6pyPSdmHKmqZzZIU7R2QMWVqFcEAg3B2MsTcxMrja3C+/+JyeOwpPp0nW8WOoHSYrrMpqyydHNNgV6CM/he06F6APKQnDdJWhZkLhesetHpNI4aKuHihZmjDyQYWaS0I8UpNCzM/hRGNhR0muKMd/D9pO0WYL4OV2wnadKcPGNhY2izmXwPac9x/CNTZKqm1jbTe97gj3E9CfCzI47w/PSZQQp3udrDea4/pkmh2UfBbZa2cNdaisxOpCmwJW/Yj8p3RYHUbcp574FqD4gRjoA5AOoubA2PLYfWeglQNBtym+prd+hjCO20IYgEI6c5cIojLRwMAeGjwYxmA1JsLbzMxPEc3lT/wAv0kOSQ7L+JxyoLDzNyH6ypg6Rds7ak85Vw1C5mzhktKp7mX6NHDjSWJVpmWEM3XRQfCJCSDy6im0lrjYR1FYjC7+k8aj0SSmlrSR9BFVYytvaWoCUkllVO0bSEmWWjxyiHyWMBjnpHQ3XmORnS4LiyPsbH+U/4M5QJDIRqJ0wzeGc88flHXcQIbUH1HOZTLKOH4m66N5h33HoZdpYlH2Nj0On3mrafRjVCFICnLOSKEigQClF+DLS05ItOTQKQoRwoy8Kcd8OTQKQpRfhS5kgUk0CkaUaacumnGtTigZ707ynicKCCCLg7jkZs/DkT0YB5dj6wwGKRwvkdbZbXvdvMv5ETsqHH0cgFXUNbIWR1Bv1JFhLnEOGhyHsMy3tcA777yG72sWH0/xLTyJpJ9odl0tFX+6Y74ItfM7m/e3sLbCT4ehkUKpaw21MxckNpdqOE1drAmwJ6yA4pFBtdzqR+l9gIPrvrECSu5+BRBXzORe4AA8t7i/P1j6OHlhUk9NJCjbJsWjTtLlMRiKPQfQRj45E28x7bfWapUV7NFBKuK4mqaJ5j9h+sysTjXfc2HQbShUq6eXXvIlmUVwXjjbLtTH1CT5z9Ykz8sSYetI39NFWjCgut4QnObFhRIgLsYQhkIsKkeohCWRBIpkkISSBjKDvK7LaEJeMmVkkT0cdUTZrjodZo4fi4OhT3Bt9oQm8W7OdpGphsQj/ACn6gy0EiwmpQULFtCEkC5YZYQkgTLEKwhAGssYyQhKkkLpMrE0spiQlJdBEMIQmZIokioTCEIgGZV3P0EjfH22HudYQl3wSivUxBb5iYirFhMpt0awSshqjzJ6lfqL/AOIV6PMafvmIQmRsVBiwNCNR3hCEEn//2Q==\n"
     ]
    }
   ],
   "source": [
    "print(f\"Top 10 images for '{keyword}':\")\n",
    "for url in image_urls[:10]:\n",
    "    print(url)"
   ]
  },
  {
   "cell_type": "code",
   "execution_count": 94,
   "id": "3445262c",
   "metadata": {},
   "outputs": [],
   "source": [
    "driver.quit()"
   ]
  },
  {
   "cell_type": "markdown",
   "id": "058314cd",
   "metadata": {},
   "source": [
    "5. Write a program to scrap geospatial coordinates (latitude, longitude) of a city searched on google maps\n"
   ]
  },
  {
   "cell_type": "code",
   "execution_count": 96,
   "id": "3c4d30c8",
   "metadata": {},
   "outputs": [],
   "source": [
    "driver= webdriver.Chrome()"
   ]
  },
  {
   "cell_type": "code",
   "execution_count": 97,
   "id": "7e9bb75c",
   "metadata": {},
   "outputs": [],
   "source": [
    "driver.get(\"https://www.google.co.in/maps\")\n",
    "time.sleep(3)\n"
   ]
  },
  {
   "cell_type": "code",
   "execution_count": null,
   "id": "30164cba",
   "metadata": {},
   "outputs": [],
   "source": [
    "city = input('Enter City Name : ')                                         # Enter city to be searched\n",
    "search = driver.find_element_by_id(\"searchboxinput\")                       # locating search bar\n",
    "search.clear()                                                             # clearing search bar\n",
    "time.sleep(2)\n",
    "search.send_keys(city)                                                     # entering values in search bar\n",
    "button = driver.find_element_by_id(\"searchbox-searchbutton\")               # locating search button\n",
    "button.click()                                                             # clicking search button\n",
    "time.sleep(3)\n",
    "\n",
    "try:\n",
    "    url_string = driver.current_url\n",
    "    print(\"URL Extracted: \", url_string)\n",
    "    lat_lng = re.findall(r'@(.*)data',url_string)\n",
    "    if len(lat_lng):\n",
    "        lat_lng_list = lat_lng[0].split(\",\")\n",
    "        if len(lat_lng_list)>=2:\n",
    "            lat = lat_lng_list[0]\n",
    "            lng = lat_lng_list[1]\n",
    "        print(\"Latitude = {}, Longitude = {}\".format(lat, lng))\n",
    "\n",
    "except Exception as e:\n",
    "        print(\"Error: \", str(e))"
   ]
  },
  {
   "cell_type": "markdown",
   "id": "1d4f5930",
   "metadata": {},
   "source": [
    "4. Write a python program to search for a smartphone(e.g.: Oneplus Nord, pixel 4A, etc.) on www.flipkart.com and scrape following details for all the search results displayed on 1st page."
   ]
  },
  {
   "cell_type": "code",
   "execution_count": 100,
   "id": "75f63f25",
   "metadata": {},
   "outputs": [],
   "source": [
    "driver=webdriver.Chrome()"
   ]
  },
  {
   "cell_type": "code",
   "execution_count": 101,
   "id": "758b1a9a",
   "metadata": {},
   "outputs": [],
   "source": [
    "url4=\"https://www.flipkart.com/search?q=smartphone&otracker=search&otracker1=search&marketplace=FLIPKART&as-show=on&as=off\"\n",
    "driver.get(url4)"
   ]
  },
  {
   "cell_type": "code",
   "execution_count": 102,
   "id": "d7b85129",
   "metadata": {},
   "outputs": [],
   "source": [
    "Brand_Name=[]\n",
    "Colour=[]\n",
    "Storage_RAM_ROM=[]\n",
    "P_F_Camera=[]\n",
    "Display_size_Resolution=[]\n",
    "ProcessorAndCores=[]\n",
    "Battery=[]\n",
    "Price=[]\n",
    "Product_URL=[]"
   ]
  },
  {
   "cell_type": "code",
   "execution_count": 104,
   "id": "e829ea44",
   "metadata": {},
   "outputs": [
    {
     "name": "stdout",
     "output_type": "stream",
     "text": [
      "24 ['Apple iPhone 15 (Blue, 128 GB)', 'Motorola G34 5G (Ocean Green, 128 GB)', 'Apple iPhone 15 (Black, 128 GB)', 'Motorola G34 5G (Ice Blue, 128 GB)', 'Apple iPhone 15 (Green, 128 GB)', 'Apple iPhone 15 (Pink, 128 GB)', 'vivo T2 5G (Nitro Blaze, 128 GB)', 'vivo T2 5G (Velocity Wave, 128 GB)', 'Motorola G34 5G (Ocean Green, 128 GB)', 'vivo T2 5G (Nitro Blaze, 128 GB)', 'Motorola g54 5G (Midnight Blue, 128 GB)', 'vivo T2 5G (Velocity Wave, 128 GB)', 'Motorola g54 5G (Mint Green, 128 GB)', 'Motorola g54 5G (Mint Green, 256 GB)', 'SAMSUNG Galaxy F04 (Opal Green, 64 GB)', 'POCO C51 (Royal Blue, 64 GB)', 'Motorola Edge 40 Neo (Caneel Bay, 128 GB)', 'POCO M6 5G (Orion Blue, 128 GB)', 'Motorola Edge 40 Neo (Black Beauty, 128 GB)', 'Apple iPhone 14 (Midnight, 128 GB)', 'Motorola G34 5G (Charcoal Black, 128 GB)', 'Motorola Edge 40 Neo (Soothing Sea, 128 GB)', 'Motorola g54 5G (Midnight Blue, 256 GB)', 'vivo T2x 5G (Aurora Gold, 128 GB)']\n"
     ]
    }
   ],
   "source": [
    "BName=driver.find_elements(By.XPATH,\"//div[@class='_4rR01T']\")\n",
    "for i in BName:\n",
    "    if i.text is None :\n",
    "        Brand_Name.append(\"--\") \n",
    "    else:\n",
    "        Brand_Name.append(i.text)\n",
    "print(len(Brand_Name),Brand_Name)"
   ]
  },
  {
   "cell_type": "code",
   "execution_count": 105,
   "id": "d5d1e1e6",
   "metadata": {},
   "outputs": [
    {
     "name": "stdout",
     "output_type": "stream",
     "text": [
      "24 ['128 GB ROM', '8 GB RAM | 128 GB ROM', '128 GB ROM', '8 GB RAM | 128 GB ROM', '128 GB ROM', '128 GB ROM', '8 GB RAM | 128 GB ROM', '6 GB RAM | 128 GB ROM', '4 GB RAM | 128 GB ROM', '6 GB RAM | 128 GB ROM', '8 GB RAM | 128 GB ROM | Expandable Upto 1 TB', '8 GB RAM | 128 GB ROM', '8 GB RAM | 128 GB ROM | Expandable Upto 1 TB', '12 GB RAM | 256 GB ROM | Expandable Upto 1 TB', '4 GB RAM | 64 GB ROM | Expandable Upto 1 TB', '4 GB RAM | 64 GB ROM | Expandable Upto 1 TB', '8 GB RAM | 128 GB ROM', '4 GB RAM | 128 GB ROM | Expandable Upto 1 TB', '8 GB RAM | 128 GB ROM', '128 GB ROM', '8 GB RAM | 128 GB ROM', '8 GB RAM | 128 GB ROM', '12 GB RAM | 256 GB ROM | Expandable Upto 1 TB', '8 GB RAM | 128 GB ROM']\n"
     ]
    }
   ],
   "source": [
    "ram=driver.find_elements(By.XPATH,\"//ul[@class='_1xgFaf']//li[1]\")\n",
    "for i in ram:\n",
    "    if i.text is None :\n",
    "        Storage_RAM_ROM.append(\"--\") \n",
    "    else:\n",
    "        Storage_RAM_ROM.append(i.text)\n",
    "print(len(Storage_RAM_ROM),Storage_RAM_ROM)"
   ]
  },
  {
   "cell_type": "code",
   "execution_count": 107,
   "id": "b1d94511",
   "metadata": {},
   "outputs": [
    {
     "name": "stdout",
     "output_type": "stream",
     "text": [
      "24 ['48MP + 12MP | 12MP Front Camera', '50MP + 2MP | 16MP Front Camera', '48MP + 12MP | 12MP Front Camera', '50MP + 2MP | 16MP Front Camera', '48MP + 12MP | 12MP Front Camera', '48MP + 12MP | 12MP Front Camera', '64 MP (OIS) + 2MP | 16MP Front Camera', '64 MP (OIS) + 2MP | 16MP Front Camera', '50MP + 2MP | 16MP Front Camera', '64 MP (OIS) + 2MP | 16MP Front Camera', '50MP (OIS) + 8MP | 16MP Front Camera', '64 MP (OIS) + 2MP | 16MP Front Camera', '50MP (OIS) + 8MP | 16MP Front Camera', '50MP (OIS) + 8MP | 16MP Front Camera', '13MP + 2MP | 5MP Front Camera', '8MP Dual Rear Camera | 5MP Front Camera', '50MP + 13MP | 32MP Front Camera', '50MP Rear Camera', '50MP + 13MP | 32MP Front Camera', '12MP + 12MP | 12MP Front Camera', '50MP + 2MP | 16MP Front Camera', '50MP + 13MP | 32MP Front Camera', '50MP (OIS) + 8MP | 16MP Front Camera', '50MP + 2MP | 8MP Front Camera']\n"
     ]
    }
   ],
   "source": [
    "PC=driver.find_elements(By.XPATH,\"//ul[@class='_1xgFaf']//li[3]\")\n",
    "for i in PC:\n",
    "    if i.text is None :\n",
    "        P_F_Camera.append(\"--\") \n",
    "    else:\n",
    "        P_F_Camera.append(i.text)\n",
    "print(len(P_F_Camera),P_F_Camera)"
   ]
  },
  {
   "cell_type": "code",
   "execution_count": 108,
   "id": "54e04822",
   "metadata": {},
   "outputs": [
    {
     "name": "stdout",
     "output_type": "stream",
     "text": [
      "24 ['15.49 cm (6.1 inch) Super Retina XDR Display', '16.51 cm (6.5 inch) HD+ Display', '15.49 cm (6.1 inch) Super Retina XDR Display', '16.51 cm (6.5 inch) HD+ Display', '15.49 cm (6.1 inch) Super Retina XDR Display', '15.49 cm (6.1 inch) Super Retina XDR Display', '16.21 cm (6.38 inch) Full HD+ Display', '16.21 cm (6.38 inch) Full HD+ Display', '16.51 cm (6.5 inch) HD+ Display', '16.21 cm (6.38 inch) Full HD+ Display', '16.51 cm (6.5 inch) Full HD+ Display', '16.21 cm (6.38 inch) Full HD+ Display', '16.51 cm (6.5 inch) Full HD+ Display', '16.51 cm (6.5 inch) Full HD+ Display', '16.51 cm (6.5 inch) HD Display', '16.56 cm (6.52 inch) HD+ Display', '16.64 cm (6.55 inch) Full HD+ Display', '17.12 cm (6.74 inch) HD+ Display', '16.64 cm (6.55 inch) Full HD+ Display', '15.49 cm (6.1 inch) Super Retina XDR Display', '16.51 cm (6.5 inch) HD+ Display', '16.64 cm (6.55 inch) Full HD+ Display', '16.51 cm (6.5 inch) Full HD+ Display', '16.71 cm (6.58 inch) Full HD+ Display']\n"
     ]
    }
   ],
   "source": [
    "DS=driver.find_elements(By.XPATH,\"//ul[@class='_1xgFaf']//li[2]\")\n",
    "for i in DS:\n",
    "    if i.text is None :\n",
    "        Display_size_Resolution.append(\"--\") \n",
    "    else:\n",
    "        Display_size_Resolution.append(i.text)\n",
    "print(len(Display_size_Resolution),Display_size_Resolution)"
   ]
  },
  {
   "cell_type": "code",
   "execution_count": 110,
   "id": "f136b6b3",
   "metadata": {},
   "outputs": [
    {
     "name": "stdout",
     "output_type": "stream",
     "text": [
      "24 ['1 Year Warranty for Phone and 6 Months Warranty for In-Box Accessories', 'Snapdragon 695 5G Processor', '1 Year Warranty for Phone and 6 Months Warranty for In-Box Accessories', 'Snapdragon 695 5G Processor', '1 Year Warranty for Phone and 6 Months Warranty for In-Box Accessories', '1 Year Warranty for Phone and 6 Months Warranty for In-Box Accessories', 'Snapdragon 695 Processor', 'Snapdragon 695 Processor', 'Snapdragon 695 5G Processor', 'Snapdragon 695 Processor', 'Dimensity 7020 Processor', 'Snapdragon 695 Processor', 'Dimensity 7020 Processor', 'Dimensity 7020 Processor', 'Mediatek Helio P35 Processor', 'Helio G36 Processor', 'Dimensity 7030 Processor', 'Mediatek Dimensity 6100+ Processor', 'Dimensity 7030 Processor', '1 Year Warranty for Phone and 6 Months Warranty for In-Box Accessories', 'Snapdragon 695 5G Processor', 'Dimensity 7030 Processor', 'Dimensity 7020 Processor', 'Mediatek Dimensity 6020 Processor']\n"
     ]
    }
   ],
   "source": [
    "P=driver.find_elements(By.XPATH,\"//ul[@class='_1xgFaf']//li[5]\")\n",
    "for i in P:\n",
    "    if i.text is None :\n",
    "        ProcessorAndCores.append(\"--\") \n",
    "    else:\n",
    "        ProcessorAndCores.append(i.text)\n",
    "print(len(ProcessorAndCores),ProcessorAndCores)"
   ]
  },
  {
   "cell_type": "code",
   "execution_count": 112,
   "id": "5fe05679",
   "metadata": {},
   "outputs": [
    {
     "name": "stdout",
     "output_type": "stream",
     "text": [
      "24 ['A16 Bionic Chip, 6 Core Processor Processor', '5000 mAh Battery', 'A16 Bionic Chip, 6 Core Processor Processor', '5000 mAh Battery', 'A16 Bionic Chip, 6 Core Processor Processor', 'A16 Bionic Chip, 6 Core Processor Processor', '4500 mAh Battery', '4500 mAh Battery', '5000 mAh Battery', '4500 mAh Battery', '6000 mAh Battery', '4500 mAh Battery', '6000 mAh Battery', '6000 mAh Battery', '5000 mAh Lithium-Ion Battery', '5000 mAh Battery', '5000 mAh Battery', '5000 mAh Battery', '5000 mAh Battery', 'A15 Bionic Chip, 6 Core Processor Processor', '5000 mAh Battery', '5000 mAh Battery', '6000 mAh Battery', '5000 mAh Battery']\n"
     ]
    }
   ],
   "source": [
    "B=driver.find_elements(By.XPATH,\"//ul[@class='_1xgFaf']//li[4]\")\n",
    "for i in B:\n",
    "    if i.text is None :\n",
    "        Battery.append(\"--\") \n",
    "    else:\n",
    "        Battery.append(i.text)\n",
    "print(len(Battery),Battery)\n"
   ]
  },
  {
   "cell_type": "code",
   "execution_count": 114,
   "id": "8b6d4ead",
   "metadata": {},
   "outputs": [
    {
     "name": "stdout",
     "output_type": "stream",
     "text": [
      "24 ['₹65,999', '₹11,999', '₹65,999', '₹11,999', '₹65,999', '₹66,999', '₹17,999', '₹15,999', '₹10,999', '₹15,999', '₹13,999', '₹17,999', '₹13,999', '₹15,999', '₹5,999', '₹5,499', '₹22,999', '₹9,499', '₹22,999', '₹56,999', '₹11,999', '₹22,999', '₹15,999', '₹14,999']\n"
     ]
    }
   ],
   "source": [
    "price=driver.find_elements(By.XPATH,\"//div[@class='_30jeq3 _1_WHN1']\")\n",
    "for i in price:\n",
    "    if i.text is None :\n",
    "        Price.append(\"--\") \n",
    "    else:\n",
    "        Price.append(i.text)\n",
    "print(len(Price),Price)"
   ]
  },
  {
   "cell_type": "code",
   "execution_count": 115,
   "id": "9730feaf",
   "metadata": {},
   "outputs": [
    {
     "data": {
      "text/html": [
       "<div>\n",
       "<style scoped>\n",
       "    .dataframe tbody tr th:only-of-type {\n",
       "        vertical-align: middle;\n",
       "    }\n",
       "\n",
       "    .dataframe tbody tr th {\n",
       "        vertical-align: top;\n",
       "    }\n",
       "\n",
       "    .dataframe thead th {\n",
       "        text-align: right;\n",
       "    }\n",
       "</style>\n",
       "<table border=\"1\" class=\"dataframe\">\n",
       "  <thead>\n",
       "    <tr style=\"text-align: right;\">\n",
       "      <th></th>\n",
       "      <th>Brand_Name</th>\n",
       "      <th>Storage_RAM_ROM</th>\n",
       "      <th>Amount P_F_Camera</th>\n",
       "      <th>Display_size_Resolution</th>\n",
       "      <th>ProcessorAndCores</th>\n",
       "      <th>Battery</th>\n",
       "      <th>Price</th>\n",
       "    </tr>\n",
       "  </thead>\n",
       "  <tbody>\n",
       "    <tr>\n",
       "      <th>0</th>\n",
       "      <td>Apple iPhone 15 (Blue, 128 GB)</td>\n",
       "      <td>128 GB ROM</td>\n",
       "      <td>48MP + 12MP | 12MP Front Camera</td>\n",
       "      <td>15.49 cm (6.1 inch) Super Retina XDR Display</td>\n",
       "      <td>1 Year Warranty for Phone and 6 Months Warrant...</td>\n",
       "      <td>A16 Bionic Chip, 6 Core Processor Processor</td>\n",
       "      <td>₹65,999</td>\n",
       "    </tr>\n",
       "    <tr>\n",
       "      <th>1</th>\n",
       "      <td>Motorola G34 5G (Ocean Green, 128 GB)</td>\n",
       "      <td>8 GB RAM | 128 GB ROM</td>\n",
       "      <td>50MP + 2MP | 16MP Front Camera</td>\n",
       "      <td>16.51 cm (6.5 inch) HD+ Display</td>\n",
       "      <td>Snapdragon 695 5G Processor</td>\n",
       "      <td>5000 mAh Battery</td>\n",
       "      <td>₹11,999</td>\n",
       "    </tr>\n",
       "    <tr>\n",
       "      <th>2</th>\n",
       "      <td>Apple iPhone 15 (Black, 128 GB)</td>\n",
       "      <td>128 GB ROM</td>\n",
       "      <td>48MP + 12MP | 12MP Front Camera</td>\n",
       "      <td>15.49 cm (6.1 inch) Super Retina XDR Display</td>\n",
       "      <td>1 Year Warranty for Phone and 6 Months Warrant...</td>\n",
       "      <td>A16 Bionic Chip, 6 Core Processor Processor</td>\n",
       "      <td>₹65,999</td>\n",
       "    </tr>\n",
       "    <tr>\n",
       "      <th>3</th>\n",
       "      <td>Motorola G34 5G (Ice Blue, 128 GB)</td>\n",
       "      <td>8 GB RAM | 128 GB ROM</td>\n",
       "      <td>50MP + 2MP | 16MP Front Camera</td>\n",
       "      <td>16.51 cm (6.5 inch) HD+ Display</td>\n",
       "      <td>Snapdragon 695 5G Processor</td>\n",
       "      <td>5000 mAh Battery</td>\n",
       "      <td>₹11,999</td>\n",
       "    </tr>\n",
       "    <tr>\n",
       "      <th>4</th>\n",
       "      <td>Apple iPhone 15 (Green, 128 GB)</td>\n",
       "      <td>128 GB ROM</td>\n",
       "      <td>48MP + 12MP | 12MP Front Camera</td>\n",
       "      <td>15.49 cm (6.1 inch) Super Retina XDR Display</td>\n",
       "      <td>1 Year Warranty for Phone and 6 Months Warrant...</td>\n",
       "      <td>A16 Bionic Chip, 6 Core Processor Processor</td>\n",
       "      <td>₹65,999</td>\n",
       "    </tr>\n",
       "    <tr>\n",
       "      <th>5</th>\n",
       "      <td>Apple iPhone 15 (Pink, 128 GB)</td>\n",
       "      <td>128 GB ROM</td>\n",
       "      <td>48MP + 12MP | 12MP Front Camera</td>\n",
       "      <td>15.49 cm (6.1 inch) Super Retina XDR Display</td>\n",
       "      <td>1 Year Warranty for Phone and 6 Months Warrant...</td>\n",
       "      <td>A16 Bionic Chip, 6 Core Processor Processor</td>\n",
       "      <td>₹66,999</td>\n",
       "    </tr>\n",
       "    <tr>\n",
       "      <th>6</th>\n",
       "      <td>vivo T2 5G (Nitro Blaze, 128 GB)</td>\n",
       "      <td>8 GB RAM | 128 GB ROM</td>\n",
       "      <td>64 MP (OIS) + 2MP | 16MP Front Camera</td>\n",
       "      <td>16.21 cm (6.38 inch) Full HD+ Display</td>\n",
       "      <td>Snapdragon 695 Processor</td>\n",
       "      <td>4500 mAh Battery</td>\n",
       "      <td>₹17,999</td>\n",
       "    </tr>\n",
       "    <tr>\n",
       "      <th>7</th>\n",
       "      <td>vivo T2 5G (Velocity Wave, 128 GB)</td>\n",
       "      <td>6 GB RAM | 128 GB ROM</td>\n",
       "      <td>64 MP (OIS) + 2MP | 16MP Front Camera</td>\n",
       "      <td>16.21 cm (6.38 inch) Full HD+ Display</td>\n",
       "      <td>Snapdragon 695 Processor</td>\n",
       "      <td>4500 mAh Battery</td>\n",
       "      <td>₹15,999</td>\n",
       "    </tr>\n",
       "    <tr>\n",
       "      <th>8</th>\n",
       "      <td>Motorola G34 5G (Ocean Green, 128 GB)</td>\n",
       "      <td>4 GB RAM | 128 GB ROM</td>\n",
       "      <td>50MP + 2MP | 16MP Front Camera</td>\n",
       "      <td>16.51 cm (6.5 inch) HD+ Display</td>\n",
       "      <td>Snapdragon 695 5G Processor</td>\n",
       "      <td>5000 mAh Battery</td>\n",
       "      <td>₹10,999</td>\n",
       "    </tr>\n",
       "    <tr>\n",
       "      <th>9</th>\n",
       "      <td>vivo T2 5G (Nitro Blaze, 128 GB)</td>\n",
       "      <td>6 GB RAM | 128 GB ROM</td>\n",
       "      <td>64 MP (OIS) + 2MP | 16MP Front Camera</td>\n",
       "      <td>16.21 cm (6.38 inch) Full HD+ Display</td>\n",
       "      <td>Snapdragon 695 Processor</td>\n",
       "      <td>4500 mAh Battery</td>\n",
       "      <td>₹15,999</td>\n",
       "    </tr>\n",
       "    <tr>\n",
       "      <th>10</th>\n",
       "      <td>Motorola g54 5G (Midnight Blue, 128 GB)</td>\n",
       "      <td>8 GB RAM | 128 GB ROM | Expandable Upto 1 TB</td>\n",
       "      <td>50MP (OIS) + 8MP | 16MP Front Camera</td>\n",
       "      <td>16.51 cm (6.5 inch) Full HD+ Display</td>\n",
       "      <td>Dimensity 7020 Processor</td>\n",
       "      <td>6000 mAh Battery</td>\n",
       "      <td>₹13,999</td>\n",
       "    </tr>\n",
       "    <tr>\n",
       "      <th>11</th>\n",
       "      <td>vivo T2 5G (Velocity Wave, 128 GB)</td>\n",
       "      <td>8 GB RAM | 128 GB ROM</td>\n",
       "      <td>64 MP (OIS) + 2MP | 16MP Front Camera</td>\n",
       "      <td>16.21 cm (6.38 inch) Full HD+ Display</td>\n",
       "      <td>Snapdragon 695 Processor</td>\n",
       "      <td>4500 mAh Battery</td>\n",
       "      <td>₹17,999</td>\n",
       "    </tr>\n",
       "    <tr>\n",
       "      <th>12</th>\n",
       "      <td>Motorola g54 5G (Mint Green, 128 GB)</td>\n",
       "      <td>8 GB RAM | 128 GB ROM | Expandable Upto 1 TB</td>\n",
       "      <td>50MP (OIS) + 8MP | 16MP Front Camera</td>\n",
       "      <td>16.51 cm (6.5 inch) Full HD+ Display</td>\n",
       "      <td>Dimensity 7020 Processor</td>\n",
       "      <td>6000 mAh Battery</td>\n",
       "      <td>₹13,999</td>\n",
       "    </tr>\n",
       "    <tr>\n",
       "      <th>13</th>\n",
       "      <td>Motorola g54 5G (Mint Green, 256 GB)</td>\n",
       "      <td>12 GB RAM | 256 GB ROM | Expandable Upto 1 TB</td>\n",
       "      <td>50MP (OIS) + 8MP | 16MP Front Camera</td>\n",
       "      <td>16.51 cm (6.5 inch) Full HD+ Display</td>\n",
       "      <td>Dimensity 7020 Processor</td>\n",
       "      <td>6000 mAh Battery</td>\n",
       "      <td>₹15,999</td>\n",
       "    </tr>\n",
       "    <tr>\n",
       "      <th>14</th>\n",
       "      <td>SAMSUNG Galaxy F04 (Opal Green, 64 GB)</td>\n",
       "      <td>4 GB RAM | 64 GB ROM | Expandable Upto 1 TB</td>\n",
       "      <td>13MP + 2MP | 5MP Front Camera</td>\n",
       "      <td>16.51 cm (6.5 inch) HD Display</td>\n",
       "      <td>Mediatek Helio P35 Processor</td>\n",
       "      <td>5000 mAh Lithium-Ion Battery</td>\n",
       "      <td>₹5,999</td>\n",
       "    </tr>\n",
       "    <tr>\n",
       "      <th>15</th>\n",
       "      <td>POCO C51 (Royal Blue, 64 GB)</td>\n",
       "      <td>4 GB RAM | 64 GB ROM | Expandable Upto 1 TB</td>\n",
       "      <td>8MP Dual Rear Camera | 5MP Front Camera</td>\n",
       "      <td>16.56 cm (6.52 inch) HD+ Display</td>\n",
       "      <td>Helio G36 Processor</td>\n",
       "      <td>5000 mAh Battery</td>\n",
       "      <td>₹5,499</td>\n",
       "    </tr>\n",
       "    <tr>\n",
       "      <th>16</th>\n",
       "      <td>Motorola Edge 40 Neo (Caneel Bay, 128 GB)</td>\n",
       "      <td>8 GB RAM | 128 GB ROM</td>\n",
       "      <td>50MP + 13MP | 32MP Front Camera</td>\n",
       "      <td>16.64 cm (6.55 inch) Full HD+ Display</td>\n",
       "      <td>Dimensity 7030 Processor</td>\n",
       "      <td>5000 mAh Battery</td>\n",
       "      <td>₹22,999</td>\n",
       "    </tr>\n",
       "    <tr>\n",
       "      <th>17</th>\n",
       "      <td>POCO M6 5G (Orion Blue, 128 GB)</td>\n",
       "      <td>4 GB RAM | 128 GB ROM | Expandable Upto 1 TB</td>\n",
       "      <td>50MP Rear Camera</td>\n",
       "      <td>17.12 cm (6.74 inch) HD+ Display</td>\n",
       "      <td>Mediatek Dimensity 6100+ Processor</td>\n",
       "      <td>5000 mAh Battery</td>\n",
       "      <td>₹9,499</td>\n",
       "    </tr>\n",
       "    <tr>\n",
       "      <th>18</th>\n",
       "      <td>Motorola Edge 40 Neo (Black Beauty, 128 GB)</td>\n",
       "      <td>8 GB RAM | 128 GB ROM</td>\n",
       "      <td>50MP + 13MP | 32MP Front Camera</td>\n",
       "      <td>16.64 cm (6.55 inch) Full HD+ Display</td>\n",
       "      <td>Dimensity 7030 Processor</td>\n",
       "      <td>5000 mAh Battery</td>\n",
       "      <td>₹22,999</td>\n",
       "    </tr>\n",
       "    <tr>\n",
       "      <th>19</th>\n",
       "      <td>Apple iPhone 14 (Midnight, 128 GB)</td>\n",
       "      <td>128 GB ROM</td>\n",
       "      <td>12MP + 12MP | 12MP Front Camera</td>\n",
       "      <td>15.49 cm (6.1 inch) Super Retina XDR Display</td>\n",
       "      <td>1 Year Warranty for Phone and 6 Months Warrant...</td>\n",
       "      <td>A15 Bionic Chip, 6 Core Processor Processor</td>\n",
       "      <td>₹56,999</td>\n",
       "    </tr>\n",
       "    <tr>\n",
       "      <th>20</th>\n",
       "      <td>Motorola G34 5G (Charcoal Black, 128 GB)</td>\n",
       "      <td>8 GB RAM | 128 GB ROM</td>\n",
       "      <td>50MP + 2MP | 16MP Front Camera</td>\n",
       "      <td>16.51 cm (6.5 inch) HD+ Display</td>\n",
       "      <td>Snapdragon 695 5G Processor</td>\n",
       "      <td>5000 mAh Battery</td>\n",
       "      <td>₹11,999</td>\n",
       "    </tr>\n",
       "    <tr>\n",
       "      <th>21</th>\n",
       "      <td>Motorola Edge 40 Neo (Soothing Sea, 128 GB)</td>\n",
       "      <td>8 GB RAM | 128 GB ROM</td>\n",
       "      <td>50MP + 13MP | 32MP Front Camera</td>\n",
       "      <td>16.64 cm (6.55 inch) Full HD+ Display</td>\n",
       "      <td>Dimensity 7030 Processor</td>\n",
       "      <td>5000 mAh Battery</td>\n",
       "      <td>₹22,999</td>\n",
       "    </tr>\n",
       "    <tr>\n",
       "      <th>22</th>\n",
       "      <td>Motorola g54 5G (Midnight Blue, 256 GB)</td>\n",
       "      <td>12 GB RAM | 256 GB ROM | Expandable Upto 1 TB</td>\n",
       "      <td>50MP (OIS) + 8MP | 16MP Front Camera</td>\n",
       "      <td>16.51 cm (6.5 inch) Full HD+ Display</td>\n",
       "      <td>Dimensity 7020 Processor</td>\n",
       "      <td>6000 mAh Battery</td>\n",
       "      <td>₹15,999</td>\n",
       "    </tr>\n",
       "    <tr>\n",
       "      <th>23</th>\n",
       "      <td>vivo T2x 5G (Aurora Gold, 128 GB)</td>\n",
       "      <td>8 GB RAM | 128 GB ROM</td>\n",
       "      <td>50MP + 2MP | 8MP Front Camera</td>\n",
       "      <td>16.71 cm (6.58 inch) Full HD+ Display</td>\n",
       "      <td>Mediatek Dimensity 6020 Processor</td>\n",
       "      <td>5000 mAh Battery</td>\n",
       "      <td>₹14,999</td>\n",
       "    </tr>\n",
       "  </tbody>\n",
       "</table>\n",
       "</div>"
      ],
      "text/plain": [
       "                                     Brand_Name  \\\n",
       "0                Apple iPhone 15 (Blue, 128 GB)   \n",
       "1         Motorola G34 5G (Ocean Green, 128 GB)   \n",
       "2               Apple iPhone 15 (Black, 128 GB)   \n",
       "3            Motorola G34 5G (Ice Blue, 128 GB)   \n",
       "4               Apple iPhone 15 (Green, 128 GB)   \n",
       "5                Apple iPhone 15 (Pink, 128 GB)   \n",
       "6              vivo T2 5G (Nitro Blaze, 128 GB)   \n",
       "7            vivo T2 5G (Velocity Wave, 128 GB)   \n",
       "8         Motorola G34 5G (Ocean Green, 128 GB)   \n",
       "9              vivo T2 5G (Nitro Blaze, 128 GB)   \n",
       "10      Motorola g54 5G (Midnight Blue, 128 GB)   \n",
       "11           vivo T2 5G (Velocity Wave, 128 GB)   \n",
       "12         Motorola g54 5G (Mint Green, 128 GB)   \n",
       "13         Motorola g54 5G (Mint Green, 256 GB)   \n",
       "14       SAMSUNG Galaxy F04 (Opal Green, 64 GB)   \n",
       "15                 POCO C51 (Royal Blue, 64 GB)   \n",
       "16    Motorola Edge 40 Neo (Caneel Bay, 128 GB)   \n",
       "17              POCO M6 5G (Orion Blue, 128 GB)   \n",
       "18  Motorola Edge 40 Neo (Black Beauty, 128 GB)   \n",
       "19           Apple iPhone 14 (Midnight, 128 GB)   \n",
       "20     Motorola G34 5G (Charcoal Black, 128 GB)   \n",
       "21  Motorola Edge 40 Neo (Soothing Sea, 128 GB)   \n",
       "22      Motorola g54 5G (Midnight Blue, 256 GB)   \n",
       "23            vivo T2x 5G (Aurora Gold, 128 GB)   \n",
       "\n",
       "                                  Storage_RAM_ROM  \\\n",
       "0                                      128 GB ROM   \n",
       "1                           8 GB RAM | 128 GB ROM   \n",
       "2                                      128 GB ROM   \n",
       "3                           8 GB RAM | 128 GB ROM   \n",
       "4                                      128 GB ROM   \n",
       "5                                      128 GB ROM   \n",
       "6                           8 GB RAM | 128 GB ROM   \n",
       "7                           6 GB RAM | 128 GB ROM   \n",
       "8                           4 GB RAM | 128 GB ROM   \n",
       "9                           6 GB RAM | 128 GB ROM   \n",
       "10   8 GB RAM | 128 GB ROM | Expandable Upto 1 TB   \n",
       "11                          8 GB RAM | 128 GB ROM   \n",
       "12   8 GB RAM | 128 GB ROM | Expandable Upto 1 TB   \n",
       "13  12 GB RAM | 256 GB ROM | Expandable Upto 1 TB   \n",
       "14    4 GB RAM | 64 GB ROM | Expandable Upto 1 TB   \n",
       "15    4 GB RAM | 64 GB ROM | Expandable Upto 1 TB   \n",
       "16                          8 GB RAM | 128 GB ROM   \n",
       "17   4 GB RAM | 128 GB ROM | Expandable Upto 1 TB   \n",
       "18                          8 GB RAM | 128 GB ROM   \n",
       "19                                     128 GB ROM   \n",
       "20                          8 GB RAM | 128 GB ROM   \n",
       "21                          8 GB RAM | 128 GB ROM   \n",
       "22  12 GB RAM | 256 GB ROM | Expandable Upto 1 TB   \n",
       "23                          8 GB RAM | 128 GB ROM   \n",
       "\n",
       "                          Amount P_F_Camera  \\\n",
       "0           48MP + 12MP | 12MP Front Camera   \n",
       "1            50MP + 2MP | 16MP Front Camera   \n",
       "2           48MP + 12MP | 12MP Front Camera   \n",
       "3            50MP + 2MP | 16MP Front Camera   \n",
       "4           48MP + 12MP | 12MP Front Camera   \n",
       "5           48MP + 12MP | 12MP Front Camera   \n",
       "6     64 MP (OIS) + 2MP | 16MP Front Camera   \n",
       "7     64 MP (OIS) + 2MP | 16MP Front Camera   \n",
       "8            50MP + 2MP | 16MP Front Camera   \n",
       "9     64 MP (OIS) + 2MP | 16MP Front Camera   \n",
       "10     50MP (OIS) + 8MP | 16MP Front Camera   \n",
       "11    64 MP (OIS) + 2MP | 16MP Front Camera   \n",
       "12     50MP (OIS) + 8MP | 16MP Front Camera   \n",
       "13     50MP (OIS) + 8MP | 16MP Front Camera   \n",
       "14            13MP + 2MP | 5MP Front Camera   \n",
       "15  8MP Dual Rear Camera | 5MP Front Camera   \n",
       "16          50MP + 13MP | 32MP Front Camera   \n",
       "17                         50MP Rear Camera   \n",
       "18          50MP + 13MP | 32MP Front Camera   \n",
       "19          12MP + 12MP | 12MP Front Camera   \n",
       "20           50MP + 2MP | 16MP Front Camera   \n",
       "21          50MP + 13MP | 32MP Front Camera   \n",
       "22     50MP (OIS) + 8MP | 16MP Front Camera   \n",
       "23            50MP + 2MP | 8MP Front Camera   \n",
       "\n",
       "                         Display_size_Resolution  \\\n",
       "0   15.49 cm (6.1 inch) Super Retina XDR Display   \n",
       "1                16.51 cm (6.5 inch) HD+ Display   \n",
       "2   15.49 cm (6.1 inch) Super Retina XDR Display   \n",
       "3                16.51 cm (6.5 inch) HD+ Display   \n",
       "4   15.49 cm (6.1 inch) Super Retina XDR Display   \n",
       "5   15.49 cm (6.1 inch) Super Retina XDR Display   \n",
       "6          16.21 cm (6.38 inch) Full HD+ Display   \n",
       "7          16.21 cm (6.38 inch) Full HD+ Display   \n",
       "8                16.51 cm (6.5 inch) HD+ Display   \n",
       "9          16.21 cm (6.38 inch) Full HD+ Display   \n",
       "10          16.51 cm (6.5 inch) Full HD+ Display   \n",
       "11         16.21 cm (6.38 inch) Full HD+ Display   \n",
       "12          16.51 cm (6.5 inch) Full HD+ Display   \n",
       "13          16.51 cm (6.5 inch) Full HD+ Display   \n",
       "14                16.51 cm (6.5 inch) HD Display   \n",
       "15              16.56 cm (6.52 inch) HD+ Display   \n",
       "16         16.64 cm (6.55 inch) Full HD+ Display   \n",
       "17              17.12 cm (6.74 inch) HD+ Display   \n",
       "18         16.64 cm (6.55 inch) Full HD+ Display   \n",
       "19  15.49 cm (6.1 inch) Super Retina XDR Display   \n",
       "20               16.51 cm (6.5 inch) HD+ Display   \n",
       "21         16.64 cm (6.55 inch) Full HD+ Display   \n",
       "22          16.51 cm (6.5 inch) Full HD+ Display   \n",
       "23         16.71 cm (6.58 inch) Full HD+ Display   \n",
       "\n",
       "                                    ProcessorAndCores  \\\n",
       "0   1 Year Warranty for Phone and 6 Months Warrant...   \n",
       "1                         Snapdragon 695 5G Processor   \n",
       "2   1 Year Warranty for Phone and 6 Months Warrant...   \n",
       "3                         Snapdragon 695 5G Processor   \n",
       "4   1 Year Warranty for Phone and 6 Months Warrant...   \n",
       "5   1 Year Warranty for Phone and 6 Months Warrant...   \n",
       "6                            Snapdragon 695 Processor   \n",
       "7                            Snapdragon 695 Processor   \n",
       "8                         Snapdragon 695 5G Processor   \n",
       "9                            Snapdragon 695 Processor   \n",
       "10                           Dimensity 7020 Processor   \n",
       "11                           Snapdragon 695 Processor   \n",
       "12                           Dimensity 7020 Processor   \n",
       "13                           Dimensity 7020 Processor   \n",
       "14                       Mediatek Helio P35 Processor   \n",
       "15                                Helio G36 Processor   \n",
       "16                           Dimensity 7030 Processor   \n",
       "17                 Mediatek Dimensity 6100+ Processor   \n",
       "18                           Dimensity 7030 Processor   \n",
       "19  1 Year Warranty for Phone and 6 Months Warrant...   \n",
       "20                        Snapdragon 695 5G Processor   \n",
       "21                           Dimensity 7030 Processor   \n",
       "22                           Dimensity 7020 Processor   \n",
       "23                  Mediatek Dimensity 6020 Processor   \n",
       "\n",
       "                                        Battery    Price  \n",
       "0   A16 Bionic Chip, 6 Core Processor Processor  ₹65,999  \n",
       "1                              5000 mAh Battery  ₹11,999  \n",
       "2   A16 Bionic Chip, 6 Core Processor Processor  ₹65,999  \n",
       "3                              5000 mAh Battery  ₹11,999  \n",
       "4   A16 Bionic Chip, 6 Core Processor Processor  ₹65,999  \n",
       "5   A16 Bionic Chip, 6 Core Processor Processor  ₹66,999  \n",
       "6                              4500 mAh Battery  ₹17,999  \n",
       "7                              4500 mAh Battery  ₹15,999  \n",
       "8                              5000 mAh Battery  ₹10,999  \n",
       "9                              4500 mAh Battery  ₹15,999  \n",
       "10                             6000 mAh Battery  ₹13,999  \n",
       "11                             4500 mAh Battery  ₹17,999  \n",
       "12                             6000 mAh Battery  ₹13,999  \n",
       "13                             6000 mAh Battery  ₹15,999  \n",
       "14                 5000 mAh Lithium-Ion Battery   ₹5,999  \n",
       "15                             5000 mAh Battery   ₹5,499  \n",
       "16                             5000 mAh Battery  ₹22,999  \n",
       "17                             5000 mAh Battery   ₹9,499  \n",
       "18                             5000 mAh Battery  ₹22,999  \n",
       "19  A15 Bionic Chip, 6 Core Processor Processor  ₹56,999  \n",
       "20                             5000 mAh Battery  ₹11,999  \n",
       "21                             5000 mAh Battery  ₹22,999  \n",
       "22                             6000 mAh Battery  ₹15,999  \n",
       "23                             5000 mAh Battery  ₹14,999  "
      ]
     },
     "execution_count": 115,
     "metadata": {},
     "output_type": "execute_result"
    }
   ],
   "source": [
    "FlipKart=pd.DataFrame([])\n",
    "FlipKart['Brand_Name']=Brand_Name\n",
    "FlipKart['Storage_RAM_ROM']=Storage_RAM_ROM\n",
    "FlipKart['Amount P_F_Camera']=P_F_Camera\n",
    "FlipKart['Display_size_Resolution']=Display_size_Resolution\n",
    "FlipKart['ProcessorAndCores']=ProcessorAndCores\n",
    "FlipKart['Battery']=Battery\n",
    "FlipKart['Price']=Price\n",
    "\n",
    "FlipKart"
   ]
  },
  {
   "cell_type": "markdown",
   "id": "cb1db081",
   "metadata": {},
   "source": [
    "Q:5.Write a program to scrap geospatial coordinates (latitude, longitude) of a city searched on google maps. \n"
   ]
  },
  {
   "cell_type": "code",
   "execution_count": 164,
   "id": "c4e582b2",
   "metadata": {},
   "outputs": [],
   "source": [
    "driver = webdriver.Chrome()"
   ]
  },
  {
   "cell_type": "code",
   "execution_count": 169,
   "id": "0770c628",
   "metadata": {},
   "outputs": [
    {
     "name": "stdout",
     "output_type": "stream",
     "text": [
      "Enter City Name : Gwalior\n",
      "URL Extracted:  https://www.google.co.in/maps/place/Gwalior,+Madhya+Pradesh/@12.9531904,77.6667136,12z/data=!4m6!3m5!1s0x3976c5d1792291fb:0xff4fb56d65bc3adf!8m2!3d26.2124007!4d78.1772053!16zL20vMDE5Nl9o?entry=ttu\n",
      "Latitude = 12.9531904, Longitude = 77.6667136\n"
     ]
    }
   ],
   "source": [
    "driver.get(\"https://www.google.co.in/maps\")\n",
    "time.sleep(3)\n",
    "\n",
    "city = input('Enter City Name : ')                                         # Enter city to be searched\n",
    "search = driver.find_element(By.ID,\"searchboxinput\")                       # locating search bar\n",
    "search.clear()                                                             # clearing search bar\n",
    "time.sleep(2)\n",
    "search.send_keys(city)                                                     # entering values in search bar\n",
    "button = driver.find_element(By.ID,\"searchbox-searchbutton\")               # locating search button\n",
    "button.click()                                                             # clicking search button\n",
    "time.sleep(3)\n",
    "\n",
    "\n",
    "try:\n",
    "    url_string = driver.current_url\n",
    "    print(\"URL Extracted: \", url_string)\n",
    "    lat_lng = re.findall(r'@(.*)data',url_string)\n",
    "    if len(lat_lng):\n",
    "        lat_lng_list = lat_lng[0].split(\",\")\n",
    "        if len(lat_lng_list)>=2:\n",
    "            lat = lat_lng_list[0]\n",
    "            lng = lat_lng_list[1]\n",
    "        print(\"Latitude = {}, Longitude = {}\".format(lat, lng))\n",
    "\n",
    "except Exception as e:\n",
    "        print(\"Error: \", str(e))"
   ]
  },
  {
   "cell_type": "markdown",
   "id": "6c5bda12",
   "metadata": {},
   "source": [
    "Q.6 Write a program to scrap all the available details of best gaming laptops from digit.in. "
   ]
  },
  {
   "cell_type": "code",
   "execution_count": 216,
   "id": "e6f97727",
   "metadata": {},
   "outputs": [],
   "source": [
    "driver = webdriver.Chrome()"
   ]
  },
  {
   "cell_type": "code",
   "execution_count": 217,
   "id": "e1b54e08",
   "metadata": {},
   "outputs": [],
   "source": [
    "driver.get(\"https://www.digit.in/top-products/best-gaming-laptops-40.html\")"
   ]
  },
  {
   "cell_type": "code",
   "execution_count": 218,
   "id": "12515152",
   "metadata": {},
   "outputs": [],
   "source": [
    "Brands=[]\n",
    "Products_Description=[]\n",
    "Specification=[]\n",
    "Price=[]"
   ]
  },
  {
   "cell_type": "code",
   "execution_count": 220,
   "id": "842ff44f",
   "metadata": {},
   "outputs": [
    {
     "data": {
      "text/plain": [
       "0"
      ]
     },
     "execution_count": 220,
     "metadata": {},
     "output_type": "execute_result"
    }
   ],
   "source": [
    "br=driver.find_elements(By.XPATH,\"//div[@class='TopNumbeHeading active sticky-footer']\")\n",
    "len(br)"
   ]
  },
  {
   "cell_type": "code",
   "execution_count": 221,
   "id": "31a62e28",
   "metadata": {},
   "outputs": [
    {
     "data": {
      "text/plain": [
       "[]"
      ]
     },
     "execution_count": 221,
     "metadata": {},
     "output_type": "execute_result"
    }
   ],
   "source": [
    "for i in br:\n",
    "   \n",
    "    Brands.append(str(i.text).replace(\"\\n\",\"\"))\n",
    "Brands"
   ]
  },
  {
   "cell_type": "code",
   "execution_count": 223,
   "id": "cb9b2f8e",
   "metadata": {},
   "outputs": [
    {
     "data": {
      "text/plain": [
       "0"
      ]
     },
     "execution_count": 223,
     "metadata": {},
     "output_type": "execute_result"
    }
   ],
   "source": [
    "sp=driver.find_elements(By.XPATH,\"//div[@class='Specs-Wrap']\")\n",
    "len(sp)"
   ]
  },
  {
   "cell_type": "code",
   "execution_count": 224,
   "id": "e8f37383",
   "metadata": {},
   "outputs": [
    {
     "data": {
      "text/plain": [
       "[]"
      ]
     },
     "execution_count": 224,
     "metadata": {},
     "output_type": "execute_result"
    }
   ],
   "source": [
    "for i in sp:\n",
    "   \n",
    "    Specification.append(str(i.text).replace(\"\\n\",\"\"))\n",
    "Specification"
   ]
  },
  {
   "cell_type": "code",
   "execution_count": 226,
   "id": "4f798065",
   "metadata": {},
   "outputs": [
    {
     "data": {
      "text/plain": [
       "0"
      ]
     },
     "execution_count": 226,
     "metadata": {},
     "output_type": "execute_result"
    }
   ],
   "source": [
    "des=driver.find_elements(By.XPATH,\"//div[@class='Section-center']\")\n",
    "len(des)"
   ]
  },
  {
   "cell_type": "code",
   "execution_count": 227,
   "id": "01fbab99",
   "metadata": {},
   "outputs": [
    {
     "data": {
      "text/plain": [
       "[]"
      ]
     },
     "execution_count": 227,
     "metadata": {},
     "output_type": "execute_result"
    }
   ],
   "source": [
    "for i in des:\n",
    "   \n",
    "    Products_Description.append(str(i.text).replace(\"\\n\",\"\"))\n",
    "Products_Description"
   ]
  },
  {
   "cell_type": "code",
   "execution_count": 229,
   "id": "df77d58e",
   "metadata": {},
   "outputs": [
    {
     "data": {
      "text/plain": [
       "0"
      ]
     },
     "execution_count": 229,
     "metadata": {},
     "output_type": "execute_result"
    }
   ],
   "source": [
    "pri=driver.find_elements(By.XPATH,\"//td[@class='smprice']\")\n",
    "len(pri)"
   ]
  },
  {
   "cell_type": "code",
   "execution_count": 230,
   "id": "e6ac9013",
   "metadata": {},
   "outputs": [
    {
     "data": {
      "text/plain": [
       "[]"
      ]
     },
     "execution_count": 230,
     "metadata": {},
     "output_type": "execute_result"
    }
   ],
   "source": [
    "for i in pri:\n",
    "   \n",
    "    Price.append(str(i.text).replace(\"\\n\",\"\"))\n",
    "Price"
   ]
  },
  {
   "cell_type": "code",
   "execution_count": 231,
   "id": "f6eba517",
   "metadata": {},
   "outputs": [
    {
     "data": {
      "text/html": [
       "<div>\n",
       "<style scoped>\n",
       "    .dataframe tbody tr th:only-of-type {\n",
       "        vertical-align: middle;\n",
       "    }\n",
       "\n",
       "    .dataframe tbody tr th {\n",
       "        vertical-align: top;\n",
       "    }\n",
       "\n",
       "    .dataframe thead th {\n",
       "        text-align: right;\n",
       "    }\n",
       "</style>\n",
       "<table border=\"1\" class=\"dataframe\">\n",
       "  <thead>\n",
       "    <tr style=\"text-align: right;\">\n",
       "      <th></th>\n",
       "      <th>Brands</th>\n",
       "      <th>Price</th>\n",
       "      <th>Specification</th>\n",
       "      <th>Description</th>\n",
       "    </tr>\n",
       "  </thead>\n",
       "  <tbody>\n",
       "  </tbody>\n",
       "</table>\n",
       "</div>"
      ],
      "text/plain": [
       "Empty DataFrame\n",
       "Columns: [Brands, Price, Specification, Description]\n",
       "Index: []"
      ]
     },
     "execution_count": 231,
     "metadata": {},
     "output_type": "execute_result"
    }
   ],
   "source": [
    "digit_lap=pd.DataFrame([])\n",
    "digit_lap['Brands']=Brands[0:10]\n",
    "digit_lap['Price']=Price[0:10]\n",
    "digit_lap['Specification']=Specification[0:10]\n",
    "digit_lap['Description']=Products_Description[0:10]\n",
    "digit_lap"
   ]
  },
  {
   "cell_type": "markdown",
   "id": "35bee20e",
   "metadata": {},
   "source": [
    "Q7.Write a python program to scrape the details for all billionaires from www.forbes.com. Details to be scrapped:\n",
    "“Rank”, “Name”, “Net worth”, “Age”, “Citizenship”, “Source”, “Industry”. "
   ]
  },
  {
   "cell_type": "code",
   "execution_count": 277,
   "id": "1ac42006",
   "metadata": {},
   "outputs": [
    {
     "ename": "TimeoutException",
     "evalue": "Message: \nStacktrace:\n\tGetHandleVerifier [0x00891673+52979]\n\t(No symbol) [0x00817961]\n\t(No symbol) [0x006FDD3D]\n\t(No symbol) [0x00735FBB]\n\t(No symbol) [0x007360FB]\n\t(No symbol) [0x0076CF92]\n\t(No symbol) [0x00754534]\n\t(No symbol) [0x0076B3FE]\n\t(No symbol) [0x00754286]\n\t(No symbol) [0x0072C063]\n\t(No symbol) [0x0072CECD]\n\tGetHandleVerifier [0x00BA8D83+3294723]\n\tGetHandleVerifier [0x00BE6CC2+3548482]\n\tGetHandleVerifier [0x00BE1C9C+3527964]\n\tGetHandleVerifier [0x0092870E+671630]\n\t(No symbol) [0x00821EB4]\n\t(No symbol) [0x0081D808]\n\t(No symbol) [0x0081D92D]\n\t(No symbol) [0x0080F7E0]\n\tBaseThreadInitThunk [0x766800F9+25]\n\tRtlGetAppContainerNamedObjectPath [0x77767BBE+286]\n\tRtlGetAppContainerNamedObjectPath [0x77767B8E+238]\n",
     "output_type": "error",
     "traceback": [
      "\u001b[1;31m---------------------------------------------------------------------------\u001b[0m",
      "\u001b[1;31mTimeoutException\u001b[0m                          Traceback (most recent call last)",
      "\u001b[1;32m~\\AppData\\Local\\Temp\\ipykernel_10788\\1110170591.py\u001b[0m in \u001b[0;36m<module>\u001b[1;34m\u001b[0m\n\u001b[0;32m     13\u001b[0m \u001b[1;33m\u001b[0m\u001b[0m\n\u001b[0;32m     14\u001b[0m \u001b[1;31m# Wait for the page to load\u001b[0m\u001b[1;33m\u001b[0m\u001b[1;33m\u001b[0m\u001b[0m\n\u001b[1;32m---> 15\u001b[1;33m \u001b[0mWebDriverWait\u001b[0m\u001b[1;33m(\u001b[0m\u001b[0mdriver\u001b[0m\u001b[1;33m,\u001b[0m \u001b[1;36m2\u001b[0m\u001b[1;33m)\u001b[0m\u001b[1;33m.\u001b[0m\u001b[0muntil\u001b[0m\u001b[1;33m(\u001b[0m\u001b[0mEC\u001b[0m\u001b[1;33m.\u001b[0m\u001b[0mpresence_of_element_located\u001b[0m\u001b[1;33m(\u001b[0m\u001b[1;33m(\u001b[0m\u001b[0mBy\u001b[0m\u001b[1;33m.\u001b[0m\u001b[0mCLASS_NAME\u001b[0m\u001b[1;33m,\u001b[0m \u001b[1;34m\"data\"\u001b[0m\u001b[1;33m)\u001b[0m\u001b[1;33m)\u001b[0m\u001b[1;33m)\u001b[0m\u001b[1;33m\u001b[0m\u001b[1;33m\u001b[0m\u001b[0m\n\u001b[0m\u001b[0;32m     16\u001b[0m \u001b[1;33m\u001b[0m\u001b[0m\n\u001b[0;32m     17\u001b[0m \u001b[1;31m# Get data from each billionaire\u001b[0m\u001b[1;33m\u001b[0m\u001b[1;33m\u001b[0m\u001b[0m\n",
      "\u001b[1;32m~\\Downloads\\New folder\\lib\\site-packages\\selenium\\webdriver\\support\\wait.py\u001b[0m in \u001b[0;36muntil\u001b[1;34m(self, method, message)\u001b[0m\n\u001b[0;32m     93\u001b[0m             \u001b[1;32mif\u001b[0m \u001b[0mtime\u001b[0m\u001b[1;33m.\u001b[0m\u001b[0mmonotonic\u001b[0m\u001b[1;33m(\u001b[0m\u001b[1;33m)\u001b[0m \u001b[1;33m>\u001b[0m \u001b[0mend_time\u001b[0m\u001b[1;33m:\u001b[0m\u001b[1;33m\u001b[0m\u001b[1;33m\u001b[0m\u001b[0m\n\u001b[0;32m     94\u001b[0m                 \u001b[1;32mbreak\u001b[0m\u001b[1;33m\u001b[0m\u001b[1;33m\u001b[0m\u001b[0m\n\u001b[1;32m---> 95\u001b[1;33m         \u001b[1;32mraise\u001b[0m \u001b[0mTimeoutException\u001b[0m\u001b[1;33m(\u001b[0m\u001b[0mmessage\u001b[0m\u001b[1;33m,\u001b[0m \u001b[0mscreen\u001b[0m\u001b[1;33m,\u001b[0m \u001b[0mstacktrace\u001b[0m\u001b[1;33m)\u001b[0m\u001b[1;33m\u001b[0m\u001b[1;33m\u001b[0m\u001b[0m\n\u001b[0m\u001b[0;32m     96\u001b[0m \u001b[1;33m\u001b[0m\u001b[0m\n\u001b[0;32m     97\u001b[0m     \u001b[1;32mdef\u001b[0m \u001b[0muntil_not\u001b[0m\u001b[1;33m(\u001b[0m\u001b[0mself\u001b[0m\u001b[1;33m,\u001b[0m \u001b[0mmethod\u001b[0m\u001b[1;33m,\u001b[0m \u001b[0mmessage\u001b[0m\u001b[1;33m:\u001b[0m \u001b[0mstr\u001b[0m \u001b[1;33m=\u001b[0m \u001b[1;34m\"\"\u001b[0m\u001b[1;33m)\u001b[0m\u001b[1;33m:\u001b[0m\u001b[1;33m\u001b[0m\u001b[1;33m\u001b[0m\u001b[0m\n",
      "\u001b[1;31mTimeoutException\u001b[0m: Message: \nStacktrace:\n\tGetHandleVerifier [0x00891673+52979]\n\t(No symbol) [0x00817961]\n\t(No symbol) [0x006FDD3D]\n\t(No symbol) [0x00735FBB]\n\t(No symbol) [0x007360FB]\n\t(No symbol) [0x0076CF92]\n\t(No symbol) [0x00754534]\n\t(No symbol) [0x0076B3FE]\n\t(No symbol) [0x00754286]\n\t(No symbol) [0x0072C063]\n\t(No symbol) [0x0072CECD]\n\tGetHandleVerifier [0x00BA8D83+3294723]\n\tGetHandleVerifier [0x00BE6CC2+3548482]\n\tGetHandleVerifier [0x00BE1C9C+3527964]\n\tGetHandleVerifier [0x0092870E+671630]\n\t(No symbol) [0x00821EB4]\n\t(No symbol) [0x0081D808]\n\t(No symbol) [0x0081D92D]\n\t(No symbol) [0x0080F7E0]\n\tBaseThreadInitThunk [0x766800F9+25]\n\tRtlGetAppContainerNamedObjectPath [0x77767BBE+286]\n\tRtlGetAppContainerNamedObjectPath [0x77767B8E+238]\n"
     ]
    }
   ],
   "source": [
    "from selenium import webdriver\n",
    "from selenium.webdriver.common.by import By\n",
    "from selenium.webdriver.support.ui import WebDriverWait\n",
    "from selenium.common.exceptions import TimeoutException\n",
    "from selenium.webdriver.support import expected_conditions as EC\n",
    "\n",
    "\n",
    "driver = webdriver.Chrome()\n",
    "\n",
    "\n",
    "url = \"https://www.forbes.com/billionaires/\"\n",
    "driver.get(url)\n",
    "\n",
    "# Wait for the page to load\n",
    "WebDriverWait(driver, 2).until(EC.presence_of_element_located((By.CLASS_NAME, \"data\")))\n",
    "\n",
    "# Get data from each billionaire\n",
    "billionaires = driver.find_elements(By.CLASS_NAME,\"data\")\n",
    "\n",
    "for billionaire in billionaires:\n",
    "    rank = billionaire.find_element(By.CLASS_NAME,\"rank\").text\n",
    "    name = billionaire.find_element(By.CLASS_NAME,\"personName\").text\n",
    "    net_worth = billionaire.find_element(By.CLASS_NAME,\"netWorth\").text\n",
    "    age = billionaire.find_element(By.CLASS_NAME,\"age\").text\n",
    "    citizenship = billionaire.find_element(By.CLASS_NAME,\"countryOfCitizenship\").text\n",
    "    source = billionaire.find_element(By.CLASS_NAME,\"source\").text\n",
    "    industry = billionaire.find_element(By.CLASS_NAME,\"category\").text\n",
    "\n",
    "    # Print or store the data as needed\n",
    "    print(f\"Rank: {rank}\")\n",
    "    print(f\"Name: {name}\")\n",
    "    print(f\"Net Worth: {net_worth}\")\n",
    "    print(f\"Age: {age}\")\n",
    "    print(f\"Citizenship: {citizenship}\")\n",
    "    print(f\"Source: {source}\")\n",
    "    print(f\"Industry: {industry}\")\n",
    "    print(\"\\n\")\n",
    "\n",
    "# Close the webdriver\n",
    "driver.quit()\n"
   ]
  },
  {
   "cell_type": "markdown",
   "id": "8a629e9c",
   "metadata": {},
   "source": [
    "Q:8.Write a program to extract at least 500 Comments, Comment upvote and time when comment was posted\n",
    "from any YouTube Video. "
   ]
  },
  {
   "cell_type": "code",
   "execution_count": 232,
   "id": "ed6d34d5",
   "metadata": {},
   "outputs": [],
   "source": [
    "driver=webdriver.Chrome()"
   ]
  },
  {
   "cell_type": "code",
   "execution_count": 234,
   "id": "9d4e3948",
   "metadata": {},
   "outputs": [],
   "source": [
    "driver.get('https://www.youtube.com/watch?v=9cfyLNH2SGk&list=RD9cfyLNH2SGk&start_radio=1')"
   ]
  },
  {
   "cell_type": "code",
   "execution_count": 235,
   "id": "7f4f2577",
   "metadata": {},
   "outputs": [],
   "source": [
    "scroll_pause_time = 2 "
   ]
  },
  {
   "cell_type": "code",
   "execution_count": 236,
   "id": "678d3be4",
   "metadata": {},
   "outputs": [],
   "source": [
    "scrolls = 10"
   ]
  },
  {
   "cell_type": "code",
   "execution_count": 237,
   "id": "00df58b4",
   "metadata": {},
   "outputs": [],
   "source": [
    "for _ in range(scrolls):\n",
    "    driver.execute_script(\"window.scrollTo(0, document.documentElement.scrollHeight);\")\n",
    "    time.sleep(scroll_pause_time)"
   ]
  },
  {
   "cell_type": "code",
   "execution_count": 239,
   "id": "e2f470e1",
   "metadata": {},
   "outputs": [],
   "source": [
    "comments = driver.find_elements(By.XPATH,'//yt-formatted-string[@id=\"content-text\"]')\n",
    "upvotes = driver.find_elements(By.XPATH,'//span[@id=\"vote-count-middle\"]')\n",
    "times = driver.find_elements(By.XPATH,'//a[@class=\"yt-simple-endpoint style-scope yt-formatted-string\"]')\n"
   ]
  },
  {
   "cell_type": "code",
   "execution_count": 240,
   "id": "98c0b617",
   "metadata": {},
   "outputs": [],
   "source": [
    "extracted_data = []\n",
    "for comment, upvote, time in zip(comments, upvotes, times):\n",
    "    extracted_data.append({'comment': comment.text,'upvote': upvote.text,'time': time.text })"
   ]
  },
  {
   "cell_type": "code",
   "execution_count": 241,
   "id": "2e459795",
   "metadata": {},
   "outputs": [],
   "source": [
    "driver.quit()"
   ]
  },
  {
   "cell_type": "code",
   "execution_count": 242,
   "id": "43057dd3",
   "metadata": {},
   "outputs": [],
   "source": [
    "for data in extracted_data:\n",
    "    print(data)"
   ]
  },
  {
   "cell_type": "markdown",
   "id": "dcd6cc8a",
   "metadata": {},
   "source": [
    "Q:9. Write a python program to scrape a data for all available Hostels from https://www.hostelworld.com/ in\n",
    "“London” location. You have to scrape hostel name, distance from city centre, ratings, total reviews, overall\n",
    "reviews, privates from price, dorms from price, facilities and property description"
   ]
  },
  {
   "cell_type": "code",
   "execution_count": 274,
   "id": "f0565fe0",
   "metadata": {},
   "outputs": [
    {
     "ename": "NoSuchElementException",
     "evalue": "Message: no such element: Unable to locate element: {\"method\":\"css selector\",\"selector\":\"[id=\"home-search-keywords\"]\"}\n  (Session info: chrome=121.0.6167.161); For documentation on this error, please visit: https://www.selenium.dev/documentation/webdriver/troubleshooting/errors#no-such-element-exception\nStacktrace:\n\tGetHandleVerifier [0x00891673+52979]\n\t(No symbol) [0x00817961]\n\t(No symbol) [0x006FDD3D]\n\t(No symbol) [0x00735FBB]\n\t(No symbol) [0x007360FB]\n\t(No symbol) [0x0076CF92]\n\t(No symbol) [0x00754534]\n\t(No symbol) [0x0076B3FE]\n\t(No symbol) [0x00754286]\n\t(No symbol) [0x0072C063]\n\t(No symbol) [0x0072CECD]\n\tGetHandleVerifier [0x00BA8D83+3294723]\n\tGetHandleVerifier [0x00BE6CC2+3548482]\n\tGetHandleVerifier [0x00BE1C9C+3527964]\n\tGetHandleVerifier [0x0092870E+671630]\n\t(No symbol) [0x00821EB4]\n\t(No symbol) [0x0081D808]\n\t(No symbol) [0x0081D92D]\n\t(No symbol) [0x0080F7E0]\n\tBaseThreadInitThunk [0x766800F9+25]\n\tRtlGetAppContainerNamedObjectPath [0x77767BBE+286]\n\tRtlGetAppContainerNamedObjectPath [0x77767B8E+238]\n",
     "output_type": "error",
     "traceback": [
      "\u001b[1;31m---------------------------------------------------------------------------\u001b[0m",
      "\u001b[1;31mNoSuchElementException\u001b[0m                    Traceback (most recent call last)",
      "\u001b[1;32m~\\AppData\\Local\\Temp\\ipykernel_10788\\3020309797.py\u001b[0m in \u001b[0;36m<module>\u001b[1;34m\u001b[0m\n\u001b[0;32m     17\u001b[0m \u001b[1;33m\u001b[0m\u001b[0m\n\u001b[0;32m     18\u001b[0m \u001b[1;31m# Search for hostels in London\u001b[0m\u001b[1;33m\u001b[0m\u001b[1;33m\u001b[0m\u001b[0m\n\u001b[1;32m---> 19\u001b[1;33m \u001b[0msearch_box\u001b[0m \u001b[1;33m=\u001b[0m \u001b[0mdriver\u001b[0m\u001b[1;33m.\u001b[0m\u001b[0mfind_element\u001b[0m\u001b[1;33m(\u001b[0m\u001b[0mBy\u001b[0m\u001b[1;33m.\u001b[0m\u001b[0mID\u001b[0m\u001b[1;33m,\u001b[0m \u001b[1;34m\"home-search-keywords\"\u001b[0m\u001b[1;33m)\u001b[0m\u001b[1;33m\u001b[0m\u001b[1;33m\u001b[0m\u001b[0m\n\u001b[0m\u001b[0;32m     20\u001b[0m \u001b[0msearch_box\u001b[0m\u001b[1;33m.\u001b[0m\u001b[0msend_keys\u001b[0m\u001b[1;33m(\u001b[0m\u001b[1;34m\"London\"\u001b[0m\u001b[1;33m)\u001b[0m\u001b[1;33m\u001b[0m\u001b[1;33m\u001b[0m\u001b[0m\n\u001b[0;32m     21\u001b[0m \u001b[0msearch_box\u001b[0m\u001b[1;33m.\u001b[0m\u001b[0msubmit\u001b[0m\u001b[1;33m(\u001b[0m\u001b[1;33m)\u001b[0m\u001b[1;33m\u001b[0m\u001b[1;33m\u001b[0m\u001b[0m\n",
      "\u001b[1;32m~\\Downloads\\New folder\\lib\\site-packages\\selenium\\webdriver\\remote\\webdriver.py\u001b[0m in \u001b[0;36mfind_element\u001b[1;34m(self, by, value)\u001b[0m\n\u001b[0;32m    738\u001b[0m             \u001b[0mvalue\u001b[0m \u001b[1;33m=\u001b[0m \u001b[1;34mf'[name=\"{value}\"]'\u001b[0m\u001b[1;33m\u001b[0m\u001b[1;33m\u001b[0m\u001b[0m\n\u001b[0;32m    739\u001b[0m \u001b[1;33m\u001b[0m\u001b[0m\n\u001b[1;32m--> 740\u001b[1;33m         \u001b[1;32mreturn\u001b[0m \u001b[0mself\u001b[0m\u001b[1;33m.\u001b[0m\u001b[0mexecute\u001b[0m\u001b[1;33m(\u001b[0m\u001b[0mCommand\u001b[0m\u001b[1;33m.\u001b[0m\u001b[0mFIND_ELEMENT\u001b[0m\u001b[1;33m,\u001b[0m \u001b[1;33m{\u001b[0m\u001b[1;34m\"using\"\u001b[0m\u001b[1;33m:\u001b[0m \u001b[0mby\u001b[0m\u001b[1;33m,\u001b[0m \u001b[1;34m\"value\"\u001b[0m\u001b[1;33m:\u001b[0m \u001b[0mvalue\u001b[0m\u001b[1;33m}\u001b[0m\u001b[1;33m)\u001b[0m\u001b[1;33m[\u001b[0m\u001b[1;34m\"value\"\u001b[0m\u001b[1;33m]\u001b[0m\u001b[1;33m\u001b[0m\u001b[1;33m\u001b[0m\u001b[0m\n\u001b[0m\u001b[0;32m    741\u001b[0m \u001b[1;33m\u001b[0m\u001b[0m\n\u001b[0;32m    742\u001b[0m     \u001b[1;32mdef\u001b[0m \u001b[0mfind_elements\u001b[0m\u001b[1;33m(\u001b[0m\u001b[0mself\u001b[0m\u001b[1;33m,\u001b[0m \u001b[0mby\u001b[0m\u001b[1;33m=\u001b[0m\u001b[0mBy\u001b[0m\u001b[1;33m.\u001b[0m\u001b[0mID\u001b[0m\u001b[1;33m,\u001b[0m \u001b[0mvalue\u001b[0m\u001b[1;33m:\u001b[0m \u001b[0mOptional\u001b[0m\u001b[1;33m[\u001b[0m\u001b[0mstr\u001b[0m\u001b[1;33m]\u001b[0m \u001b[1;33m=\u001b[0m \u001b[1;32mNone\u001b[0m\u001b[1;33m)\u001b[0m \u001b[1;33m->\u001b[0m \u001b[0mList\u001b[0m\u001b[1;33m[\u001b[0m\u001b[0mWebElement\u001b[0m\u001b[1;33m]\u001b[0m\u001b[1;33m:\u001b[0m\u001b[1;33m\u001b[0m\u001b[1;33m\u001b[0m\u001b[0m\n",
      "\u001b[1;32m~\\Downloads\\New folder\\lib\\site-packages\\selenium\\webdriver\\remote\\webdriver.py\u001b[0m in \u001b[0;36mexecute\u001b[1;34m(self, driver_command, params)\u001b[0m\n\u001b[0;32m    344\u001b[0m         \u001b[0mresponse\u001b[0m \u001b[1;33m=\u001b[0m \u001b[0mself\u001b[0m\u001b[1;33m.\u001b[0m\u001b[0mcommand_executor\u001b[0m\u001b[1;33m.\u001b[0m\u001b[0mexecute\u001b[0m\u001b[1;33m(\u001b[0m\u001b[0mdriver_command\u001b[0m\u001b[1;33m,\u001b[0m \u001b[0mparams\u001b[0m\u001b[1;33m)\u001b[0m\u001b[1;33m\u001b[0m\u001b[1;33m\u001b[0m\u001b[0m\n\u001b[0;32m    345\u001b[0m         \u001b[1;32mif\u001b[0m \u001b[0mresponse\u001b[0m\u001b[1;33m:\u001b[0m\u001b[1;33m\u001b[0m\u001b[1;33m\u001b[0m\u001b[0m\n\u001b[1;32m--> 346\u001b[1;33m             \u001b[0mself\u001b[0m\u001b[1;33m.\u001b[0m\u001b[0merror_handler\u001b[0m\u001b[1;33m.\u001b[0m\u001b[0mcheck_response\u001b[0m\u001b[1;33m(\u001b[0m\u001b[0mresponse\u001b[0m\u001b[1;33m)\u001b[0m\u001b[1;33m\u001b[0m\u001b[1;33m\u001b[0m\u001b[0m\n\u001b[0m\u001b[0;32m    347\u001b[0m             \u001b[0mresponse\u001b[0m\u001b[1;33m[\u001b[0m\u001b[1;34m\"value\"\u001b[0m\u001b[1;33m]\u001b[0m \u001b[1;33m=\u001b[0m \u001b[0mself\u001b[0m\u001b[1;33m.\u001b[0m\u001b[0m_unwrap_value\u001b[0m\u001b[1;33m(\u001b[0m\u001b[0mresponse\u001b[0m\u001b[1;33m.\u001b[0m\u001b[0mget\u001b[0m\u001b[1;33m(\u001b[0m\u001b[1;34m\"value\"\u001b[0m\u001b[1;33m,\u001b[0m \u001b[1;32mNone\u001b[0m\u001b[1;33m)\u001b[0m\u001b[1;33m)\u001b[0m\u001b[1;33m\u001b[0m\u001b[1;33m\u001b[0m\u001b[0m\n\u001b[0;32m    348\u001b[0m             \u001b[1;32mreturn\u001b[0m \u001b[0mresponse\u001b[0m\u001b[1;33m\u001b[0m\u001b[1;33m\u001b[0m\u001b[0m\n",
      "\u001b[1;32m~\\Downloads\\New folder\\lib\\site-packages\\selenium\\webdriver\\remote\\errorhandler.py\u001b[0m in \u001b[0;36mcheck_response\u001b[1;34m(self, response)\u001b[0m\n\u001b[0;32m    243\u001b[0m                 \u001b[0malert_text\u001b[0m \u001b[1;33m=\u001b[0m \u001b[0mvalue\u001b[0m\u001b[1;33m[\u001b[0m\u001b[1;34m\"alert\"\u001b[0m\u001b[1;33m]\u001b[0m\u001b[1;33m.\u001b[0m\u001b[0mget\u001b[0m\u001b[1;33m(\u001b[0m\u001b[1;34m\"text\"\u001b[0m\u001b[1;33m)\u001b[0m\u001b[1;33m\u001b[0m\u001b[1;33m\u001b[0m\u001b[0m\n\u001b[0;32m    244\u001b[0m             \u001b[1;32mraise\u001b[0m \u001b[0mexception_class\u001b[0m\u001b[1;33m(\u001b[0m\u001b[0mmessage\u001b[0m\u001b[1;33m,\u001b[0m \u001b[0mscreen\u001b[0m\u001b[1;33m,\u001b[0m \u001b[0mstacktrace\u001b[0m\u001b[1;33m,\u001b[0m \u001b[0malert_text\u001b[0m\u001b[1;33m)\u001b[0m  \u001b[1;31m# type: ignore[call-arg]  # mypy is not smart enough here\u001b[0m\u001b[1;33m\u001b[0m\u001b[1;33m\u001b[0m\u001b[0m\n\u001b[1;32m--> 245\u001b[1;33m         \u001b[1;32mraise\u001b[0m \u001b[0mexception_class\u001b[0m\u001b[1;33m(\u001b[0m\u001b[0mmessage\u001b[0m\u001b[1;33m,\u001b[0m \u001b[0mscreen\u001b[0m\u001b[1;33m,\u001b[0m \u001b[0mstacktrace\u001b[0m\u001b[1;33m)\u001b[0m\u001b[1;33m\u001b[0m\u001b[1;33m\u001b[0m\u001b[0m\n\u001b[0m",
      "\u001b[1;31mNoSuchElementException\u001b[0m: Message: no such element: Unable to locate element: {\"method\":\"css selector\",\"selector\":\"[id=\"home-search-keywords\"]\"}\n  (Session info: chrome=121.0.6167.161); For documentation on this error, please visit: https://www.selenium.dev/documentation/webdriver/troubleshooting/errors#no-such-element-exception\nStacktrace:\n\tGetHandleVerifier [0x00891673+52979]\n\t(No symbol) [0x00817961]\n\t(No symbol) [0x006FDD3D]\n\t(No symbol) [0x00735FBB]\n\t(No symbol) [0x007360FB]\n\t(No symbol) [0x0076CF92]\n\t(No symbol) [0x00754534]\n\t(No symbol) [0x0076B3FE]\n\t(No symbol) [0x00754286]\n\t(No symbol) [0x0072C063]\n\t(No symbol) [0x0072CECD]\n\tGetHandleVerifier [0x00BA8D83+3294723]\n\tGetHandleVerifier [0x00BE6CC2+3548482]\n\tGetHandleVerifier [0x00BE1C9C+3527964]\n\tGetHandleVerifier [0x0092870E+671630]\n\t(No symbol) [0x00821EB4]\n\t(No symbol) [0x0081D808]\n\t(No symbol) [0x0081D92D]\n\t(No symbol) [0x0080F7E0]\n\tBaseThreadInitThunk [0x766800F9+25]\n\tRtlGetAppContainerNamedObjectPath [0x77767BBE+286]\n\tRtlGetAppContainerNamedObjectPath [0x77767B8E+238]\n"
     ]
    }
   ],
   "source": [
    "from selenium import webdriver\n",
    "from selenium.webdriver.common.by import By\n",
    "from selenium.webdriver.common.keys import Keys\n",
    "from selenium.common.exceptions import StaleElementReferenceException \n",
    "from selenium.common.exceptions import NoSuchElementException\n",
    "from selenium.common.exceptions import TimeoutException\n",
    "from selenium.webdriver.support.ui import WebDriverWait\n",
    "from selenium.webdriver.support import expected_conditions as EC\n",
    "\n",
    "\n",
    "driver = webdriver.Chrome()\n",
    "\n",
    "\n",
    "url = \"https://www.hostelworld.com/\"\n",
    "driver.get(url)\n",
    "\n",
    "\n",
    "search_box = driver.find_element(By.ID, \"home-search-keywords\")\n",
    "search_box.send_keys(\"London\")\n",
    "search_box.submit()\n",
    "\n",
    "WebDriverWait(driver, 10).until(EC.presence_of_element_located((By.CLASS_NAME, \"property-card\")))\n",
    "\n",
    "hostels = driver.find_elements(By.CLASS_NAME,\"property-card\")\n",
    "\n",
    "for hostel in hostels:\n",
    "    name = hostel.find_element(By.CLASS_NAME,\"property-card-title\").text\n",
    "    distance = hostel.find_element(By.CLASS_NAME,\"property-card-latitude\").text\n",
    "    rating = hostel.find_element(By.CLASS_NAME,\"score\").text\n",
    "    total_reviews = hostel.find_element(By.CLASS_NAME,\"reviews\").text\n",
    "    privates_price = hostel.find_element(By.CLASS_NAME,\"price\").text\n",
    "    dorms_price = hostel.find_element(By.CLASS_NAME,\"price\").text\n",
    "    facilities = ', '.join([elem.text for elem in hostel.find_elements(By.CLASS_NAME,\"facilities\")])\n",
    "    description = hostel.find_element(By.CLASS_NAME,\"property-card-text\").text\n",
    "\n",
    "    print(f\"Name: {name}\")\n",
    "    print(f\"Distance: {distance}\")\n",
    "    print(f\"Rating: {rating}\")\n",
    "    print(f\"Total Reviews: {total_reviews}\")\n",
    "    print(f\"Privates from Price: {privates_price}\")\n",
    "    print(f\"Dorms from Price: {dorms_price}\")\n",
    "    print(f\"Facilities: {facilities}\")\n",
    "    print(f\"Description: {description}\")\n",
    "    print(\"\\n\")\n",
    "\n",
    "driver.quit()\n"
   ]
  },
  {
   "cell_type": "code",
   "execution_count": null,
   "id": "c560594b",
   "metadata": {},
   "outputs": [],
   "source": []
  }
 ],
 "metadata": {
  "kernelspec": {
   "display_name": "Python 3 (ipykernel)",
   "language": "python",
   "name": "python3"
  },
  "language_info": {
   "codemirror_mode": {
    "name": "ipython",
    "version": 3
   },
   "file_extension": ".py",
   "mimetype": "text/x-python",
   "name": "python",
   "nbconvert_exporter": "python",
   "pygments_lexer": "ipython3",
   "version": "3.9.13"
  }
 },
 "nbformat": 4,
 "nbformat_minor": 5
}
