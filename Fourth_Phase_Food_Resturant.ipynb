{
 "cells": [
  {
   "cell_type": "code",
   "execution_count": 1,
   "id": "622637ab",
   "metadata": {},
   "outputs": [],
   "source": [
    "import pandas as pd\n",
    "import numpy as np\n",
    "import matplotlib.pyplot as plt\n",
    "import seaborn as sns\n",
    "import warnings\n",
    "warnings.filterwarnings(\"ignore\")"
   ]
  },
  {
   "cell_type": "code",
   "execution_count": 11,
   "id": "fb97b699",
   "metadata": {},
   "outputs": [],
   "source": [
    "train = pd.read_excel('Data_Train.xlsx')\n",
    "\n"
   ]
  },
  {
   "cell_type": "code",
   "execution_count": 12,
   "id": "0abdea0b",
   "metadata": {},
   "outputs": [
    {
     "data": {
      "text/html": [
       "<div>\n",
       "<style scoped>\n",
       "    .dataframe tbody tr th:only-of-type {\n",
       "        vertical-align: middle;\n",
       "    }\n",
       "\n",
       "    .dataframe tbody tr th {\n",
       "        vertical-align: top;\n",
       "    }\n",
       "\n",
       "    .dataframe thead th {\n",
       "        text-align: right;\n",
       "    }\n",
       "</style>\n",
       "<table border=\"1\" class=\"dataframe\">\n",
       "  <thead>\n",
       "    <tr style=\"text-align: right;\">\n",
       "      <th></th>\n",
       "      <th>TITLE</th>\n",
       "      <th>RESTAURANT_ID</th>\n",
       "      <th>CUISINES</th>\n",
       "      <th>TIME</th>\n",
       "      <th>CITY</th>\n",
       "      <th>LOCALITY</th>\n",
       "      <th>RATING</th>\n",
       "      <th>VOTES</th>\n",
       "      <th>COST</th>\n",
       "    </tr>\n",
       "  </thead>\n",
       "  <tbody>\n",
       "    <tr>\n",
       "      <th>0</th>\n",
       "      <td>CASUAL DINING</td>\n",
       "      <td>9438</td>\n",
       "      <td>Malwani, Goan, North Indian</td>\n",
       "      <td>11am – 4pm, 7:30pm – 11:30pm (Mon-Sun)</td>\n",
       "      <td>Thane</td>\n",
       "      <td>Dombivali East</td>\n",
       "      <td>3.6</td>\n",
       "      <td>49 votes</td>\n",
       "      <td>1200</td>\n",
       "    </tr>\n",
       "    <tr>\n",
       "      <th>1</th>\n",
       "      <td>CASUAL DINING,BAR</td>\n",
       "      <td>13198</td>\n",
       "      <td>Asian, Modern Indian, Japanese</td>\n",
       "      <td>6pm – 11pm (Mon-Sun)</td>\n",
       "      <td>Chennai</td>\n",
       "      <td>Ramapuram</td>\n",
       "      <td>4.2</td>\n",
       "      <td>30 votes</td>\n",
       "      <td>1500</td>\n",
       "    </tr>\n",
       "    <tr>\n",
       "      <th>2</th>\n",
       "      <td>CASUAL DINING</td>\n",
       "      <td>10915</td>\n",
       "      <td>North Indian, Chinese, Biryani, Hyderabadi</td>\n",
       "      <td>11am – 3:30pm, 7pm – 11pm (Mon-Sun)</td>\n",
       "      <td>Chennai</td>\n",
       "      <td>Saligramam</td>\n",
       "      <td>3.8</td>\n",
       "      <td>221 votes</td>\n",
       "      <td>800</td>\n",
       "    </tr>\n",
       "    <tr>\n",
       "      <th>3</th>\n",
       "      <td>QUICK BITES</td>\n",
       "      <td>6346</td>\n",
       "      <td>Tibetan, Chinese</td>\n",
       "      <td>11:30am – 1am (Mon-Sun)</td>\n",
       "      <td>Mumbai</td>\n",
       "      <td>Bandra West</td>\n",
       "      <td>4.1</td>\n",
       "      <td>24 votes</td>\n",
       "      <td>800</td>\n",
       "    </tr>\n",
       "    <tr>\n",
       "      <th>4</th>\n",
       "      <td>DESSERT PARLOR</td>\n",
       "      <td>15387</td>\n",
       "      <td>Desserts</td>\n",
       "      <td>11am – 1am (Mon-Sun)</td>\n",
       "      <td>Mumbai</td>\n",
       "      <td>Lower Parel</td>\n",
       "      <td>3.8</td>\n",
       "      <td>165 votes</td>\n",
       "      <td>300</td>\n",
       "    </tr>\n",
       "    <tr>\n",
       "      <th>...</th>\n",
       "      <td>...</td>\n",
       "      <td>...</td>\n",
       "      <td>...</td>\n",
       "      <td>...</td>\n",
       "      <td>...</td>\n",
       "      <td>...</td>\n",
       "      <td>...</td>\n",
       "      <td>...</td>\n",
       "      <td>...</td>\n",
       "    </tr>\n",
       "    <tr>\n",
       "      <th>12685</th>\n",
       "      <td>QUICK BITES</td>\n",
       "      <td>13228</td>\n",
       "      <td>North Indian, Burger, Kebab</td>\n",
       "      <td>12noon – 12midnight (Mon, Tue, Wed, Thu, Sun)...</td>\n",
       "      <td>Hyderabad</td>\n",
       "      <td>Gachibowli</td>\n",
       "      <td>3.8</td>\n",
       "      <td>546 votes</td>\n",
       "      <td>500</td>\n",
       "    </tr>\n",
       "    <tr>\n",
       "      <th>12686</th>\n",
       "      <td>CASUAL DINING,BAR</td>\n",
       "      <td>9686</td>\n",
       "      <td>Goan, Continental</td>\n",
       "      <td>12noon – 1am (Mon-Fri),11am – 5pm, 7pm – 1am...</td>\n",
       "      <td>Mumbai</td>\n",
       "      <td>Bandra Kurla Complex</td>\n",
       "      <td>4.3</td>\n",
       "      <td>1214 votes</td>\n",
       "      <td>1800</td>\n",
       "    </tr>\n",
       "    <tr>\n",
       "      <th>12687</th>\n",
       "      <td>LOUNGE</td>\n",
       "      <td>11133</td>\n",
       "      <td>Finger Food, Continental, Asian, Chinese</td>\n",
       "      <td>12noon – 12:30AM (Mon-Sun)</td>\n",
       "      <td>Navi Mumbai</td>\n",
       "      <td>Vashi</td>\n",
       "      <td>4.0</td>\n",
       "      <td>608 votes</td>\n",
       "      <td>1300</td>\n",
       "    </tr>\n",
       "    <tr>\n",
       "      <th>12688</th>\n",
       "      <td>CASUAL DINING</td>\n",
       "      <td>6134</td>\n",
       "      <td>North Indian, South Indian, Chinese, Street Food</td>\n",
       "      <td>6am – 10:45pm (Mon-Sun)</td>\n",
       "      <td>Chennai</td>\n",
       "      <td>Maduravoyal</td>\n",
       "      <td>3.5</td>\n",
       "      <td>32 votes</td>\n",
       "      <td>400</td>\n",
       "    </tr>\n",
       "    <tr>\n",
       "      <th>12689</th>\n",
       "      <td>CASUAL DINING</td>\n",
       "      <td>6430</td>\n",
       "      <td>North Indian, Chinese</td>\n",
       "      <td>12:30pm – 11pm (Mon-Sun)</td>\n",
       "      <td>Hyderabad</td>\n",
       "      <td>Vanasthalipuram</td>\n",
       "      <td>3.4</td>\n",
       "      <td>677 votes</td>\n",
       "      <td>600</td>\n",
       "    </tr>\n",
       "  </tbody>\n",
       "</table>\n",
       "<p>12690 rows × 9 columns</p>\n",
       "</div>"
      ],
      "text/plain": [
       "                   TITLE  RESTAURANT_ID  \\\n",
       "0          CASUAL DINING           9438   \n",
       "1      CASUAL DINING,BAR          13198   \n",
       "2          CASUAL DINING          10915   \n",
       "3            QUICK BITES           6346   \n",
       "4         DESSERT PARLOR          15387   \n",
       "...                  ...            ...   \n",
       "12685        QUICK BITES          13228   \n",
       "12686  CASUAL DINING,BAR           9686   \n",
       "12687             LOUNGE          11133   \n",
       "12688      CASUAL DINING           6134   \n",
       "12689      CASUAL DINING           6430   \n",
       "\n",
       "                                               CUISINES  \\\n",
       "0                           Malwani, Goan, North Indian   \n",
       "1                        Asian, Modern Indian, Japanese   \n",
       "2            North Indian, Chinese, Biryani, Hyderabadi   \n",
       "3                                      Tibetan, Chinese   \n",
       "4                                              Desserts   \n",
       "...                                                 ...   \n",
       "12685                       North Indian, Burger, Kebab   \n",
       "12686                                 Goan, Continental   \n",
       "12687          Finger Food, Continental, Asian, Chinese   \n",
       "12688  North Indian, South Indian, Chinese, Street Food   \n",
       "12689                             North Indian, Chinese   \n",
       "\n",
       "                                                   TIME         CITY  \\\n",
       "0                11am – 4pm, 7:30pm – 11:30pm (Mon-Sun)        Thane   \n",
       "1                                  6pm – 11pm (Mon-Sun)      Chennai   \n",
       "2                   11am – 3:30pm, 7pm – 11pm (Mon-Sun)      Chennai   \n",
       "3                               11:30am – 1am (Mon-Sun)       Mumbai   \n",
       "4                                  11am – 1am (Mon-Sun)       Mumbai   \n",
       "...                                                 ...          ...   \n",
       "12685  12noon – 12midnight (Mon, Tue, Wed, Thu, Sun)...    Hyderabad   \n",
       "12686   12noon – 1am (Mon-Fri),11am – 5pm, 7pm – 1am...       Mumbai   \n",
       "12687                        12noon – 12:30AM (Mon-Sun)  Navi Mumbai   \n",
       "12688                           6am – 10:45pm (Mon-Sun)      Chennai   \n",
       "12689                          12:30pm – 11pm (Mon-Sun)    Hyderabad   \n",
       "\n",
       "                   LOCALITY RATING       VOTES  COST  \n",
       "0            Dombivali East    3.6    49 votes  1200  \n",
       "1                 Ramapuram    4.2    30 votes  1500  \n",
       "2                Saligramam    3.8   221 votes   800  \n",
       "3               Bandra West    4.1    24 votes   800  \n",
       "4               Lower Parel    3.8   165 votes   300  \n",
       "...                     ...    ...         ...   ...  \n",
       "12685            Gachibowli    3.8   546 votes   500  \n",
       "12686  Bandra Kurla Complex    4.3  1214 votes  1800  \n",
       "12687                 Vashi    4.0   608 votes  1300  \n",
       "12688           Maduravoyal    3.5    32 votes   400  \n",
       "12689       Vanasthalipuram    3.4   677 votes   600  \n",
       "\n",
       "[12690 rows x 9 columns]"
      ]
     },
     "execution_count": 12,
     "metadata": {},
     "output_type": "execute_result"
    }
   ],
   "source": [
    "train"
   ]
  },
  {
   "cell_type": "raw",
   "id": "95975d8e",
   "metadata": {},
   "source": [
    "test = pd.read_excel('Data_Test.xlsx')"
   ]
  },
  {
   "cell_type": "code",
   "execution_count": 16,
   "id": "4fcf7a8b",
   "metadata": {},
   "outputs": [
    {
     "data": {
      "text/html": [
       "<div>\n",
       "<style scoped>\n",
       "    .dataframe tbody tr th:only-of-type {\n",
       "        vertical-align: middle;\n",
       "    }\n",
       "\n",
       "    .dataframe tbody tr th {\n",
       "        vertical-align: top;\n",
       "    }\n",
       "\n",
       "    .dataframe thead th {\n",
       "        text-align: right;\n",
       "    }\n",
       "</style>\n",
       "<table border=\"1\" class=\"dataframe\">\n",
       "  <thead>\n",
       "    <tr style=\"text-align: right;\">\n",
       "      <th></th>\n",
       "      <th>TITLE</th>\n",
       "      <th>RESTAURANT_ID</th>\n",
       "      <th>CUISINES</th>\n",
       "      <th>TIME</th>\n",
       "      <th>CITY</th>\n",
       "      <th>LOCALITY</th>\n",
       "      <th>RATING</th>\n",
       "      <th>VOTES</th>\n",
       "    </tr>\n",
       "  </thead>\n",
       "  <tbody>\n",
       "    <tr>\n",
       "      <th>0</th>\n",
       "      <td>CASUAL DINING</td>\n",
       "      <td>4085</td>\n",
       "      <td>North Indian, Chinese, Mughlai, Kebab</td>\n",
       "      <td>12noon – 12midnight (Mon-Sun)</td>\n",
       "      <td>Noida</td>\n",
       "      <td>Sector 18</td>\n",
       "      <td>4.3</td>\n",
       "      <td>564 votes</td>\n",
       "    </tr>\n",
       "    <tr>\n",
       "      <th>1</th>\n",
       "      <td>QUICK BITES</td>\n",
       "      <td>12680</td>\n",
       "      <td>South Indian, Fast Food, Pizza, North Indian</td>\n",
       "      <td>7am – 12:30AM (Mon-Sun)</td>\n",
       "      <td>Mumbai</td>\n",
       "      <td>Grant Road</td>\n",
       "      <td>4.2</td>\n",
       "      <td>61 votes</td>\n",
       "    </tr>\n",
       "    <tr>\n",
       "      <th>2</th>\n",
       "      <td>CASUAL DINING</td>\n",
       "      <td>1411</td>\n",
       "      <td>North Indian, Seafood, Biryani, Chinese</td>\n",
       "      <td>11am – 11:30pm (Mon-Sun)</td>\n",
       "      <td>Mumbai</td>\n",
       "      <td>Marine Lines</td>\n",
       "      <td>3.8</td>\n",
       "      <td>350 votes</td>\n",
       "    </tr>\n",
       "    <tr>\n",
       "      <th>3</th>\n",
       "      <td>None</td>\n",
       "      <td>204</td>\n",
       "      <td>Biryani</td>\n",
       "      <td>9am – 10pm (Mon, Wed, Thu, Fri, Sat, Sun), 10:...</td>\n",
       "      <td>Faridabad</td>\n",
       "      <td>NIT</td>\n",
       "      <td>3.8</td>\n",
       "      <td>1445 votes</td>\n",
       "    </tr>\n",
       "    <tr>\n",
       "      <th>4</th>\n",
       "      <td>QUICK BITES</td>\n",
       "      <td>13453</td>\n",
       "      <td>South Indian, Kerala</td>\n",
       "      <td>11am – 10pm (Mon-Sun)</td>\n",
       "      <td>Kochi</td>\n",
       "      <td>Kaloor</td>\n",
       "      <td>3.6</td>\n",
       "      <td>23 votes</td>\n",
       "    </tr>\n",
       "    <tr>\n",
       "      <th>...</th>\n",
       "      <td>...</td>\n",
       "      <td>...</td>\n",
       "      <td>...</td>\n",
       "      <td>...</td>\n",
       "      <td>...</td>\n",
       "      <td>...</td>\n",
       "      <td>...</td>\n",
       "      <td>...</td>\n",
       "    </tr>\n",
       "    <tr>\n",
       "      <th>4226</th>\n",
       "      <td>CASUAL DINING</td>\n",
       "      <td>9057</td>\n",
       "      <td>North Indian, Mughlai, Chinese</td>\n",
       "      <td>11:30am – 11:30pm (Mon-Sun)</td>\n",
       "      <td>New Delhi</td>\n",
       "      <td>Punjabi Bagh</td>\n",
       "      <td>3.9</td>\n",
       "      <td>287 votes</td>\n",
       "    </tr>\n",
       "    <tr>\n",
       "      <th>4227</th>\n",
       "      <td>None</td>\n",
       "      <td>1247</td>\n",
       "      <td>Biryani, North Indian, Sandwich, Salad, Wraps</td>\n",
       "      <td>11am – 1am (Mon-Sun)</td>\n",
       "      <td>Bangalore</td>\n",
       "      <td>HSR Layout</td>\n",
       "      <td>4.3</td>\n",
       "      <td>469 votes</td>\n",
       "    </tr>\n",
       "    <tr>\n",
       "      <th>4228</th>\n",
       "      <td>QUICK BITES</td>\n",
       "      <td>8617</td>\n",
       "      <td>Continental, North Indian</td>\n",
       "      <td>9:30am – 10:30pm (Mon-Sun)</td>\n",
       "      <td>Faridabad</td>\n",
       "      <td>Sector 86</td>\n",
       "      <td>3.7</td>\n",
       "      <td>53 votes</td>\n",
       "    </tr>\n",
       "    <tr>\n",
       "      <th>4229</th>\n",
       "      <td>QUICK BITES</td>\n",
       "      <td>6485</td>\n",
       "      <td>Rolls, Beverages</td>\n",
       "      <td>11am – 11:30pm (Mon, Tue, Wed, Thu, Sat, Sun),...</td>\n",
       "      <td>Kochi</td>\n",
       "      <td>Kochi</td>\n",
       "      <td>-</td>\n",
       "      <td>NaN</td>\n",
       "    </tr>\n",
       "    <tr>\n",
       "      <th>4230</th>\n",
       "      <td>QUICK BITES</td>\n",
       "      <td>2421</td>\n",
       "      <td>Mughlai</td>\n",
       "      <td>5pm – 1am (Mon-Sun)</td>\n",
       "      <td>Bandra West</td>\n",
       "      <td>Perry Cross Road</td>\n",
       "      <td>3.7</td>\n",
       "      <td>63 votes</td>\n",
       "    </tr>\n",
       "  </tbody>\n",
       "</table>\n",
       "<p>4231 rows × 8 columns</p>\n",
       "</div>"
      ],
      "text/plain": [
       "              TITLE  RESTAURANT_ID  \\\n",
       "0     CASUAL DINING           4085   \n",
       "1       QUICK BITES          12680   \n",
       "2     CASUAL DINING           1411   \n",
       "3              None            204   \n",
       "4       QUICK BITES          13453   \n",
       "...             ...            ...   \n",
       "4226  CASUAL DINING           9057   \n",
       "4227           None           1247   \n",
       "4228    QUICK BITES           8617   \n",
       "4229    QUICK BITES           6485   \n",
       "4230    QUICK BITES           2421   \n",
       "\n",
       "                                           CUISINES  \\\n",
       "0             North Indian, Chinese, Mughlai, Kebab   \n",
       "1      South Indian, Fast Food, Pizza, North Indian   \n",
       "2           North Indian, Seafood, Biryani, Chinese   \n",
       "3                                           Biryani   \n",
       "4                              South Indian, Kerala   \n",
       "...                                             ...   \n",
       "4226                 North Indian, Mughlai, Chinese   \n",
       "4227  Biryani, North Indian, Sandwich, Salad, Wraps   \n",
       "4228                      Continental, North Indian   \n",
       "4229                               Rolls, Beverages   \n",
       "4230                                        Mughlai   \n",
       "\n",
       "                                                   TIME         CITY  \\\n",
       "0                         12noon – 12midnight (Mon-Sun)        Noida   \n",
       "1                               7am – 12:30AM (Mon-Sun)       Mumbai   \n",
       "2                              11am – 11:30pm (Mon-Sun)       Mumbai   \n",
       "3     9am – 10pm (Mon, Wed, Thu, Fri, Sat, Sun), 10:...    Faridabad   \n",
       "4                                 11am – 10pm (Mon-Sun)        Kochi   \n",
       "...                                                 ...          ...   \n",
       "4226                        11:30am – 11:30pm (Mon-Sun)    New Delhi   \n",
       "4227                               11am – 1am (Mon-Sun)    Bangalore   \n",
       "4228                         9:30am – 10:30pm (Mon-Sun)    Faridabad   \n",
       "4229  11am – 11:30pm (Mon, Tue, Wed, Thu, Sat, Sun),...        Kochi   \n",
       "4230                                5pm – 1am (Mon-Sun)  Bandra West   \n",
       "\n",
       "              LOCALITY RATING       VOTES  \n",
       "0            Sector 18    4.3   564 votes  \n",
       "1           Grant Road    4.2    61 votes  \n",
       "2         Marine Lines    3.8   350 votes  \n",
       "3                  NIT    3.8  1445 votes  \n",
       "4               Kaloor    3.6    23 votes  \n",
       "...                ...    ...         ...  \n",
       "4226      Punjabi Bagh    3.9   287 votes  \n",
       "4227        HSR Layout    4.3   469 votes  \n",
       "4228         Sector 86    3.7    53 votes  \n",
       "4229             Kochi      -         NaN  \n",
       "4230  Perry Cross Road    3.7    63 votes  \n",
       "\n",
       "[4231 rows x 8 columns]"
      ]
     },
     "execution_count": 16,
     "metadata": {},
     "output_type": "execute_result"
    }
   ],
   "source": [
    "test"
   ]
  },
  {
   "cell_type": "code",
   "execution_count": 18,
   "id": "e58a0a04",
   "metadata": {},
   "outputs": [],
   "source": [
    "a = np.log(train['COST'])"
   ]
  },
  {
   "cell_type": "code",
   "execution_count": 19,
   "id": "3506b428",
   "metadata": {},
   "outputs": [
    {
     "name": "stdout",
     "output_type": "stream",
     "text": [
      "<class 'pandas.core.frame.DataFrame'>\n",
      "RangeIndex: 12690 entries, 0 to 12689\n",
      "Data columns (total 9 columns):\n",
      " #   Column         Non-Null Count  Dtype \n",
      "---  ------         --------------  ----- \n",
      " 0   TITLE          12690 non-null  object\n",
      " 1   RESTAURANT_ID  12690 non-null  int64 \n",
      " 2   CUISINES       12690 non-null  object\n",
      " 3   TIME           12690 non-null  object\n",
      " 4   CITY           12578 non-null  object\n",
      " 5   LOCALITY       12592 non-null  object\n",
      " 6   RATING         12688 non-null  object\n",
      " 7   VOTES          11486 non-null  object\n",
      " 8   COST           12690 non-null  int64 \n",
      "dtypes: int64(2), object(7)\n",
      "memory usage: 892.4+ KB\n"
     ]
    }
   ],
   "source": [
    "train.info()"
   ]
  },
  {
   "cell_type": "code",
   "execution_count": 20,
   "id": "78ad4e8e",
   "metadata": {},
   "outputs": [
    {
     "name": "stdout",
     "output_type": "stream",
     "text": [
      "<class 'pandas.core.frame.DataFrame'>\n",
      "RangeIndex: 4231 entries, 0 to 4230\n",
      "Data columns (total 8 columns):\n",
      " #   Column         Non-Null Count  Dtype \n",
      "---  ------         --------------  ----- \n",
      " 0   TITLE          4231 non-null   object\n",
      " 1   RESTAURANT_ID  4231 non-null   int64 \n",
      " 2   CUISINES       4231 non-null   object\n",
      " 3   TIME           4231 non-null   object\n",
      " 4   CITY           4196 non-null   object\n",
      " 5   LOCALITY       4201 non-null   object\n",
      " 6   RATING         4229 non-null   object\n",
      " 7   VOTES          3829 non-null   object\n",
      "dtypes: int64(1), object(7)\n",
      "memory usage: 264.6+ KB\n"
     ]
    }
   ],
   "source": [
    "test.info()"
   ]
  },
  {
   "cell_type": "code",
   "execution_count": 21,
   "id": "3c1cd6e6",
   "metadata": {},
   "outputs": [
    {
     "data": {
      "text/plain": [
       "Index(['TITLE', 'RESTAURANT_ID', 'CUISINES', 'TIME', 'CITY', 'LOCALITY',\n",
       "       'RATING', 'VOTES', 'COST'],\n",
       "      dtype='object')"
      ]
     },
     "execution_count": 21,
     "metadata": {},
     "output_type": "execute_result"
    }
   ],
   "source": [
    "train.columns"
   ]
  },
  {
   "cell_type": "code",
   "execution_count": 22,
   "id": "b5985c32",
   "metadata": {},
   "outputs": [
    {
     "data": {
      "text/plain": [
       "Index(['TITLE', 'RESTAURANT_ID', 'CUISINES', 'TIME', 'CITY', 'LOCALITY',\n",
       "       'RATING', 'VOTES'],\n",
       "      dtype='object')"
      ]
     },
     "execution_count": 22,
     "metadata": {},
     "output_type": "execute_result"
    }
   ],
   "source": [
    "test.columns"
   ]
  },
  {
   "cell_type": "code",
   "execution_count": 23,
   "id": "31a8f3a8",
   "metadata": {},
   "outputs": [
    {
     "data": {
      "text/plain": [
       "113"
      ]
     },
     "execution_count": 23,
     "metadata": {},
     "output_type": "execute_result"
    }
   ],
   "source": [
    "train['TITLE'].nunique()"
   ]
  },
  {
   "cell_type": "code",
   "execution_count": 24,
   "id": "30982bf9",
   "metadata": {},
   "outputs": [
    {
     "data": {
      "text/plain": [
       "11892"
      ]
     },
     "execution_count": 24,
     "metadata": {},
     "output_type": "execute_result"
    }
   ],
   "source": [
    "train['RESTAURANT_ID'].nunique()"
   ]
  },
  {
   "cell_type": "code",
   "execution_count": 27,
   "id": "9d36d23e",
   "metadata": {},
   "outputs": [
    {
     "name": "stdout",
     "output_type": "stream",
     "text": [
      "4155\n",
      "2689\n",
      "359\n",
      "1416\n",
      "32\n",
      "1847\n"
     ]
    }
   ],
   "source": [
    "print(train['CUISINES'].nunique())\n",
    "print(train['TIME'].nunique())\n",
    "print(train['CITY'].nunique())\n",
    "print(train['LOCALITY'].nunique())\n",
    "print(train['RATING'].nunique())\n",
    "print(train['VOTES'].nunique())"
   ]
  },
  {
   "cell_type": "code",
   "execution_count": 28,
   "id": "e5c51c4f",
   "metadata": {},
   "outputs": [
    {
     "data": {
      "text/plain": [
       "(12690, 9)"
      ]
     },
     "execution_count": 28,
     "metadata": {},
     "output_type": "execute_result"
    }
   ],
   "source": [
    "train.shape"
   ]
  },
  {
   "cell_type": "code",
   "execution_count": 29,
   "id": "fe560adb",
   "metadata": {},
   "outputs": [
    {
     "data": {
      "text/plain": [
       "(4231, 8)"
      ]
     },
     "execution_count": 29,
     "metadata": {},
     "output_type": "execute_result"
    }
   ],
   "source": [
    "test.shape"
   ]
  },
  {
   "cell_type": "code",
   "execution_count": 30,
   "id": "57c9b2ee",
   "metadata": {},
   "outputs": [
    {
     "data": {
      "text/plain": [
       "TITLE            object\n",
       "RESTAURANT_ID     int64\n",
       "CUISINES         object\n",
       "TIME             object\n",
       "CITY             object\n",
       "LOCALITY         object\n",
       "RATING           object\n",
       "VOTES            object\n",
       "COST              int64\n",
       "dtype: object"
      ]
     },
     "execution_count": 30,
     "metadata": {},
     "output_type": "execute_result"
    }
   ],
   "source": [
    "train.dtypes"
   ]
  },
  {
   "cell_type": "code",
   "execution_count": 31,
   "id": "385c75a7",
   "metadata": {},
   "outputs": [
    {
     "data": {
      "text/html": [
       "<div>\n",
       "<style scoped>\n",
       "    .dataframe tbody tr th:only-of-type {\n",
       "        vertical-align: middle;\n",
       "    }\n",
       "\n",
       "    .dataframe tbody tr th {\n",
       "        vertical-align: top;\n",
       "    }\n",
       "\n",
       "    .dataframe thead th {\n",
       "        text-align: right;\n",
       "    }\n",
       "</style>\n",
       "<table border=\"1\" class=\"dataframe\">\n",
       "  <thead>\n",
       "    <tr style=\"text-align: right;\">\n",
       "      <th></th>\n",
       "      <th>RESTAURANT_ID</th>\n",
       "      <th>COST</th>\n",
       "    </tr>\n",
       "  </thead>\n",
       "  <tbody>\n",
       "    <tr>\n",
       "      <th>count</th>\n",
       "      <td>12690.000000</td>\n",
       "      <td>12690.000000</td>\n",
       "    </tr>\n",
       "    <tr>\n",
       "      <th>mean</th>\n",
       "      <td>7759.134121</td>\n",
       "      <td>655.252246</td>\n",
       "    </tr>\n",
       "    <tr>\n",
       "      <th>std</th>\n",
       "      <td>4504.874150</td>\n",
       "      <td>627.003540</td>\n",
       "    </tr>\n",
       "    <tr>\n",
       "      <th>min</th>\n",
       "      <td>0.000000</td>\n",
       "      <td>20.000000</td>\n",
       "    </tr>\n",
       "    <tr>\n",
       "      <th>25%</th>\n",
       "      <td>3863.250000</td>\n",
       "      <td>300.000000</td>\n",
       "    </tr>\n",
       "    <tr>\n",
       "      <th>50%</th>\n",
       "      <td>7740.000000</td>\n",
       "      <td>500.000000</td>\n",
       "    </tr>\n",
       "    <tr>\n",
       "      <th>75%</th>\n",
       "      <td>11688.750000</td>\n",
       "      <td>800.000000</td>\n",
       "    </tr>\n",
       "    <tr>\n",
       "      <th>max</th>\n",
       "      <td>15573.000000</td>\n",
       "      <td>14000.000000</td>\n",
       "    </tr>\n",
       "  </tbody>\n",
       "</table>\n",
       "</div>"
      ],
      "text/plain": [
       "       RESTAURANT_ID          COST\n",
       "count   12690.000000  12690.000000\n",
       "mean     7759.134121    655.252246\n",
       "std      4504.874150    627.003540\n",
       "min         0.000000     20.000000\n",
       "25%      3863.250000    300.000000\n",
       "50%      7740.000000    500.000000\n",
       "75%     11688.750000    800.000000\n",
       "max     15573.000000  14000.000000"
      ]
     },
     "execution_count": 31,
     "metadata": {},
     "output_type": "execute_result"
    }
   ],
   "source": [
    "train.describe()"
   ]
  },
  {
   "cell_type": "markdown",
   "id": "906a2fc6",
   "metadata": {},
   "source": [
    "Count values are same in both the column so dataset is looking perfect.\n",
    "Mean is greater than median so there is left skewness are present.\n",
    "There is huge difference between in 75% and max value in COST so outliers are present in the data set.\n",
    "\n",
    "\n"
   ]
  },
  {
   "cell_type": "code",
   "execution_count": 34,
   "id": "2bcd70ac",
   "metadata": {},
   "outputs": [
    {
     "data": {
      "text/plain": [
       "<bound method IndexOpsMixin.value_counts of 0        1200\n",
       "1        1500\n",
       "2         800\n",
       "3         800\n",
       "4         300\n",
       "         ... \n",
       "12685     500\n",
       "12686    1800\n",
       "12687    1300\n",
       "12688     400\n",
       "12689     600\n",
       "Name: COST, Length: 12690, dtype: int64>"
      ]
     },
     "execution_count": 34,
     "metadata": {},
     "output_type": "execute_result"
    }
   ],
   "source": [
    "train['COST'].value_counts"
   ]
  },
  {
   "cell_type": "code",
   "execution_count": 37,
   "id": "b8d951bf",
   "metadata": {},
   "outputs": [
    {
     "data": {
      "text/plain": [
       "<AxesSubplot:>"
      ]
     },
     "execution_count": 37,
     "metadata": {},
     "output_type": "execute_result"
    },
    {
     "data": {
      "image/png": "[encoded data removed]",
      "text/plain": [
       "<Figure size 640x480 with 2 Axes>"
      ]
     },
     "metadata": {},
     "output_type": "display_data"
    }
   ],
   "source": [
    "sns.heatmap(train.isnull())"
   ]
  },
  {
   "cell_type": "code",
   "execution_count": 39,
   "id": "eeb60dbb",
   "metadata": {},
   "outputs": [
    {
     "data": {
      "text/html": [
       "<div>\n",
       "<style scoped>\n",
       "    .dataframe tbody tr th:only-of-type {\n",
       "        vertical-align: middle;\n",
       "    }\n",
       "\n",
       "    .dataframe tbody tr th {\n",
       "        vertical-align: top;\n",
       "    }\n",
       "\n",
       "    .dataframe thead th {\n",
       "        text-align: right;\n",
       "    }\n",
       "</style>\n",
       "<table border=\"1\" class=\"dataframe\">\n",
       "  <thead>\n",
       "    <tr style=\"text-align: right;\">\n",
       "      <th></th>\n",
       "      <th>RESTAURANT_ID</th>\n",
       "      <th>COST</th>\n",
       "    </tr>\n",
       "  </thead>\n",
       "  <tbody>\n",
       "    <tr>\n",
       "      <th>RESTAURANT_ID</th>\n",
       "      <td>1.00000</td>\n",
       "      <td>0.04071</td>\n",
       "    </tr>\n",
       "    <tr>\n",
       "      <th>COST</th>\n",
       "      <td>0.04071</td>\n",
       "      <td>1.00000</td>\n",
       "    </tr>\n",
       "  </tbody>\n",
       "</table>\n",
       "</div>"
      ],
      "text/plain": [
       "               RESTAURANT_ID     COST\n",
       "RESTAURANT_ID        1.00000  0.04071\n",
       "COST                 0.04071  1.00000"
      ]
     },
     "execution_count": 39,
     "metadata": {},
     "output_type": "execute_result"
    }
   ],
   "source": [
    "traincor = train.corr()\n",
    "traincor"
   ]
  },
  {
   "cell_type": "code",
   "execution_count": 40,
   "id": "1bdb04dd",
   "metadata": {},
   "outputs": [
    {
     "data": {
      "text/plain": [
       "<AxesSubplot:xlabel='RATING'>"
      ]
     },
     "execution_count": 40,
     "metadata": {},
     "output_type": "execute_result"
    },
    {
     "data": {
      "image/png": "[encoded data removed]",
      "text/plain": [
       "<Figure size 640x480 with 1 Axes>"
      ]
     },
     "metadata": {},
     "output_type": "display_data"
    }
   ],
   "source": [
    "train.groupby(['RATING'])['COST'].mean().plot(kind='bar')"
   ]
  },
  {
   "cell_type": "code",
   "execution_count": 41,
   "id": "99133bb3",
   "metadata": {},
   "outputs": [
    {
     "data": {
      "text/plain": [
       "<AxesSubplot:xlabel='RATING'>"
      ]
     },
     "execution_count": 41,
     "metadata": {},
     "output_type": "execute_result"
    },
    {
     "data": {
      "image/png": "[encoded data removed]",
      "text/plain": [
       "<Figure size 640x480 with 1 Axes>"
      ]
     },
     "metadata": {},
     "output_type": "display_data"
    }
   ],
   "source": [
    "train.groupby(['RATING'])['COST'].sum().plot(kind='bar')"
   ]
  },
  {
   "cell_type": "code",
   "execution_count": 42,
   "id": "aee0781a",
   "metadata": {},
   "outputs": [
    {
     "data": {
      "text/plain": [
       "Chennai                                                                           2174\n",
       "Bangalore                                                                         2149\n",
       "Hyderabad                                                                         1819\n",
       "Mumbai                                                                            1722\n",
       "New Delhi                                                                         1321\n",
       "                                                                                  ... \n",
       "Gachibowli Hyderabad                                                                 1\n",
       "CPR layout harlur main road opposite to ozone ever green apartment Bangalore -       1\n",
       "ECR NEELANKARAI Chennai 600115                                                       1\n",
       "ward X11                                                                             1\n",
       "Masab Tank                                                                           1\n",
       "Name: CITY, Length: 359, dtype: int64"
      ]
     },
     "execution_count": 42,
     "metadata": {},
     "output_type": "execute_result"
    }
   ],
   "source": [
    "train['CITY'].value_counts()"
   ]
  },
  {
   "cell_type": "code",
   "execution_count": 43,
   "id": "12bc121e",
   "metadata": {},
   "outputs": [
    {
     "data": {
      "text/plain": [
       "865.2729384436701"
      ]
     },
     "execution_count": 43,
     "metadata": {},
     "output_type": "execute_result"
    }
   ],
   "source": [
    "train[train['CITY'] == 'Mumbai']['COST'].mean()"
   ]
  },
  {
   "cell_type": "code",
   "execution_count": 44,
   "id": "1dab4df9",
   "metadata": {},
   "outputs": [
    {
     "data": {
      "text/plain": [
       "588.5878564857405"
      ]
     },
     "execution_count": 44,
     "metadata": {},
     "output_type": "execute_result"
    }
   ],
   "source": [
    "train[train['CITY'] == 'Chennai']['COST'].mean()"
   ]
  },
  {
   "cell_type": "code",
   "execution_count": 45,
   "id": "1f060787",
   "metadata": {},
   "outputs": [
    {
     "data": {
      "text/plain": [
       "668.733829688227"
      ]
     },
     "execution_count": 45,
     "metadata": {},
     "output_type": "execute_result"
    }
   ],
   "source": [
    "train[train['CITY'] == 'Bangalore']['COST'].mean()"
   ]
  },
  {
   "cell_type": "code",
   "execution_count": 46,
   "id": "885e2275",
   "metadata": {},
   "outputs": [],
   "source": [
    "train['RATING'] = train['RATING'].astype('object')\n",
    "# for test set\n",
    "test['RATING'] = test['RATING'].astype('object') # replace the rating"
   ]
  },
  {
   "cell_type": "code",
   "execution_count": 47,
   "id": "390a0919",
   "metadata": {},
   "outputs": [],
   "source": [
    "train['RATING'] = train['RATING'].replace({'-':0.0, 'NEW':5.0}) # replace the rating\n",
    "# for test set\n",
    "test['RATING'] = test['RATING'].replace({'-':0.0, 'NEW':5.0}) # replace the rating"
   ]
  },
  {
   "cell_type": "code",
   "execution_count": 48,
   "id": "ec753c2d",
   "metadata": {},
   "outputs": [
    {
     "data": {
      "text/plain": [
       "count     12688\n",
       "unique       32\n",
       "top         3.9\n",
       "freq       1238\n",
       "Name: RATING, dtype: object"
      ]
     },
     "execution_count": 48,
     "metadata": {},
     "output_type": "execute_result"
    }
   ],
   "source": [
    "train['RATING'].describe()"
   ]
  },
  {
   "cell_type": "code",
   "execution_count": 49,
   "id": "447000e2",
   "metadata": {},
   "outputs": [],
   "source": [
    "train['RATING'] = train['RATING'].astype(float) # replace the rating\n",
    "# for test set\n",
    "test['RATING'] = test['RATING'].astype(float) # replace the rating"
   ]
  },
  {
   "cell_type": "markdown",
   "id": "f6d1873a",
   "metadata": {},
   "source": [
    "# To check the Missing Values"
   ]
  },
  {
   "cell_type": "code",
   "execution_count": 50,
   "id": "de3f4f3d",
   "metadata": {},
   "outputs": [
    {
     "data": {
      "text/plain": [
       "TITLE               0\n",
       "RESTAURANT_ID       0\n",
       "CUISINES            0\n",
       "TIME                0\n",
       "CITY              112\n",
       "LOCALITY           98\n",
       "RATING              2\n",
       "VOTES            1204\n",
       "COST                0\n",
       "dtype: int64"
      ]
     },
     "execution_count": 50,
     "metadata": {},
     "output_type": "execute_result"
    }
   ],
   "source": [
    "train.isnull().sum()"
   ]
  },
  {
   "cell_type": "code",
   "execution_count": 51,
   "id": "63a0f06a",
   "metadata": {},
   "outputs": [],
   "source": [
    "train['source']= 'train'\n",
    "test['source'] = 'test'"
   ]
  },
  {
   "cell_type": "code",
   "execution_count": 52,
   "id": "981fb29d",
   "metadata": {},
   "outputs": [],
   "source": [
    "data=pd.concat([train, test],ignore_index=True)"
   ]
  },
  {
   "cell_type": "code",
   "execution_count": 53,
   "id": "1249f81c",
   "metadata": {},
   "outputs": [
    {
     "data": {
      "text/html": [
       "<div>\n",
       "<style scoped>\n",
       "    .dataframe tbody tr th:only-of-type {\n",
       "        vertical-align: middle;\n",
       "    }\n",
       "\n",
       "    .dataframe tbody tr th {\n",
       "        vertical-align: top;\n",
       "    }\n",
       "\n",
       "    .dataframe thead th {\n",
       "        text-align: right;\n",
       "    }\n",
       "</style>\n",
       "<table border=\"1\" class=\"dataframe\">\n",
       "  <thead>\n",
       "    <tr style=\"text-align: right;\">\n",
       "      <th></th>\n",
       "      <th>TITLE</th>\n",
       "      <th>RESTAURANT_ID</th>\n",
       "      <th>CUISINES</th>\n",
       "      <th>TIME</th>\n",
       "      <th>CITY</th>\n",
       "      <th>LOCALITY</th>\n",
       "      <th>RATING</th>\n",
       "      <th>VOTES</th>\n",
       "      <th>COST</th>\n",
       "      <th>source</th>\n",
       "    </tr>\n",
       "  </thead>\n",
       "  <tbody>\n",
       "    <tr>\n",
       "      <th>0</th>\n",
       "      <td>CASUAL DINING</td>\n",
       "      <td>9438</td>\n",
       "      <td>Malwani, Goan, North Indian</td>\n",
       "      <td>11am – 4pm, 7:30pm – 11:30pm (Mon-Sun)</td>\n",
       "      <td>Thane</td>\n",
       "      <td>Dombivali East</td>\n",
       "      <td>3.6</td>\n",
       "      <td>49 votes</td>\n",
       "      <td>1200.0</td>\n",
       "      <td>train</td>\n",
       "    </tr>\n",
       "    <tr>\n",
       "      <th>1</th>\n",
       "      <td>CASUAL DINING,BAR</td>\n",
       "      <td>13198</td>\n",
       "      <td>Asian, Modern Indian, Japanese</td>\n",
       "      <td>6pm – 11pm (Mon-Sun)</td>\n",
       "      <td>Chennai</td>\n",
       "      <td>Ramapuram</td>\n",
       "      <td>4.2</td>\n",
       "      <td>30 votes</td>\n",
       "      <td>1500.0</td>\n",
       "      <td>train</td>\n",
       "    </tr>\n",
       "    <tr>\n",
       "      <th>2</th>\n",
       "      <td>CASUAL DINING</td>\n",
       "      <td>10915</td>\n",
       "      <td>North Indian, Chinese, Biryani, Hyderabadi</td>\n",
       "      <td>11am – 3:30pm, 7pm – 11pm (Mon-Sun)</td>\n",
       "      <td>Chennai</td>\n",
       "      <td>Saligramam</td>\n",
       "      <td>3.8</td>\n",
       "      <td>221 votes</td>\n",
       "      <td>800.0</td>\n",
       "      <td>train</td>\n",
       "    </tr>\n",
       "    <tr>\n",
       "      <th>3</th>\n",
       "      <td>QUICK BITES</td>\n",
       "      <td>6346</td>\n",
       "      <td>Tibetan, Chinese</td>\n",
       "      <td>11:30am – 1am (Mon-Sun)</td>\n",
       "      <td>Mumbai</td>\n",
       "      <td>Bandra West</td>\n",
       "      <td>4.1</td>\n",
       "      <td>24 votes</td>\n",
       "      <td>800.0</td>\n",
       "      <td>train</td>\n",
       "    </tr>\n",
       "    <tr>\n",
       "      <th>4</th>\n",
       "      <td>DESSERT PARLOR</td>\n",
       "      <td>15387</td>\n",
       "      <td>Desserts</td>\n",
       "      <td>11am – 1am (Mon-Sun)</td>\n",
       "      <td>Mumbai</td>\n",
       "      <td>Lower Parel</td>\n",
       "      <td>3.8</td>\n",
       "      <td>165 votes</td>\n",
       "      <td>300.0</td>\n",
       "      <td>train</td>\n",
       "    </tr>\n",
       "  </tbody>\n",
       "</table>\n",
       "</div>"
      ],
      "text/plain": [
       "               TITLE  RESTAURANT_ID  \\\n",
       "0      CASUAL DINING           9438   \n",
       "1  CASUAL DINING,BAR          13198   \n",
       "2      CASUAL DINING          10915   \n",
       "3        QUICK BITES           6346   \n",
       "4     DESSERT PARLOR          15387   \n",
       "\n",
       "                                     CUISINES  \\\n",
       "0                 Malwani, Goan, North Indian   \n",
       "1              Asian, Modern Indian, Japanese   \n",
       "2  North Indian, Chinese, Biryani, Hyderabadi   \n",
       "3                            Tibetan, Chinese   \n",
       "4                                    Desserts   \n",
       "\n",
       "                                     TIME     CITY        LOCALITY  RATING  \\\n",
       "0  11am – 4pm, 7:30pm – 11:30pm (Mon-Sun)    Thane  Dombivali East     3.6   \n",
       "1                    6pm – 11pm (Mon-Sun)  Chennai       Ramapuram     4.2   \n",
       "2     11am – 3:30pm, 7pm – 11pm (Mon-Sun)  Chennai      Saligramam     3.8   \n",
       "3                 11:30am – 1am (Mon-Sun)   Mumbai     Bandra West     4.1   \n",
       "4                    11am – 1am (Mon-Sun)   Mumbai     Lower Parel     3.8   \n",
       "\n",
       "       VOTES    COST source  \n",
       "0   49 votes  1200.0  train  \n",
       "1   30 votes  1500.0  train  \n",
       "2  221 votes   800.0  train  \n",
       "3   24 votes   800.0  train  \n",
       "4  165 votes   300.0  train  "
      ]
     },
     "execution_count": 53,
     "metadata": {},
     "output_type": "execute_result"
    }
   ],
   "source": [
    "data.head()"
   ]
  },
  {
   "cell_type": "code",
   "execution_count": 54,
   "id": "49238a42",
   "metadata": {},
   "outputs": [],
   "source": [
    "new1_test = data[\"VOTES\"].str.split(\" \", n = 1, expand =True) "
   ]
  },
  {
   "cell_type": "code",
   "execution_count": 55,
   "id": "87dcdec4",
   "metadata": {},
   "outputs": [],
   "source": [
    "data['votes_no'] = new1_test[0]\n",
    "data['votes'] = new1_test[1]"
   ]
  },
  {
   "cell_type": "code",
   "execution_count": 56,
   "id": "e75320e7",
   "metadata": {},
   "outputs": [
    {
     "data": {
      "text/html": [
       "<div>\n",
       "<style scoped>\n",
       "    .dataframe tbody tr th:only-of-type {\n",
       "        vertical-align: middle;\n",
       "    }\n",
       "\n",
       "    .dataframe tbody tr th {\n",
       "        vertical-align: top;\n",
       "    }\n",
       "\n",
       "    .dataframe thead th {\n",
       "        text-align: right;\n",
       "    }\n",
       "</style>\n",
       "<table border=\"1\" class=\"dataframe\">\n",
       "  <thead>\n",
       "    <tr style=\"text-align: right;\">\n",
       "      <th></th>\n",
       "      <th>TITLE</th>\n",
       "      <th>RESTAURANT_ID</th>\n",
       "      <th>CUISINES</th>\n",
       "      <th>TIME</th>\n",
       "      <th>CITY</th>\n",
       "      <th>LOCALITY</th>\n",
       "      <th>RATING</th>\n",
       "      <th>VOTES</th>\n",
       "      <th>COST</th>\n",
       "      <th>source</th>\n",
       "      <th>votes_no</th>\n",
       "      <th>votes</th>\n",
       "    </tr>\n",
       "  </thead>\n",
       "  <tbody>\n",
       "    <tr>\n",
       "      <th>0</th>\n",
       "      <td>CASUAL DINING</td>\n",
       "      <td>9438</td>\n",
       "      <td>Malwani, Goan, North Indian</td>\n",
       "      <td>11am – 4pm, 7:30pm – 11:30pm (Mon-Sun)</td>\n",
       "      <td>Thane</td>\n",
       "      <td>Dombivali East</td>\n",
       "      <td>3.6</td>\n",
       "      <td>49 votes</td>\n",
       "      <td>1200.0</td>\n",
       "      <td>train</td>\n",
       "      <td>49</td>\n",
       "      <td>votes</td>\n",
       "    </tr>\n",
       "    <tr>\n",
       "      <th>1</th>\n",
       "      <td>CASUAL DINING,BAR</td>\n",
       "      <td>13198</td>\n",
       "      <td>Asian, Modern Indian, Japanese</td>\n",
       "      <td>6pm – 11pm (Mon-Sun)</td>\n",
       "      <td>Chennai</td>\n",
       "      <td>Ramapuram</td>\n",
       "      <td>4.2</td>\n",
       "      <td>30 votes</td>\n",
       "      <td>1500.0</td>\n",
       "      <td>train</td>\n",
       "      <td>30</td>\n",
       "      <td>votes</td>\n",
       "    </tr>\n",
       "    <tr>\n",
       "      <th>2</th>\n",
       "      <td>CASUAL DINING</td>\n",
       "      <td>10915</td>\n",
       "      <td>North Indian, Chinese, Biryani, Hyderabadi</td>\n",
       "      <td>11am – 3:30pm, 7pm – 11pm (Mon-Sun)</td>\n",
       "      <td>Chennai</td>\n",
       "      <td>Saligramam</td>\n",
       "      <td>3.8</td>\n",
       "      <td>221 votes</td>\n",
       "      <td>800.0</td>\n",
       "      <td>train</td>\n",
       "      <td>221</td>\n",
       "      <td>votes</td>\n",
       "    </tr>\n",
       "    <tr>\n",
       "      <th>3</th>\n",
       "      <td>QUICK BITES</td>\n",
       "      <td>6346</td>\n",
       "      <td>Tibetan, Chinese</td>\n",
       "      <td>11:30am – 1am (Mon-Sun)</td>\n",
       "      <td>Mumbai</td>\n",
       "      <td>Bandra West</td>\n",
       "      <td>4.1</td>\n",
       "      <td>24 votes</td>\n",
       "      <td>800.0</td>\n",
       "      <td>train</td>\n",
       "      <td>24</td>\n",
       "      <td>votes</td>\n",
       "    </tr>\n",
       "    <tr>\n",
       "      <th>4</th>\n",
       "      <td>DESSERT PARLOR</td>\n",
       "      <td>15387</td>\n",
       "      <td>Desserts</td>\n",
       "      <td>11am – 1am (Mon-Sun)</td>\n",
       "      <td>Mumbai</td>\n",
       "      <td>Lower Parel</td>\n",
       "      <td>3.8</td>\n",
       "      <td>165 votes</td>\n",
       "      <td>300.0</td>\n",
       "      <td>train</td>\n",
       "      <td>165</td>\n",
       "      <td>votes</td>\n",
       "    </tr>\n",
       "  </tbody>\n",
       "</table>\n",
       "</div>"
      ],
      "text/plain": [
       "               TITLE  RESTAURANT_ID  \\\n",
       "0      CASUAL DINING           9438   \n",
       "1  CASUAL DINING,BAR          13198   \n",
       "2      CASUAL DINING          10915   \n",
       "3        QUICK BITES           6346   \n",
       "4     DESSERT PARLOR          15387   \n",
       "\n",
       "                                     CUISINES  \\\n",
       "0                 Malwani, Goan, North Indian   \n",
       "1              Asian, Modern Indian, Japanese   \n",
       "2  North Indian, Chinese, Biryani, Hyderabadi   \n",
       "3                            Tibetan, Chinese   \n",
       "4                                    Desserts   \n",
       "\n",
       "                                     TIME     CITY        LOCALITY  RATING  \\\n",
       "0  11am – 4pm, 7:30pm – 11:30pm (Mon-Sun)    Thane  Dombivali East     3.6   \n",
       "1                    6pm – 11pm (Mon-Sun)  Chennai       Ramapuram     4.2   \n",
       "2     11am – 3:30pm, 7pm – 11pm (Mon-Sun)  Chennai      Saligramam     3.8   \n",
       "3                 11:30am – 1am (Mon-Sun)   Mumbai     Bandra West     4.1   \n",
       "4                    11am – 1am (Mon-Sun)   Mumbai     Lower Parel     3.8   \n",
       "\n",
       "       VOTES    COST source votes_no  votes  \n",
       "0   49 votes  1200.0  train       49  votes  \n",
       "1   30 votes  1500.0  train       30  votes  \n",
       "2  221 votes   800.0  train      221  votes  \n",
       "3   24 votes   800.0  train       24  votes  \n",
       "4  165 votes   300.0  train      165  votes  "
      ]
     },
     "execution_count": 56,
     "metadata": {},
     "output_type": "execute_result"
    }
   ],
   "source": [
    "data.head()"
   ]
  },
  {
   "cell_type": "code",
   "execution_count": 57,
   "id": "c58f864f",
   "metadata": {},
   "outputs": [],
   "source": [
    "data['votes_no'] = data['votes_no'].fillna(44.0) # filling with mode\n",
    "data['RATING'] = data['RATING'].fillna(3.8) # filling with the median \n",
    "data['LOCALITY'] = data['LOCALITY'].fillna('Gachibowli')\n",
    "data['CITY'] = data['CITY'].fillna('Chennai')"
   ]
  },
  {
   "cell_type": "markdown",
   "id": "feae2290",
   "metadata": {},
   "source": [
    "Dropping values:"
   ]
  },
  {
   "cell_type": "code",
   "execution_count": 58,
   "id": "005e061c",
   "metadata": {},
   "outputs": [],
   "source": [
    "data = data.drop(['VOTES', 'votes'], axis=1)"
   ]
  },
  {
   "cell_type": "markdown",
   "id": "400c5e9b",
   "metadata": {},
   "source": [
    "# Feature Engineering:"
   ]
  },
  {
   "cell_type": "markdown",
   "id": "0facb545",
   "metadata": {},
   "source": [
    "# Conversion of Data"
   ]
  },
  {
   "cell_type": "code",
   "execution_count": 59,
   "id": "e08b14dd",
   "metadata": {},
   "outputs": [
    {
     "name": "stdout",
     "output_type": "stream",
     "text": [
      "Shape all_data: (16921, 10)\n"
     ]
    }
   ],
   "source": [
    "from sklearn.preprocessing import LabelEncoder\n",
    "cols = ('CUISINES', 'TIME', 'LOCALITY', 'TITLE', 'CITY')\n",
    "# process columns, apply LabelEncoder to categorical features\n",
    "for c in cols:\n",
    "    lbl = LabelEncoder() \n",
    "    lbl.fit(list(data[c].values)) \n",
    "    data[c] = lbl.transform(list(data[c].values))\n",
    "\n",
    "# shape        \n",
    "print('Shape all_data: {}'.format(data.shape))"
   ]
  },
  {
   "cell_type": "code",
   "execution_count": 60,
   "id": "0b04a04f",
   "metadata": {},
   "outputs": [
    {
     "data": {
      "text/html": [
       "<div>\n",
       "<style scoped>\n",
       "    .dataframe tbody tr th:only-of-type {\n",
       "        vertical-align: middle;\n",
       "    }\n",
       "\n",
       "    .dataframe tbody tr th {\n",
       "        vertical-align: top;\n",
       "    }\n",
       "\n",
       "    .dataframe thead th {\n",
       "        text-align: right;\n",
       "    }\n",
       "</style>\n",
       "<table border=\"1\" class=\"dataframe\">\n",
       "  <thead>\n",
       "    <tr style=\"text-align: right;\">\n",
       "      <th></th>\n",
       "      <th>TITLE</th>\n",
       "      <th>RESTAURANT_ID</th>\n",
       "      <th>CUISINES</th>\n",
       "      <th>TIME</th>\n",
       "      <th>CITY</th>\n",
       "      <th>LOCALITY</th>\n",
       "      <th>RATING</th>\n",
       "      <th>COST</th>\n",
       "      <th>source</th>\n",
       "      <th>votes_no</th>\n",
       "    </tr>\n",
       "  </thead>\n",
       "  <tbody>\n",
       "    <tr>\n",
       "      <th>0</th>\n",
       "      <td>34</td>\n",
       "      <td>9438</td>\n",
       "      <td>3294</td>\n",
       "      <td>898</td>\n",
       "      <td>400</td>\n",
       "      <td>328</td>\n",
       "      <td>3.6</td>\n",
       "      <td>1200.0</td>\n",
       "      <td>train</td>\n",
       "      <td>49</td>\n",
       "    </tr>\n",
       "    <tr>\n",
       "      <th>1</th>\n",
       "      <td>36</td>\n",
       "      <td>13198</td>\n",
       "      <td>364</td>\n",
       "      <td>2301</td>\n",
       "      <td>75</td>\n",
       "      <td>1214</td>\n",
       "      <td>4.2</td>\n",
       "      <td>1500.0</td>\n",
       "      <td>train</td>\n",
       "      <td>30</td>\n",
       "    </tr>\n",
       "    <tr>\n",
       "      <th>2</th>\n",
       "      <td>34</td>\n",
       "      <td>10915</td>\n",
       "      <td>3729</td>\n",
       "      <td>806</td>\n",
       "      <td>75</td>\n",
       "      <td>1272</td>\n",
       "      <td>3.8</td>\n",
       "      <td>800.0</td>\n",
       "      <td>train</td>\n",
       "      <td>221</td>\n",
       "    </tr>\n",
       "    <tr>\n",
       "      <th>3</th>\n",
       "      <td>104</td>\n",
       "      <td>6346</td>\n",
       "      <td>5156</td>\n",
       "      <td>340</td>\n",
       "      <td>277</td>\n",
       "      <td>161</td>\n",
       "      <td>4.1</td>\n",
       "      <td>800.0</td>\n",
       "      <td>train</td>\n",
       "      <td>24</td>\n",
       "    </tr>\n",
       "    <tr>\n",
       "      <th>4</th>\n",
       "      <td>55</td>\n",
       "      <td>15387</td>\n",
       "      <td>2218</td>\n",
       "      <td>750</td>\n",
       "      <td>277</td>\n",
       "      <td>709</td>\n",
       "      <td>3.8</td>\n",
       "      <td>300.0</td>\n",
       "      <td>train</td>\n",
       "      <td>165</td>\n",
       "    </tr>\n",
       "  </tbody>\n",
       "</table>\n",
       "</div>"
      ],
      "text/plain": [
       "   TITLE  RESTAURANT_ID  CUISINES  TIME  CITY  LOCALITY  RATING    COST  \\\n",
       "0     34           9438      3294   898   400       328     3.6  1200.0   \n",
       "1     36          13198       364  2301    75      1214     4.2  1500.0   \n",
       "2     34          10915      3729   806    75      1272     3.8   800.0   \n",
       "3    104           6346      5156   340   277       161     4.1   800.0   \n",
       "4     55          15387      2218   750   277       709     3.8   300.0   \n",
       "\n",
       "  source votes_no  \n",
       "0  train       49  \n",
       "1  train       30  \n",
       "2  train      221  \n",
       "3  train       24  \n",
       "4  train      165  "
      ]
     },
     "execution_count": 60,
     "metadata": {},
     "output_type": "execute_result"
    }
   ],
   "source": [
    "data.head()"
   ]
  },
  {
   "cell_type": "code",
   "execution_count": 61,
   "id": "675b2602",
   "metadata": {},
   "outputs": [],
   "source": [
    "Train = data.loc[data['source']=='train']\n",
    "Test = data.loc[data['source']=='test']"
   ]
  },
  {
   "cell_type": "code",
   "execution_count": 62,
   "id": "cdc9632f",
   "metadata": {},
   "outputs": [],
   "source": [
    "Train.drop('source',axis=1,inplace=True)\n",
    "Test.drop(['source','COST'],axis=1,inplace=True)"
   ]
  },
  {
   "cell_type": "code",
   "execution_count": 63,
   "id": "7a1e4933",
   "metadata": {},
   "outputs": [
    {
     "data": {
      "text/html": [
       "<div>\n",
       "<style scoped>\n",
       "    .dataframe tbody tr th:only-of-type {\n",
       "        vertical-align: middle;\n",
       "    }\n",
       "\n",
       "    .dataframe tbody tr th {\n",
       "        vertical-align: top;\n",
       "    }\n",
       "\n",
       "    .dataframe thead th {\n",
       "        text-align: right;\n",
       "    }\n",
       "</style>\n",
       "<table border=\"1\" class=\"dataframe\">\n",
       "  <thead>\n",
       "    <tr style=\"text-align: right;\">\n",
       "      <th></th>\n",
       "      <th>TITLE</th>\n",
       "      <th>RESTAURANT_ID</th>\n",
       "      <th>CUISINES</th>\n",
       "      <th>TIME</th>\n",
       "      <th>CITY</th>\n",
       "      <th>LOCALITY</th>\n",
       "      <th>RATING</th>\n",
       "      <th>COST</th>\n",
       "      <th>votes_no</th>\n",
       "    </tr>\n",
       "  </thead>\n",
       "  <tbody>\n",
       "    <tr>\n",
       "      <th>0</th>\n",
       "      <td>34</td>\n",
       "      <td>9438</td>\n",
       "      <td>3294</td>\n",
       "      <td>898</td>\n",
       "      <td>400</td>\n",
       "      <td>328</td>\n",
       "      <td>3.6</td>\n",
       "      <td>1200.0</td>\n",
       "      <td>49</td>\n",
       "    </tr>\n",
       "    <tr>\n",
       "      <th>1</th>\n",
       "      <td>36</td>\n",
       "      <td>13198</td>\n",
       "      <td>364</td>\n",
       "      <td>2301</td>\n",
       "      <td>75</td>\n",
       "      <td>1214</td>\n",
       "      <td>4.2</td>\n",
       "      <td>1500.0</td>\n",
       "      <td>30</td>\n",
       "    </tr>\n",
       "    <tr>\n",
       "      <th>2</th>\n",
       "      <td>34</td>\n",
       "      <td>10915</td>\n",
       "      <td>3729</td>\n",
       "      <td>806</td>\n",
       "      <td>75</td>\n",
       "      <td>1272</td>\n",
       "      <td>3.8</td>\n",
       "      <td>800.0</td>\n",
       "      <td>221</td>\n",
       "    </tr>\n",
       "    <tr>\n",
       "      <th>3</th>\n",
       "      <td>104</td>\n",
       "      <td>6346</td>\n",
       "      <td>5156</td>\n",
       "      <td>340</td>\n",
       "      <td>277</td>\n",
       "      <td>161</td>\n",
       "      <td>4.1</td>\n",
       "      <td>800.0</td>\n",
       "      <td>24</td>\n",
       "    </tr>\n",
       "    <tr>\n",
       "      <th>4</th>\n",
       "      <td>55</td>\n",
       "      <td>15387</td>\n",
       "      <td>2218</td>\n",
       "      <td>750</td>\n",
       "      <td>277</td>\n",
       "      <td>709</td>\n",
       "      <td>3.8</td>\n",
       "      <td>300.0</td>\n",
       "      <td>165</td>\n",
       "    </tr>\n",
       "  </tbody>\n",
       "</table>\n",
       "</div>"
      ],
      "text/plain": [
       "   TITLE  RESTAURANT_ID  CUISINES  TIME  CITY  LOCALITY  RATING    COST  \\\n",
       "0     34           9438      3294   898   400       328     3.6  1200.0   \n",
       "1     36          13198       364  2301    75      1214     4.2  1500.0   \n",
       "2     34          10915      3729   806    75      1272     3.8   800.0   \n",
       "3    104           6346      5156   340   277       161     4.1   800.0   \n",
       "4     55          15387      2218   750   277       709     3.8   300.0   \n",
       "\n",
       "  votes_no  \n",
       "0       49  \n",
       "1       30  \n",
       "2      221  \n",
       "3       24  \n",
       "4      165  "
      ]
     },
     "execution_count": 63,
     "metadata": {},
     "output_type": "execute_result"
    }
   ],
   "source": [
    "Train.head()"
   ]
  },
  {
   "cell_type": "code",
   "execution_count": 64,
   "id": "9ef1f3d4",
   "metadata": {},
   "outputs": [
    {
     "data": {
      "text/html": [
       "<div>\n",
       "<style scoped>\n",
       "    .dataframe tbody tr th:only-of-type {\n",
       "        vertical-align: middle;\n",
       "    }\n",
       "\n",
       "    .dataframe tbody tr th {\n",
       "        vertical-align: top;\n",
       "    }\n",
       "\n",
       "    .dataframe thead th {\n",
       "        text-align: right;\n",
       "    }\n",
       "</style>\n",
       "<table border=\"1\" class=\"dataframe\">\n",
       "  <thead>\n",
       "    <tr style=\"text-align: right;\">\n",
       "      <th></th>\n",
       "      <th>TITLE</th>\n",
       "      <th>RESTAURANT_ID</th>\n",
       "      <th>CUISINES</th>\n",
       "      <th>TIME</th>\n",
       "      <th>CITY</th>\n",
       "      <th>LOCALITY</th>\n",
       "      <th>RATING</th>\n",
       "      <th>votes_no</th>\n",
       "    </tr>\n",
       "  </thead>\n",
       "  <tbody>\n",
       "    <tr>\n",
       "      <th>12690</th>\n",
       "      <td>34</td>\n",
       "      <td>4085</td>\n",
       "      <td>3878</td>\n",
       "      <td>1417</td>\n",
       "      <td>323</td>\n",
       "      <td>1314</td>\n",
       "      <td>4.3</td>\n",
       "      <td>564</td>\n",
       "    </tr>\n",
       "    <tr>\n",
       "      <th>12691</th>\n",
       "      <td>104</td>\n",
       "      <td>12680</td>\n",
       "      <td>4879</td>\n",
       "      <td>2548</td>\n",
       "      <td>277</td>\n",
       "      <td>429</td>\n",
       "      <td>4.2</td>\n",
       "      <td>61</td>\n",
       "    </tr>\n",
       "    <tr>\n",
       "      <th>12692</th>\n",
       "      <td>34</td>\n",
       "      <td>1411</td>\n",
       "      <td>4333</td>\n",
       "      <td>614</td>\n",
       "      <td>277</td>\n",
       "      <td>774</td>\n",
       "      <td>3.8</td>\n",
       "      <td>350</td>\n",
       "    </tr>\n",
       "    <tr>\n",
       "      <th>12693</th>\n",
       "      <td>95</td>\n",
       "      <td>204</td>\n",
       "      <td>631</td>\n",
       "      <td>2955</td>\n",
       "      <td>128</td>\n",
       "      <td>846</td>\n",
       "      <td>3.8</td>\n",
       "      <td>1445</td>\n",
       "    </tr>\n",
       "    <tr>\n",
       "      <th>12694</th>\n",
       "      <td>104</td>\n",
       "      <td>13453</td>\n",
       "      <td>4891</td>\n",
       "      <td>586</td>\n",
       "      <td>216</td>\n",
       "      <td>570</td>\n",
       "      <td>3.6</td>\n",
       "      <td>23</td>\n",
       "    </tr>\n",
       "  </tbody>\n",
       "</table>\n",
       "</div>"
      ],
      "text/plain": [
       "       TITLE  RESTAURANT_ID  CUISINES  TIME  CITY  LOCALITY  RATING votes_no\n",
       "12690     34           4085      3878  1417   323      1314     4.3      564\n",
       "12691    104          12680      4879  2548   277       429     4.2       61\n",
       "12692     34           1411      4333   614   277       774     3.8      350\n",
       "12693     95            204       631  2955   128       846     3.8     1445\n",
       "12694    104          13453      4891   586   216       570     3.6       23"
      ]
     },
     "execution_count": 64,
     "metadata": {},
     "output_type": "execute_result"
    }
   ],
   "source": [
    "Test.head()"
   ]
  },
  {
   "cell_type": "code",
   "execution_count": 65,
   "id": "a7580186",
   "metadata": {},
   "outputs": [],
   "source": [
    "X = Train.drop('COST', axis=1)\n",
    "y = a"
   ]
  },
  {
   "cell_type": "code",
   "execution_count": 109,
   "id": "5b731fc3",
   "metadata": {},
   "outputs": [
    {
     "data": {
      "text/plain": [
       "(10152, 8)"
      ]
     },
     "execution_count": 109,
     "metadata": {},
     "output_type": "execute_result"
    }
   ],
   "source": [
    "X_train.shape"
   ]
  },
  {
   "cell_type": "code",
   "execution_count": 110,
   "id": "178d5666",
   "metadata": {},
   "outputs": [
    {
     "data": {
      "text/plain": [
       "(10152,)"
      ]
     },
     "execution_count": 110,
     "metadata": {},
     "output_type": "execute_result"
    }
   ],
   "source": [
    "y_train.shape"
   ]
  },
  {
   "cell_type": "code",
   "execution_count": 111,
   "id": "23e30a4a",
   "metadata": {},
   "outputs": [
    {
     "data": {
      "text/plain": [
       "(4231, 8)"
      ]
     },
     "execution_count": 111,
     "metadata": {},
     "output_type": "execute_result"
    }
   ],
   "source": [
    "X_test.shape"
   ]
  },
  {
   "cell_type": "code",
   "execution_count": 112,
   "id": "424fe214",
   "metadata": {},
   "outputs": [
    {
     "data": {
      "text/plain": [
       "(2538,)"
      ]
     },
     "execution_count": 112,
     "metadata": {},
     "output_type": "execute_result"
    }
   ],
   "source": [
    "y_test.shape"
   ]
  },
  {
   "cell_type": "code",
   "execution_count": 66,
   "id": "368df33b",
   "metadata": {},
   "outputs": [],
   "source": [
    "from sklearn.linear_model import Ridge"
   ]
  },
  {
   "cell_type": "code",
   "execution_count": 67,
   "id": "fd3512c6",
   "metadata": {},
   "outputs": [
    {
     "data": {
      "text/plain": [
       "Ridge()"
      ]
     },
     "execution_count": 67,
     "metadata": {},
     "output_type": "execute_result"
    }
   ],
   "source": [
    "r = Ridge()\n",
    "r.fit(X, y)"
   ]
  },
  {
   "cell_type": "code",
   "execution_count": 68,
   "id": "43ddc97b",
   "metadata": {},
   "outputs": [
    {
     "data": {
      "text/plain": [
       "array([6.42861949, 6.36301048, 6.44866569, ..., 6.23142637, 6.32598935,\n",
       "       6.45777378])"
      ]
     },
     "execution_count": 68,
     "metadata": {},
     "output_type": "execute_result"
    }
   ],
   "source": [
    "pred = r.predict(X)\n",
    "pred\n"
   ]
  },
  {
   "cell_type": "code",
   "execution_count": 69,
   "id": "7990229a",
   "metadata": {},
   "outputs": [],
   "source": [
    "x_test = Test"
   ]
  },
  {
   "cell_type": "code",
   "execution_count": 70,
   "id": "8191688d",
   "metadata": {},
   "outputs": [],
   "source": [
    "test_pred = r.predict(x_test)"
   ]
  },
  {
   "cell_type": "code",
   "execution_count": 71,
   "id": "110bea4a",
   "metadata": {},
   "outputs": [],
   "source": [
    "## Converting price back to original scale and making it integer\n",
    "Predict=np.exp(test_pred)\n",
    "Predict=Predict.astype(int)"
   ]
  },
  {
   "cell_type": "code",
   "execution_count": 72,
   "id": "ae8ed7ef",
   "metadata": {},
   "outputs": [
    {
     "data": {
      "text/html": [
       "<div>\n",
       "<style scoped>\n",
       "    .dataframe tbody tr th:only-of-type {\n",
       "        vertical-align: middle;\n",
       "    }\n",
       "\n",
       "    .dataframe tbody tr th {\n",
       "        vertical-align: top;\n",
       "    }\n",
       "\n",
       "    .dataframe thead th {\n",
       "        text-align: right;\n",
       "    }\n",
       "</style>\n",
       "<table border=\"1\" class=\"dataframe\">\n",
       "  <thead>\n",
       "    <tr style=\"text-align: right;\">\n",
       "      <th></th>\n",
       "      <th>COST</th>\n",
       "    </tr>\n",
       "  </thead>\n",
       "  <tbody>\n",
       "    <tr>\n",
       "      <th>0</th>\n",
       "      <td>737</td>\n",
       "    </tr>\n",
       "    <tr>\n",
       "      <th>1</th>\n",
       "      <td>408</td>\n",
       "    </tr>\n",
       "    <tr>\n",
       "      <th>2</th>\n",
       "      <td>651</td>\n",
       "    </tr>\n",
       "    <tr>\n",
       "      <th>3</th>\n",
       "      <td>427</td>\n",
       "    </tr>\n",
       "    <tr>\n",
       "      <th>4</th>\n",
       "      <td>377</td>\n",
       "    </tr>\n",
       "    <tr>\n",
       "      <th>...</th>\n",
       "      <td>...</td>\n",
       "    </tr>\n",
       "    <tr>\n",
       "      <th>4226</th>\n",
       "      <td>693</td>\n",
       "    </tr>\n",
       "    <tr>\n",
       "      <th>4227</th>\n",
       "      <td>397</td>\n",
       "    </tr>\n",
       "    <tr>\n",
       "      <th>4228</th>\n",
       "      <td>329</td>\n",
       "    </tr>\n",
       "    <tr>\n",
       "      <th>4229</th>\n",
       "      <td>199</td>\n",
       "    </tr>\n",
       "    <tr>\n",
       "      <th>4230</th>\n",
       "      <td>328</td>\n",
       "    </tr>\n",
       "  </tbody>\n",
       "</table>\n",
       "<p>4231 rows × 1 columns</p>\n",
       "</div>"
      ],
      "text/plain": [
       "      COST\n",
       "0      737\n",
       "1      408\n",
       "2      651\n",
       "3      427\n",
       "4      377\n",
       "...    ...\n",
       "4226   693\n",
       "4227   397\n",
       "4228   329\n",
       "4229   199\n",
       "4230   328\n",
       "\n",
       "[4231 rows x 1 columns]"
      ]
     },
     "execution_count": 72,
     "metadata": {},
     "output_type": "execute_result"
    }
   ],
   "source": [
    "a =pd.DataFrame(Predict, columns=['COST'])\n",
    "a"
   ]
  },
  {
   "cell_type": "code",
   "execution_count": 73,
   "id": "2eea77b6",
   "metadata": {},
   "outputs": [],
   "source": [
    "a.to_excel('cost1.xlsx')"
   ]
  },
  {
   "cell_type": "code",
   "execution_count": 121,
   "id": "51e6eab1",
   "metadata": {},
   "outputs": [],
   "source": [
    "from sklearn.model_selection import train_test_split\n",
    "from sklearn.linear_model import LinearRegression\n",
    "from sklearn.tree import DecisionTreeClassifier\n",
    "from sklearn.metrics import mean_squared_error, r2_score\n",
    "from sklearn.metrics import roc_curve, auc, accuracy_score, confusion_matrix\n",
    "from sklearn.naive_bayes import MultinomialNB\n",
    "from sklearn.ensemble import RandomForestRegressor, GradientBoostingRegressor\n",
    "from sklearn.linear_model import Ridge\n",
    "from sklearn.svm import SVR\n"
   ]
  },
  {
   "cell_type": "code",
   "execution_count": 122,
   "id": "88b888b3",
   "metadata": {},
   "outputs": [],
   "source": [
    "X_train, X_test, y_train, y_test = train_test_split(X, y, test_size=0.2, random_state=42)"
   ]
  },
  {
   "cell_type": "code",
   "execution_count": 93,
   "id": "ac42d285",
   "metadata": {},
   "outputs": [
    {
     "data": {
      "text/plain": [
       "LinearRegression()"
      ]
     },
     "execution_count": 93,
     "metadata": {},
     "output_type": "execute_result"
    }
   ],
   "source": [
    "model = LinearRegression()\n",
    "model.fit(X_train, y_train)"
   ]
  },
  {
   "cell_type": "code",
   "execution_count": 94,
   "id": "f407b905",
   "metadata": {},
   "outputs": [
    {
     "name": "stdout",
     "output_type": "stream",
     "text": [
      "Mean Squared Error: 0.3818801265091046\n",
      "R-squared: 0.26219192848748374\n"
     ]
    }
   ],
   "source": [
    "y_pred = model.predict(X_test)\n",
    "mse = mean_squared_error(y_test, y_pred)\n",
    "r2 = r2_score(y_test, y_pred)\n",
    "print(\"Mean Squared Error:\", mse)\n",
    "print(\"R-squared:\", r2)"
   ]
  },
  {
   "cell_type": "code",
   "execution_count": 97,
   "id": "37eced1c",
   "metadata": {},
   "outputs": [],
   "source": [
    "r = Ridge()"
   ]
  },
  {
   "cell_type": "code",
   "execution_count": 98,
   "id": "bf5ba1aa",
   "metadata": {},
   "outputs": [
    {
     "data": {
      "text/plain": [
       "Ridge()"
      ]
     },
     "execution_count": 98,
     "metadata": {},
     "output_type": "execute_result"
    }
   ],
   "source": [
    "r.fit(X, y)"
   ]
  },
  {
   "cell_type": "code",
   "execution_count": 99,
   "id": "5d419bc8",
   "metadata": {},
   "outputs": [],
   "source": [
    "pred = r.predict(X)"
   ]
  },
  {
   "cell_type": "code",
   "execution_count": 100,
   "id": "e297588e",
   "metadata": {},
   "outputs": [
    {
     "data": {
      "text/plain": [
       "array([6.42861949, 6.36301048, 6.44866569, ..., 6.23142637, 6.32598935,\n",
       "       6.45777378])"
      ]
     },
     "execution_count": 100,
     "metadata": {},
     "output_type": "execute_result"
    }
   ],
   "source": [
    "pred"
   ]
  },
  {
   "cell_type": "code",
   "execution_count": 101,
   "id": "1f9a4c71",
   "metadata": {},
   "outputs": [
    {
     "data": {
      "text/html": [
       "<div>\n",
       "<style scoped>\n",
       "    .dataframe tbody tr th:only-of-type {\n",
       "        vertical-align: middle;\n",
       "    }\n",
       "\n",
       "    .dataframe tbody tr th {\n",
       "        vertical-align: top;\n",
       "    }\n",
       "\n",
       "    .dataframe thead th {\n",
       "        text-align: right;\n",
       "    }\n",
       "</style>\n",
       "<table border=\"1\" class=\"dataframe\">\n",
       "  <thead>\n",
       "    <tr style=\"text-align: right;\">\n",
       "      <th></th>\n",
       "      <th>COST</th>\n",
       "    </tr>\n",
       "  </thead>\n",
       "  <tbody>\n",
       "    <tr>\n",
       "      <th>0</th>\n",
       "      <td>737</td>\n",
       "    </tr>\n",
       "    <tr>\n",
       "      <th>1</th>\n",
       "      <td>408</td>\n",
       "    </tr>\n",
       "    <tr>\n",
       "      <th>2</th>\n",
       "      <td>651</td>\n",
       "    </tr>\n",
       "    <tr>\n",
       "      <th>3</th>\n",
       "      <td>427</td>\n",
       "    </tr>\n",
       "    <tr>\n",
       "      <th>4</th>\n",
       "      <td>377</td>\n",
       "    </tr>\n",
       "    <tr>\n",
       "      <th>...</th>\n",
       "      <td>...</td>\n",
       "    </tr>\n",
       "    <tr>\n",
       "      <th>4226</th>\n",
       "      <td>693</td>\n",
       "    </tr>\n",
       "    <tr>\n",
       "      <th>4227</th>\n",
       "      <td>397</td>\n",
       "    </tr>\n",
       "    <tr>\n",
       "      <th>4228</th>\n",
       "      <td>329</td>\n",
       "    </tr>\n",
       "    <tr>\n",
       "      <th>4229</th>\n",
       "      <td>199</td>\n",
       "    </tr>\n",
       "    <tr>\n",
       "      <th>4230</th>\n",
       "      <td>328</td>\n",
       "    </tr>\n",
       "  </tbody>\n",
       "</table>\n",
       "<p>4231 rows × 1 columns</p>\n",
       "</div>"
      ],
      "text/plain": [
       "      COST\n",
       "0      737\n",
       "1      408\n",
       "2      651\n",
       "3      427\n",
       "4      377\n",
       "...    ...\n",
       "4226   693\n",
       "4227   397\n",
       "4228   329\n",
       "4229   199\n",
       "4230   328\n",
       "\n",
       "[4231 rows x 1 columns]"
      ]
     },
     "execution_count": 101,
     "metadata": {},
     "output_type": "execute_result"
    }
   ],
   "source": [
    "X_test= Test\n",
    "test_pred = r.predict(x_test)\n",
    "# Converting price back to original scale and making it integer\n",
    "Predict=np.exp(test_pred)\n",
    "Predict=Predict.astype(int)\n",
    "a =pd.DataFrame(Predict, columns=['COST'])\n",
    "a"
   ]
  },
  {
   "cell_type": "code",
   "execution_count": 103,
   "id": "bcce8cc0",
   "metadata": {},
   "outputs": [
    {
     "data": {
      "text/plain": [
       "RandomForestRegressor(random_state=42)"
      ]
     },
     "execution_count": 103,
     "metadata": {},
     "output_type": "execute_result"
    }
   ],
   "source": [
    "rf_regressor = RandomForestRegressor(n_estimators = 100, random_state = 42)\n",
    "rf_regressor.fit(X_train, y_train)\n",
    "\n"
   ]
  },
  {
   "cell_type": "code",
   "execution_count": 105,
   "id": "b3b60979",
   "metadata": {},
   "outputs": [],
   "source": [
    "y_pred = rf_regressor.predict(X_test)"
   ]
  },
  {
   "cell_type": "code",
   "execution_count": 113,
   "id": "93377400",
   "metadata": {},
   "outputs": [],
   "source": [
    "#Remove extra samples from X_test and y_test\n",
    "X_test = X_test[:len(y_test)]\n",
    "y_test = y_test[:len(X_test)]\n"
   ]
  },
  {
   "cell_type": "code",
   "execution_count": 114,
   "id": "982c2e75",
   "metadata": {},
   "outputs": [
    {
     "name": "stdout",
     "output_type": "stream",
     "text": [
      "X_test shape: (2538, 8)\n",
      "y_test shape: (2538,)\n"
     ]
    }
   ],
   "source": [
    "print(\"X_test shape:\", X_test.shape)\n",
    "print(\"y_test shape:\", y_test.shape)"
   ]
  },
  {
   "cell_type": "code",
   "execution_count": 116,
   "id": "617818bc",
   "metadata": {},
   "outputs": [],
   "source": [
    "y_pred = rf_regressor.predict(X_test)"
   ]
  },
  {
   "cell_type": "code",
   "execution_count": 117,
   "id": "2bb6382b",
   "metadata": {},
   "outputs": [],
   "source": [
    "mse = mean_squared_error(y_test, y_pred)\n",
    "r2 = r2_score(y_test, y_pred)"
   ]
  },
  {
   "cell_type": "code",
   "execution_count": 118,
   "id": "78e86cbf",
   "metadata": {},
   "outputs": [
    {
     "name": "stdout",
     "output_type": "stream",
     "text": [
      "Mean Squared Error: 0.8743738489564278\n",
      "R-squared: -0.6893261484350577\n"
     ]
    }
   ],
   "source": [
    "print(\"Mean Squared Error:\", mse)\n",
    "print(\"R-squared:\", r2)"
   ]
  },
  {
   "cell_type": "code",
   "execution_count": 119,
   "id": "084b31b6",
   "metadata": {},
   "outputs": [
    {
     "name": "stdout",
     "output_type": "stream",
     "text": [
      "Mean Squared Error: 0.8097494676804033\n"
     ]
    }
   ],
   "source": [
    "gb_regressor = GradientBoostingRegressor(n_estimators=100, learning_rate=0.1, max_depth=3, random_state=42)\n",
    "gb_regressor.fit(X_train, y_train)\n",
    "\n",
    "# Make predictions\n",
    "y_pred = gb_regressor.predict(X_test)\n",
    "\n",
    "# Evaluate the model\n",
    "mse = mean_squared_error(y_test, y_pred)\n",
    "print(\"Mean Squared Error:\", mse)"
   ]
  },
  {
   "cell_type": "code",
   "execution_count": 123,
   "id": "a5de8315",
   "metadata": {},
   "outputs": [
    {
     "name": "stdout",
     "output_type": "stream",
     "text": [
      "Mean Squared Error: 0.378110553711506\n"
     ]
    }
   ],
   "source": [
    "svm_regressor = SVR(kernel='rbf', C=1.0, epsilon=0.1)\n",
    "svm_regressor.fit(X_train, y_train)\n",
    "\n",
    "# Make predictions\n",
    "y_pred = svm_regressor.predict(X_test)\n",
    "\n",
    "# Evaluate the model\n",
    "mse = mean_squared_error(y_test, y_pred)\n",
    "print(\"Mean Squared Error:\", mse)"
   ]
  },
  {
   "cell_type": "markdown",
   "id": "2ee780ea",
   "metadata": {},
   "source": [
    "Random Forest Regressor shows the highest cost value is 87.5 approx. "
   ]
  }
 ],
 "metadata": {
  "kernelspec": {
   "display_name": "Python 3 (ipykernel)",
   "language": "python",
   "name": "python3"
  },
  "language_info": {
   "codemirror_mode": {
    "name": "ipython",
    "version": 3
   },
   "file_extension": ".py",
   "mimetype": "text/x-python",
   "name": "python",
   "nbconvert_exporter": "python",
   "pygments_lexer": "ipython3",
   "version": "3.9.13"
  }
 },
 "nbformat": 4,
 "nbformat_minor": 5
}
