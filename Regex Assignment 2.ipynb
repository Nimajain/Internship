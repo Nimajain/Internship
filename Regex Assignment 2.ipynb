{
 "cells": [
  {
   "cell_type": "markdown",
   "id": "293f2965",
   "metadata": {},
   "source": [
    "# REGULAR EXPRESSION"
   ]
  },
  {
   "cell_type": "markdown",
   "id": "10057855",
   "metadata": {},
   "source": [
    "Q1- Write a Python program to replace all occurrences of a space, comma, or dot with a colon."
   ]
  },
  {
   "cell_type": "code",
   "execution_count": 2,
   "id": "aea4d912",
   "metadata": {},
   "outputs": [
    {
     "name": "stdout",
     "output_type": "stream",
     "text": [
      "Original String: Data Science and Machine Learning .\n",
      "Result String: Data:Science:and:Machine:Learning::\n"
     ]
    }
   ],
   "source": [
    "def replace_chars(input_string):\n",
    "    \n",
    "    chars_to_replace = [' ', ',', '.']\n",
    "\n",
    "    for char in chars_to_replace:\n",
    "        input_string = input_string.replace(char, ':')\n",
    "\n",
    "    return input_string\n",
    "\n",
    "\n",
    "input_string = \"Data Science and Machine Learning .\"\n",
    "result_string = replace_chars(input_string)\n",
    "\n",
    "print(\"Original String:\", input_string)\n",
    "print(\"Result String:\", result_string)\n"
   ]
  },
  {
   "cell_type": "markdown",
   "id": "5a7376fe",
   "metadata": {},
   "source": [
    "Q2.Create a dataframe using the dictionary below and remove everything (commas (,), !, XXXX, ;, etc.) from the columns except words.\n",
    "Dictionary- {'SUMMARY' : ['hello, world!', 'XXXXX test', '123four, five:; six...']}\n"
   ]
  },
  {
   "cell_type": "code",
   "execution_count": 3,
   "id": "9245e44e",
   "metadata": {},
   "outputs": [
    {
     "name": "stdout",
     "output_type": "stream",
     "text": [
      "               SUMMARY\n",
      "0          hello world\n",
      "1                 test\n",
      "2  123four five six...\n"
     ]
    }
   ],
   "source": [
    "import pandas as pd\n",
    "import re\n",
    "\n",
    "data = {'SUMMARY': ['hello, world!', 'XXXXX test', '123four, five:; six...']}\n",
    "df = pd.DataFrame(data)\n",
    "\n",
    "\n",
    "def remove_unwanted_chars(text):\n",
    "    \n",
    "    cleaned_text = re.sub(r'[,\\!;:X]+', '', text)\n",
    "    \n",
    "    cleaned_text = ' '.join(cleaned_text.split())\n",
    "    return cleaned_text\n",
    "\n",
    "\n",
    "df['SUMMARY'] = df['SUMMARY'].apply(remove_unwanted_chars)\n",
    "\n",
    "\n",
    "print(df)\n"
   ]
  },
  {
   "cell_type": "markdown",
   "id": "7d21d9cc",
   "metadata": {},
   "source": [
    "Q3.Create a function in python to find all words that are at least 4 characters long in a string. The use of the re.compile() method is mandatory."
   ]
  },
  {
   "cell_type": "code",
   "execution_count": 4,
   "id": "a7687899",
   "metadata": {},
   "outputs": [
    {
     "name": "stdout",
     "output_type": "stream",
     "text": [
      "Words with at least 4 characters: ['This', 'sample', 'string', 'with', 'words', 'various', 'lengths']\n"
     ]
    }
   ],
   "source": [
    "import re\n",
    "\n",
    "def find_long_words(input_string):\n",
    "    \n",
    "    pattern = re.compile(r'\\b\\w{4,}\\b')\n",
    "    \n",
    "    matches = pattern.findall(input_string)\n",
    "    \n",
    "    return matches\n",
    "\n",
    "\n",
    "input_string = \"This is a sample string with words of various lengths.\"\n",
    "\n",
    "result = find_long_words(input_string)\n",
    "\n",
    "print(\"Words with at least 4 characters:\", result)\n"
   ]
  },
  {
   "cell_type": "markdown",
   "id": "5e604d2c",
   "metadata": {},
   "source": [
    "Q4.Create a function in python to find all three, four, and five character words in a string. The use of the re.compile() method is mandatory."
   ]
  },
  {
   "cell_type": "code",
   "execution_count": 5,
   "id": "203e7183",
   "metadata": {},
   "outputs": [
    {
     "name": "stdout",
     "output_type": "stream",
     "text": [
      "Words with lengths 3, 4, or 5 characters: ['This', 'with', 'words']\n"
     ]
    }
   ],
   "source": [
    "import re\n",
    "\n",
    "def find_words_by_length(input_string):\n",
    "    \n",
    "    pattern = re.compile(r'\\b\\w{3,5}\\b')\n",
    "    \n",
    "    matches = pattern.findall(input_string)\n",
    "    \n",
    "    return matches\n",
    "\n",
    "input_string = \"This is a sample string with words of various lengths.\"\n",
    "\n",
    "result = find_words_by_length(input_string)\n",
    "\n",
    "print(\"Words with lengths 3, 4, or 5 characters:\", result)\n"
   ]
  },
  {
   "cell_type": "markdown",
   "id": "1a804fae",
   "metadata": {},
   "source": [
    "Q5.Create a function in Python to remove the parenthesis in a list of strings. The use of the re.compile() method is mandatory."
   ]
  },
  {
   "cell_type": "code",
   "execution_count": 6,
   "id": "de6427f1",
   "metadata": {},
   "outputs": [
    {
     "name": "stdout",
     "output_type": "stream",
     "text": [
      "Strings without parentheses: ['Hello !', 'Python  is fun.', 'Remove  from .']\n"
     ]
    }
   ],
   "source": [
    "import re\n",
    "\n",
    "def remove_parentheses(strings_list):\n",
    "    \n",
    "    pattern = re.compile(r'\\([^)]*\\)')\n",
    "    \n",
    "    cleaned_list = [pattern.sub('', s) for s in strings_list]\n",
    "    \n",
    "    return cleaned_list\n",
    "\n",
    "strings_list = [\"Hello (world)!\", \"Python (programming) is fun.\", \"Remove (parentheses) from (strings).\"]\n",
    "\n",
    "\n",
    "result = remove_parentheses(strings_list)\n",
    "\n",
    "print(\"Strings without parentheses:\", result)\n"
   ]
  },
  {
   "cell_type": "markdown",
   "id": "ec64674b",
   "metadata": {},
   "source": [
    "Q6. Write a python program to remove the parenthesis area from the text stored in the text file using Regular Expression."
   ]
  },
  {
   "cell_type": "code",
   "execution_count": 7,
   "id": "7aed2539",
   "metadata": {},
   "outputs": [
    {
     "name": "stdout",
     "output_type": "stream",
     "text": [
      "Modified Text:\n",
      " example \n",
      "hr@fliprobo \n",
      "github \n",
      "Hello \n",
      "Data \n",
      "\n"
     ]
    }
   ],
   "source": [
    "import re\n",
    "\n",
    "def remove_parentheses_from_file(input_file, output_file):\n",
    "    \n",
    "    with open(input_file, 'r') as file:\n",
    "        content = file.read()\n",
    "\n",
    "    pattern = re.compile(r'\\([^)]*\\)')\n",
    "\n",
    "    cleaned_content = pattern.sub('', content)\n",
    "\n",
    "    with open(output_file, 'w') as file:\n",
    "        file.write(cleaned_content)\n",
    "\n",
    "sample_text = [\"example (.com)\", \"hr@fliprobo (.com)\", \"github (.com)\", \"Hello (Data Science World)\", \"Data (Scientist)\"]\n",
    "\n",
    "\n",
    "input_file_path = 'sample_text.txt'\n",
    "with open(input_file_path, 'w') as file:\n",
    "    for line in sample_text:\n",
    "        file.write(line + '\\n')\n",
    "\n",
    "output_file_path = 'output_text.txt'\n",
    "remove_parentheses_from_file(input_file_path, output_file_path)\n",
    "\n",
    "\n",
    "with open(output_file_path, 'r') as file:\n",
    "    modified_text = file.read()\n",
    "    print(\"Modified Text:\\n\", modified_text)\n"
   ]
  },
  {
   "cell_type": "markdown",
   "id": "4e7f38c7",
   "metadata": {},
   "source": [
    "Q7. Write a regular expression in Python to split a string into uppercase letters.\n",
    "\n"
   ]
  },
  {
   "cell_type": "code",
   "execution_count": 8,
   "id": "2f6bc778",
   "metadata": {},
   "outputs": [],
   "source": [
    "\n",
    "import re\n",
    "def split_the_string_uppercase(string):\n",
    "    pattern=r'(?=[A-Z])'\n",
    "    \n",
    "    result= re.split(pattern,string)\n",
    "    return result"
   ]
  },
  {
   "cell_type": "code",
   "execution_count": 11,
   "id": "6b694b91",
   "metadata": {},
   "outputs": [
    {
     "name": "stdout",
     "output_type": "stream",
     "text": [
      "['', 'Hello', 'Data', 'Trained', 'World']\n"
     ]
    }
   ],
   "source": [
    "\n",
    "text_string='HelloDataTrainedWorld'\n",
    "split_result=split_the_string_uppercase(text_string)\n",
    "print(split_result)"
   ]
  },
  {
   "cell_type": "markdown",
   "id": "44c4b5a5",
   "metadata": {},
   "source": [
    "Q8.Create a function in python to insert spaces between words starting with numbers.\n"
   ]
  },
  {
   "cell_type": "code",
   "execution_count": 13,
   "id": "385133c8",
   "metadata": {},
   "outputs": [
    {
     "name": "stdout",
     "output_type": "stream",
     "text": [
      "Modified Text: RegularExpression 1IsAn 2ImportantTopic 3InPython\n"
     ]
    }
   ],
   "source": [
    "import re\n",
    "\n",
    "def insert_spaces_before_numbers(text):\n",
    "\n",
    "    modified_text = re.sub(r'(?<=[^\\d\\s])\\d', ' \\\\g<0>', text)\n",
    "\n",
    "    return modified_text\n",
    "\n",
    "sample_text = \"RegularExpression1IsAn2ImportantTopic3InPython\"\n",
    "\n",
    "result = insert_spaces_before_numbers(sample_text)\n",
    "\n",
    "print(\"Modified Text:\", result)\n"
   ]
  },
  {
   "cell_type": "markdown",
   "id": "673ec269",
   "metadata": {},
   "source": [
    "Q9.Create a function in python to insert spaces between words starting with capital letters or with numbers.\n",
    "\n"
   ]
  },
  {
   "cell_type": "code",
   "execution_count": 16,
   "id": "bc4e4307",
   "metadata": {},
   "outputs": [
    {
     "name": "stdout",
     "output_type": "stream",
     "text": [
      "Modified Text: Regular Expression 1Is An 2Important Topic 3In Python\n"
     ]
    }
   ],
   "source": [
    "import re\n",
    "\n",
    "def insert_spaces_before_capitals_and_numbers(text):\n",
    "    \n",
    "    modified_text = re.sub(r'(?<=[^\\d\\sA-Z])[A-Z\\d]', ' \\\\g<0>', text)\n",
    "\n",
    "    return modified_text\n",
    "\n",
    "sample_text = \"RegularExpression1IsAn2ImportantTopic3InPython\"\n",
    "\n",
    "result = insert_spaces_before_capitals_and_numbers(sample_text)\n",
    "\n",
    "print(\"Modified Text:\", result)\n"
   ]
  },
  {
   "cell_type": "markdown",
   "id": "db37a820",
   "metadata": {},
   "source": [
    "Q10.Use the github link below to read the data and create a dataframe. After creating the dataframe extract the first 6 letters of each country and store in the dataframe under a new column called first_five_letters."
   ]
  },
  {
   "cell_type": "code",
   "execution_count": 15,
   "id": "53f255a4",
   "metadata": {},
   "outputs": [
    {
     "name": "stdout",
     "output_type": "stream",
     "text": [
      "Original DataFrame:\n",
      "       Country          Region  Happiness Rank  Happiness Score  \\\n",
      "0  Switzerland  Western Europe               1            7.587   \n",
      "1      Iceland  Western Europe               2            7.561   \n",
      "2      Denmark  Western Europe               3            7.527   \n",
      "3       Norway  Western Europe               4            7.522   \n",
      "4       Canada   North America               5            7.427   \n",
      "\n",
      "   Standard Error  Economy (GDP per Capita)   Family  \\\n",
      "0         0.03411                   1.39651  1.34951   \n",
      "1         0.04884                   1.30232  1.40223   \n",
      "2         0.03328                   1.32548  1.36058   \n",
      "3         0.03880                   1.45900  1.33095   \n",
      "4         0.03553                   1.32629  1.32261   \n",
      "\n",
      "   Health (Life Expectancy)  Freedom  Trust (Government Corruption)  \\\n",
      "0                   0.94143  0.66557                        0.41978   \n",
      "1                   0.94784  0.62877                        0.14145   \n",
      "2                   0.87464  0.64938                        0.48357   \n",
      "3                   0.88521  0.66973                        0.36503   \n",
      "4                   0.90563  0.63297                        0.32957   \n",
      "\n",
      "   Generosity  Dystopia Residual  \n",
      "0     0.29678            2.51738  \n",
      "1     0.43630            2.70201  \n",
      "2     0.34139            2.49204  \n",
      "3     0.34699            2.46531  \n",
      "4     0.45811            2.45176  \n",
      "\n",
      "DataFrame with 'first_five_letters' column:\n",
      "       Country          Region  Happiness Rank  Happiness Score  \\\n",
      "0  Switzerland  Western Europe               1            7.587   \n",
      "1      Iceland  Western Europe               2            7.561   \n",
      "2      Denmark  Western Europe               3            7.527   \n",
      "3       Norway  Western Europe               4            7.522   \n",
      "4       Canada   North America               5            7.427   \n",
      "\n",
      "   Standard Error  Economy (GDP per Capita)   Family  \\\n",
      "0         0.03411                   1.39651  1.34951   \n",
      "1         0.04884                   1.30232  1.40223   \n",
      "2         0.03328                   1.32548  1.36058   \n",
      "3         0.03880                   1.45900  1.33095   \n",
      "4         0.03553                   1.32629  1.32261   \n",
      "\n",
      "   Health (Life Expectancy)  Freedom  Trust (Government Corruption)  \\\n",
      "0                   0.94143  0.66557                        0.41978   \n",
      "1                   0.94784  0.62877                        0.14145   \n",
      "2                   0.87464  0.64938                        0.48357   \n",
      "3                   0.88521  0.66973                        0.36503   \n",
      "4                   0.90563  0.63297                        0.32957   \n",
      "\n",
      "   Generosity  Dystopia Residual first_five_letters  \n",
      "0     0.29678            2.51738             Switze  \n",
      "1     0.43630            2.70201             Icelan  \n",
      "2     0.34139            2.49204             Denmar  \n",
      "3     0.34699            2.46531             Norway  \n",
      "4     0.45811            2.45176             Canada  \n"
     ]
    }
   ],
   "source": [
    "import pandas as pd\n",
    "\n",
    "# GitHub link to the dataset\n",
    "github_link = \"https://raw.githubusercontent.com/dsrscientist/DSData/master/happiness_score_dataset.csv\"\n",
    "\n",
    "df = pd.read_csv(github_link)\n",
    "\n",
    "print(\"Original DataFrame:\")\n",
    "print(df.head())\n",
    "\n",
    "df['first_five_letters'] = df['Country'].str[:6]\n",
    "\n",
    "print(\"\\nDataFrame with 'first_five_letters' column:\")\n",
    "print(df.head())\n"
   ]
  },
  {
   "cell_type": "code",
   "execution_count": null,
   "id": "d1563aa6",
   "metadata": {},
   "outputs": [],
   "source": []
  }
 ],
 "metadata": {
  "kernelspec": {
   "display_name": "Python 3 (ipykernel)",
   "language": "python",
   "name": "python3"
  },
  "language_info": {
   "codemirror_mode": {
    "name": "ipython",
    "version": 3
   },
   "file_extension": ".py",
   "mimetype": "text/x-python",
   "name": "python",
   "nbconvert_exporter": "python",
   "pygments_lexer": "ipython3",
   "version": "3.9.13"
  }
 },
 "nbformat": 4,
 "nbformat_minor": 5
}
